{
 "cells": [
  {
   "cell_type": "markdown",
   "metadata": {},
   "source": [
    "## Title :\n",
    "Exercise: Best Degree of Polynomial using Cross-validation\n",
    "\n",
    "## Description :\n",
    "The aim of this exercise is to find the **best degree** of polynomial based on the MSE values. Further, plot the train and cross-validation error graphs as shown below.\n",
    "\n",
    "<img src=\"../fig/fig1.png\" style=\"width: 500px;\">\n",
    "\n",
    "## Data Description:\n",
    "\n",
    "## Instructions:\n",
    "\n",
    "- Read the dataset and split into train and validation sets.\n",
    "- Select a max degree value for the polynomial model.\n",
    "- For each degree:\n",
    "    - Perform k-fold cross validation\n",
    "    - Fit a polynomial regression model for each degree on the training data and predict on the validation data\n",
    "- Compute the train, validation and cross-validation error as MSE values and store them in separate lists.\n",
    "- Print the best degree of the model for both validation and cross-validation approaches.\n",
    "- Plot the train and cross-validation errors for each degree.\n",
    "\n",
    "## Hints: \n",
    "\n",
    "<a href=\"https://pandas.pydata.org/pandas-docs/stable/reference/api/pandas.read_csv.html\" target=\"_blank\"></a>pd.read_csv(filename)</a>\n",
    "Returns a pandas dataframe containing the data and labels from the file data.\n",
    "\n",
    "<a href=\"https://scikit-learn.org/stable/modules/generated/sklearn.model_selection.train_test_split.html\" target=\"_blank\">sklearn.train_test_split()</a>\n",
    "Splits the data into random train and test subsets.\n",
    "\n",
    "<a href=\"https://scikit-learn.org/stable/modules/generated/sklearn.preprocessing.PolynomialFeatures.html\" target=\"_blank\">sklearn.PolynomialFeatures()</a>\n",
    "Generates a new feature matrix consisting of all polynomial combinations of the features with degree less than or equal to the specified degree.\n",
    "\n",
    "<a href=\"https://scikit-learn.org/stable/modules/generated/sklearn.model_selection.cross_validate.html\" target=\"_blank\">sklearn.cross_validate()</a>\n",
    "Evaluate metric(s) by cross-validation and also record fit/score times.\n",
    "\n",
    "<img src=\"../fig/fig2.png\" style=\"width: 500px;\">\n",
    "\n",
    "\n",
    "<a href=\"https://scikit-learn.org/stable/modules/generated/sklearn.preprocessing.StandardScaler.html\" target=\"_blank\">sklearn.fit_transform()</a>\n",
    "Fits transformer to X and y with optional parameters fit_params and returns a transformed version of X.\n",
    "\n",
    "<a href=\"https://scikit-learn.org/stable/modules/generated/sklearn.linear_model.LinearRegression.html\" target=\"_blank\">sklearn.LinearRegression(fit_intercept=False)</a>\n",
    "LinearRegression fits a linear model.\n",
    "\n",
    "<a href=\"https://scikit-learn.org/stable/modules/generated/sklearn.linear_model.LinearRegression.html#sklearn.linear_model.LinearRegression.fit\" target=\"_blank\">sklearn.fit()</a>\n",
    "Fits the linear model to the training data.\n",
    "\n",
    "<a href=\"https://scikit-learn.org/stable/modules/generated/sklearn.linear_model.LinearRegression.html#sklearn.linear_model.LinearRegression.predict\" target=\"_blank\">sklearn.predict()</a>\n",
    "Predict using the linear model.\n",
    "\n",
    "<a href=\"https://matplotlib.org/3.2.1/api/_as_gen/matplotlib.pyplot.subplots.html\" target=\"_blank\">plt.subplots()</a>\n",
    "Create a figure and a set of subplots.\n",
    "\n",
    "<a href=\"https://docs.python.org/3/library/operator.html\" target=\"_blank\">operator.itemgetter()</a>\n",
    "Return a callable object that fetches item from its operand.\n",
    "\n",
    "<a href=\"https://docs.python.org/3.3/library/functions.html#zip\" target=\"_blank\">zip()</a>\n",
    "Makes an iterator that aggregates elements from each of the iterables.\n",
    "\n",
    "**Note:** This exercise is auto-graded and you can try multiple attempts."
   ]
  },
  {
   "cell_type": "code",
   "execution_count": 1,
   "metadata": {
    "collapsed": true
   },
   "outputs": [],
   "source": [
    "# Import necessary libraries\n",
    "%matplotlib inline\n",
    "import operator\n",
    "import numpy as np\n",
    "import pandas as pd\n",
    "import matplotlib.pyplot as plt\n",
    "from sklearn.metrics import mean_squared_error\n",
    "from sklearn.linear_model import LinearRegression\n",
    "from sklearn.model_selection import cross_validate\n",
    "from sklearn.model_selection import train_test_split\n",
    "from sklearn.preprocessing import PolynomialFeatures\n"
   ]
  },
  {
   "cell_type": "markdown",
   "metadata": {},
   "source": [
    "### Reading the dataset"
   ]
  },
  {
   "cell_type": "code",
   "execution_count": 2,
   "metadata": {
    "collapsed": true
   },
   "outputs": [],
   "source": [
    "# Read the file \"dataset.csv\" as a Pandas dataframe \n",
    "df = pd.read_csv(\"C:\\\\Users\\\\Araceli\\\\OneDrive - ETH Zurich\\\\Documentos\\\\ARACELI OTROS\\\\GitHub\\\\2021-CS109A\\\\content\\\\lectures\\\\lecture05\\\\data\\\\dataset.csv\")\n"
   ]
  },
  {
   "cell_type": "code",
   "execution_count": 3,
   "metadata": {
    "collapsed": true
   },
   "outputs": [],
   "source": [
    "# Assign the values of column x as the predictor\n",
    "x = df[['x']].values\n",
    "\n",
    "# Assign the values of column y as the response variable\n",
    "y = df.y.values\n"
   ]
  },
  {
   "cell_type": "markdown",
   "metadata": {},
   "source": [
    "### Train-validation split"
   ]
  },
  {
   "cell_type": "code",
   "execution_count": 4,
   "metadata": {
    "collapsed": true
   },
   "outputs": [],
   "source": [
    "### edTest(test_random) ###\n",
    "# Split the data into train and validation sets with 75% for training \n",
    "# and with a random_state=1\n",
    "x_train, x_val, y_train, y_val = train_test_split(x,y,train_size=0.75, random_state=1)\n"
   ]
  },
  {
   "cell_type": "markdown",
   "metadata": {},
   "source": [
    "### Computing the MSE"
   ]
  },
  {
   "cell_type": "code",
   "execution_count": 10,
   "metadata": {},
   "outputs": [],
   "source": [
    "### edTest(test_regression) ###\n",
    "\n",
    "# To iterate over the range, select the maximum degree of the polynomial\n",
    "maxdeg = 10\n",
    "\n",
    "# Create three empty lists to store training, validation and cross-validation MSEs\n",
    "training_error, validation_error, cross_validation_error = [],[],[]\n",
    "\n",
    "# Loop through the degrees of the polynomial\n",
    "for d in range(maxdeg):\n",
    "    \n",
    "    # Compute the polynomial features for the entire data\n",
    "    x_poly = PolynomialFeatures(degree=d).fit_transform(x)\n",
    "\n",
    "    # Compute the polynomial features for the train data\n",
    "    x_poly_train = PolynomialFeatures(degree=d).fit_transform(x_train)\n",
    "\n",
    "    # Compute the polynomial features for the validation data\n",
    "    x_poly_val = PolynomialFeatures(degree=d).fit_transform(x_val)\n",
    "\n",
    "    # Initialize a Linear Regression object\n",
    "    lreg = LinearRegression(fit_intercept=False)\n",
    "  \n",
    "    # Fit model on the training set\n",
    "    lreg.fit(x_poly_train, y_train)\n",
    "\n",
    "    # Predict on the training data\n",
    "    y_train_pred = lreg.predict(x_poly_train)\n",
    "\n",
    "    # Predict on the validation set\n",
    "    y_val_pred = lreg.predict(x_poly_val)\n",
    "    \n",
    "    # Compute the mse on the train data\n",
    "    training_error.append(mean_squared_error(y_train, y_train_pred))\n",
    "\n",
    "    # Compute the mse on the validation data\n",
    "    validation_error.append(mean_squared_error(y_val, y_val_pred))\n",
    "    \n",
    "    # Perform cross-validation on the entire data with 10 folds and \n",
    "    # get the mse_scores\n",
    "    mse_score = cross_validate(lreg, x, y, scoring='neg_mean_squared_error', cv=10, return_train_score=True)\n",
    "\n",
    "    # Compute the mean of the cross validation error and store in list \n",
    "    # Remember to take into account the sign of the MSE metric returned by the cross_validate function \n",
    "    cross_validation_error.append(mse_score)\n",
    "\n",
    "    "
   ]
  },
  {
   "cell_type": "code",
   "execution_count": 18,
   "metadata": {},
   "outputs": [
    {
     "ename": "TypeError",
     "evalue": "'<' not supported between instances of 'dict' and 'dict'",
     "output_type": "error",
     "traceback": [
      "\u001b[1;31m---------------------------------------------------------------------------\u001b[0m",
      "\u001b[1;31mTypeError\u001b[0m                                 Traceback (most recent call last)",
      "Cell \u001b[1;32mIn[18], line 1\u001b[0m\n\u001b[1;32m----> 1\u001b[0m \u001b[39mtype\u001b[39m(\u001b[39mmin\u001b[39;49m(cross_validation_error))\n",
      "\u001b[1;31mTypeError\u001b[0m: '<' not supported between instances of 'dict' and 'dict'"
     ]
    }
   ],
   "source": [
    "type(min(cross_validation_error))"
   ]
  },
  {
   "cell_type": "markdown",
   "metadata": {},
   "source": [
    "### Finding the best degree"
   ]
  },
  {
   "cell_type": "code",
   "execution_count": 23,
   "metadata": {},
   "outputs": [
    {
     "ename": "TypeError",
     "evalue": "'<' not supported between instances of 'dict' and 'dict'",
     "output_type": "error",
     "traceback": [
      "\u001b[1;31m---------------------------------------------------------------------------\u001b[0m",
      "\u001b[1;31mTypeError\u001b[0m                                 Traceback (most recent call last)",
      "Cell \u001b[1;32mIn[23], line 9\u001b[0m\n\u001b[0;32m      5\u001b[0m best_degree \u001b[39m=\u001b[39m validation_error\u001b[39m.\u001b[39mindex(min_mse)\n\u001b[0;32m      8\u001b[0m \u001b[39m# Get the best degree associated with the lowest cross-validation error\u001b[39;00m\n\u001b[1;32m----> 9\u001b[0m min_cross_val_mse \u001b[39m=\u001b[39m \u001b[39mmin\u001b[39;49m(cross_validation_error)\n\u001b[0;32m     10\u001b[0m best_cross_val_degree \u001b[39m=\u001b[39m cross_validation_error\u001b[39m.\u001b[39mindex(min_cross_val_mse)\n\u001b[0;32m     12\u001b[0m \u001b[39m# Print the values\u001b[39;00m\n",
      "\u001b[1;31mTypeError\u001b[0m: '<' not supported between instances of 'dict' and 'dict'"
     ]
    }
   ],
   "source": [
    "### edTest(test_best_degree) ###\n",
    "\n",
    "# Get the best degree associated with the lowest validation error\n",
    "min_mse = min(validation_error)\n",
    "best_degree = validation_error.index(min_mse)\n",
    "\n",
    "\n",
    "# Get the best degree associated with the lowest cross-validation error\n",
    "min_cross_val_mse = min(cross_validation_error)\n",
    "best_cross_val_degree = cross_validation_error.index(min_cross_val_mse)\n",
    "\n",
    "# Print the values\n",
    "print(\"The best degree of the model using validation is\",best_degree)\n",
    "print(\"The best degree of the model using cross-validation is\",best_cross_val_degree)\n"
   ]
  },
  {
   "cell_type": "markdown",
   "metadata": {},
   "source": [
    "### Plotting the error graph"
   ]
  },
  {
   "cell_type": "code",
   "execution_count": 9,
   "metadata": {},
   "outputs": [
    {
     "ename": "TypeError",
     "evalue": "loop of ufunc does not support argument 0 of type dict which has no callable log method",
     "output_type": "error",
     "traceback": [
      "\u001b[1;31m---------------------------------------------------------------------------\u001b[0m",
      "\u001b[1;31mAttributeError\u001b[0m                            Traceback (most recent call last)",
      "\u001b[1;31mAttributeError\u001b[0m: 'dict' object has no attribute 'log'",
      "\nThe above exception was the direct cause of the following exception:\n",
      "\u001b[1;31mTypeError\u001b[0m                                 Traceback (most recent call last)",
      "Cell \u001b[1;32mIn[9], line 14\u001b[0m\n\u001b[0;32m     11\u001b[0m ax[\u001b[39m1\u001b[39m]\u001b[39m.\u001b[39mplot(\u001b[39mrange\u001b[39m(maxdeg), np\u001b[39m.\u001b[39mlog(training_error), label \u001b[39m=\u001b[39m \u001b[39m'\u001b[39m\u001b[39mTraining error\u001b[39m\u001b[39m'\u001b[39m, linewidth\u001b[39m=\u001b[39m\u001b[39m3\u001b[39m, color\u001b[39m=\u001b[39m\u001b[39m'\u001b[39m\u001b[39m#FF7E79\u001b[39m\u001b[39m'\u001b[39m, alpha\u001b[39m=\u001b[39m\u001b[39m0.4\u001b[39m)\n\u001b[0;32m     13\u001b[0m \u001b[39m# Plot the cross-validation error with labels\u001b[39;00m\n\u001b[1;32m---> 14\u001b[0m ax[\u001b[39m1\u001b[39m]\u001b[39m.\u001b[39mplot(\u001b[39mrange\u001b[39m(maxdeg), np\u001b[39m.\u001b[39;49mlog(cross_validation_error), label \u001b[39m=\u001b[39m \u001b[39m'\u001b[39m\u001b[39mCross-Validation error\u001b[39m\u001b[39m'\u001b[39m, linewidth\u001b[39m=\u001b[39m\u001b[39m3\u001b[39m, color\u001b[39m=\u001b[39m\u001b[39m\"\u001b[39m\u001b[39m#007D66\u001b[39m\u001b[39m\"\u001b[39m, alpha\u001b[39m=\u001b[39m\u001b[39m0.4\u001b[39m)\n\u001b[0;32m     16\u001b[0m \u001b[39m# Set the plot labels and legends\u001b[39;00m\n\u001b[0;32m     17\u001b[0m ax[\u001b[39m0\u001b[39m]\u001b[39m.\u001b[39mset_xlabel(\u001b[39m'\u001b[39m\u001b[39mDegree of Polynomial\u001b[39m\u001b[39m'\u001b[39m, fontsize\u001b[39m=\u001b[39m\u001b[39m12\u001b[39m)\n",
      "\u001b[1;31mTypeError\u001b[0m: loop of ufunc does not support argument 0 of type dict which has no callable log method"
     ]
    },
    {
     "data": {
      "image/png": "[encoded data removed]",
      "text/plain": [
       "<Figure size 1600x800 with 2 Axes>"
      ]
     },
     "metadata": {},
     "output_type": "display_data"
    }
   ],
   "source": [
    "# Plot the errors as a function of increasing d value to visualise the training and validation errors\n",
    "fig, ax = plt.subplots(1,2, figsize=(16,8))\n",
    "\n",
    "# Plot the training error with labels\n",
    "ax[0].plot(range(maxdeg), np.log(training_error), label = 'Training error', linewidth=3, color='#FF7E79', alpha=0.4)\n",
    "\n",
    "# Plot the validation error with labels\n",
    "ax[0].plot(range(maxdeg), np.log(validation_error), label = 'Validation error', linewidth=3, color=\"#007D66\", alpha=0.4)\n",
    "\n",
    "# Plot the training error with labels\n",
    "ax[1].plot(range(maxdeg), np.log(training_error), label = 'Training error', linewidth=3, color='#FF7E79', alpha=0.4)\n",
    "\n",
    "# Plot the cross-validation error with labels\n",
    "ax[1].plot(range(maxdeg), np.log(cross_validation_error), label = 'Cross-Validation error', linewidth=3, color=\"#007D66\", alpha=0.4)\n",
    "\n",
    "# Set the plot labels and legends\n",
    "ax[0].set_xlabel('Degree of Polynomial', fontsize=12)\n",
    "ax[0].set_ylabel('Log Mean Squared Error', fontsize=12)\n",
    "ax[0].set_title(\"Log of validation error as a function of degree\")\n",
    "\n",
    "ax[1].set_xlabel('Degree of Polynomial', fontsize=12)\n",
    "ax[1].set_ylabel('Log Mean Squared Error', fontsize=12)\n",
    "ax[1].set_title(\"Log of CV error as a function of degree\")\n",
    "\n",
    "ax[0].legend()\n",
    "ax[1].legend()\n",
    "plt.show();\n"
   ]
  },
  {
   "cell_type": "markdown",
   "metadata": {},
   "source": [
    "⏸ If you run the exercise with a random state of 0, do you notice any change? What conclusion can you draw from this experiment?\n"
   ]
  },
  {
   "cell_type": "code",
   "execution_count": null,
   "metadata": {},
   "outputs": [],
   "source": [
    "### edTest(test_chow1) ###\n",
    "# Submit an answer choice as a string below \n",
    "answer1 = '___'\n"
   ]
  }
 ],
 "metadata": {
  "kernelspec": {
   "display_name": "Python 3",
   "language": "python",
   "name": "python3"
  },
  "language_info": {
   "codemirror_mode": {
    "name": "ipython",
    "version": 3
   },
   "file_extension": ".py",
   "mimetype": "text/x-python",
   "name": "python",
   "nbconvert_exporter": "python",
   "pygments_lexer": "ipython3",
   "version": "3.11.4"
  }
 },
 "nbformat": 4,
 "nbformat_minor": 4
}
