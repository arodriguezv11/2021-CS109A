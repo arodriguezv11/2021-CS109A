{
 "cells": [
  {
   "cell_type": "markdown",
   "metadata": {},
   "source": [
    "## Title :\n",
    "Exercise: MSE for Varying Beta Values\n",
    "\n",
    "## Description :\n",
    "The goal of this exercise is to produce a plot like the one given below.\n",
    "\n",
    "<img src=\"../fig/fig5.png\" style=\"width: 500px;\">\n",
    "\n",
    "## Data Description:\n",
    "\n",
    "## Instructions:\n",
    "- Fix $\\beta_0 = 2.2$.\n",
    "- Change $\\beta_1$ in a range $[-2, 3]$.\n",
    "- Estimate the fit of the model by following the steps below:\n",
    "    - Create empty lists to store the MSE and $\\beta_1$.\n",
    "    - Set a range of values for $\\beta_1$ and compute MSE for each one.\n",
    "\n",
    "\n",
    "\n",
    "## Hints: \n",
    "\n",
    "<a href=\"http://return%20evenly%20spaced%20numbers%20over%20a%20specified%20interval./\" target=\"_blank\">np.linspace(start, stop, num)</a>\n",
    "Return evenly spaced numbers over a specified interval.\n",
    "\n",
    "<a href=\"https://numpy.org/doc/stable/reference/generated/numpy.arange.html\" target=\"_blank\">np.arange(start, stop, increment)</a>\n",
    "Return evenly spaced values within a given interval.\n",
    "\n",
    "<a href=\"https://docs.python.org/3/tutorial/datastructures.html\" target=\"_blank\">list_name.append(item)</a>\n",
    "Add an item to the end of the list.\n",
    "\n",
    "<a href=\"https://matplotlib.org/3.2.2/api/_as_gen/matplotlib.pyplot.xlabel.html\" target=\"_blank\">plt.xlabel()</a>\n",
    "This is used to specify the text to be displayed as the label for the x-axis.\n",
    "\n",
    "<a href=\"https://matplotlib.org/3.2.2/api/_as_gen/matplotlib.pyplot.xlabel.html\" target=\"_blank\">plt.ylabel()</a>\n",
    "This is used to specify the text to be displayed as the label for the y-axis.\n",
    "\n",
    "**Note:** This exercise is auto-graded, hence please remember to set all the parameters to the values mentioned in the scaffold before marking."
   ]
  },
  {
   "cell_type": "code",
   "execution_count": 1,
   "metadata": {},
   "outputs": [],
   "source": [
    "# Import necessary libraries\n",
    "import numpy as np\n",
    "import pandas as pd\n",
    "import matplotlib.pyplot as plt\n",
    "%matplotlib inline\n"
   ]
  },
  {
   "cell_type": "markdown",
   "metadata": {},
   "source": [
    "### Reading the dataset"
   ]
  },
  {
   "cell_type": "code",
   "execution_count": 2,
   "metadata": {},
   "outputs": [],
   "source": [
    "# Read data file 'Advertising.csv' into a Pandas Dataframe\n",
    "df = pd.read_csv('C:\\\\Users\\Araceli\\\\OneDrive - ETH Zurich\\\\Documentos\\\\ARACELI OTROS\\\\GitHub\\\\2021-CS109A\\\\content\\\\lectures\\\\lecture03\\\\data\\\\Advertising.csv')\n"
   ]
  },
  {
   "cell_type": "code",
   "execution_count": 3,
   "metadata": {},
   "outputs": [
    {
     "data": {
      "text/html": [
       "<div>\n",
       "<style scoped>\n",
       "    .dataframe tbody tr th:only-of-type {\n",
       "        vertical-align: middle;\n",
       "    }\n",
       "\n",
       "    .dataframe tbody tr th {\n",
       "        vertical-align: top;\n",
       "    }\n",
       "\n",
       "    .dataframe thead th {\n",
       "        text-align: right;\n",
       "    }\n",
       "</style>\n",
       "<table border=\"1\" class=\"dataframe\">\n",
       "  <thead>\n",
       "    <tr style=\"text-align: right;\">\n",
       "      <th></th>\n",
       "      <th>TV</th>\n",
       "      <th>Radio</th>\n",
       "      <th>Newspaper</th>\n",
       "      <th>Sales</th>\n",
       "    </tr>\n",
       "  </thead>\n",
       "  <tbody>\n",
       "    <tr>\n",
       "      <th>0</th>\n",
       "      <td>230.1</td>\n",
       "      <td>37.8</td>\n",
       "      <td>69.2</td>\n",
       "      <td>22.1</td>\n",
       "    </tr>\n",
       "    <tr>\n",
       "      <th>1</th>\n",
       "      <td>44.5</td>\n",
       "      <td>39.3</td>\n",
       "      <td>45.1</td>\n",
       "      <td>10.4</td>\n",
       "    </tr>\n",
       "    <tr>\n",
       "      <th>2</th>\n",
       "      <td>17.2</td>\n",
       "      <td>45.9</td>\n",
       "      <td>69.3</td>\n",
       "      <td>9.3</td>\n",
       "    </tr>\n",
       "    <tr>\n",
       "      <th>3</th>\n",
       "      <td>151.5</td>\n",
       "      <td>41.3</td>\n",
       "      <td>58.5</td>\n",
       "      <td>18.5</td>\n",
       "    </tr>\n",
       "    <tr>\n",
       "      <th>4</th>\n",
       "      <td>180.8</td>\n",
       "      <td>10.8</td>\n",
       "      <td>58.4</td>\n",
       "      <td>12.9</td>\n",
       "    </tr>\n",
       "  </tbody>\n",
       "</table>\n",
       "</div>"
      ],
      "text/plain": [
       "      TV  Radio  Newspaper  Sales\n",
       "0  230.1   37.8       69.2   22.1\n",
       "1   44.5   39.3       45.1   10.4\n",
       "2   17.2   45.9       69.3    9.3\n",
       "3  151.5   41.3       58.5   18.5\n",
       "4  180.8   10.8       58.4   12.9"
      ]
     },
     "execution_count": 3,
     "metadata": {},
     "output_type": "execute_result"
    }
   ],
   "source": [
    "# Take a quick look at the data\n",
    "df.head()\n"
   ]
  },
  {
   "cell_type": "code",
   "execution_count": 6,
   "metadata": {},
   "outputs": [],
   "source": [
    "# Create a new dataframe called `df_new` with the columns 'TV' and 'sales'\n",
    "df_new = df[['TV', 'Sales']]\n"
   ]
  },
  {
   "cell_type": "markdown",
   "metadata": {},
   "source": [
    "### Beta and MSE Computation"
   ]
  },
  {
   "cell_type": "code",
   "execution_count": 7,
   "metadata": {},
   "outputs": [],
   "source": [
    "# Set beta0 to 2.2\n",
    "beta0 = 2.2\n"
   ]
  },
  {
   "cell_type": "code",
   "execution_count": 8,
   "metadata": {},
   "outputs": [],
   "source": [
    "# Create an empty list to store the MSE\n",
    "mse_list = []\n",
    "\n",
    "# Create an empty list to store the beta1 values\n",
    "beta1_list = []\n"
   ]
  },
  {
   "cell_type": "code",
   "execution_count": 28,
   "metadata": {},
   "outputs": [],
   "source": [
    "### edTest(test_beta) ###\n",
    "from sklearn.metrics import mean_squared_error\n",
    "# This loops runs from -2 to 3.0 with an increment of 0.1\n",
    "# i.e a total of 51 steps\n",
    "for beta1 in np.arange(-2.0, 3.0, 0.1):\n",
    "    \n",
    "    # Calculate prediction of x using beta0 and beta1\n",
    "    # Recall the formula y = beta0 + beta1*x\n",
    "    y_predict = beta0 + beta1*df_new['TV']\n",
    "    \n",
    "    # Calculate the Mean Squared Error\n",
    "    mse = mean_squared_error(df_new['Sales'], y_predict)\n",
    "    \n",
    "    # Append the new MSE to the list initialized above\n",
    "    mse_list.append(mse)\n",
    "    \n",
    "    # Append the beta1 value to the appropriate list initialized above\n",
    "    beta1_list.append(beta1)\n"
   ]
  },
  {
   "cell_type": "markdown",
   "metadata": {},
   "source": [
    "### Plotting the graph"
   ]
  },
  {
   "cell_type": "code",
   "execution_count": 29,
   "metadata": {},
   "outputs": [
    {
     "data": {
      "text/plain": [
       "Text(0, 0.5, 'MSE')"
      ]
     },
     "execution_count": 29,
     "metadata": {},
     "output_type": "execute_result"
    },
    {
     "data": {
      "image/png": "[encoded data removed]",
      "text/plain": [
       "<Figure size 640x480 with 1 Axes>"
      ]
     },
     "metadata": {},
     "output_type": "display_data"
    }
   ],
   "source": [
    "### edTest(test_mse) ###\n",
    "# Helper code to plot the MSE as a function of beta1\n",
    "plt.plot(beta1_list, mse_list)\n",
    "plt.xlabel('Beta1')\n",
    "plt.ylabel('MSE')\n"
   ]
  },
  {
   "cell_type": "markdown",
   "metadata": {},
   "source": [
    "### ⏸ Go back and change your $\\beta_0$ value of your choice and report your new optimal $\\beta_1$ value and new lowest $MSE$. Is the MSE lower than before, or more?"
   ]
  },
  {
   "cell_type": "code",
   "execution_count": null,
   "metadata": {},
   "outputs": [],
   "source": [
    "### edTest(test_chow1) ###\n",
    "# Submit an answer choice as a string below \n",
    "answer1 = '___'\n"
   ]
  }
 ],
 "metadata": {
  "kernelspec": {
   "display_name": "Python 3",
   "language": "python",
   "name": "python3"
  },
  "language_info": {
   "codemirror_mode": {
    "name": "ipython",
    "version": 3
   },
   "file_extension": ".py",
   "mimetype": "text/x-python",
   "name": "python",
   "nbconvert_exporter": "python",
   "pygments_lexer": "ipython3",
   "version": "3.11.4"
  }
 },
 "nbformat": 4,
 "nbformat_minor": 2
}
