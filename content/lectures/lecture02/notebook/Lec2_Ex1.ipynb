{
    "cells": [
        {
            "attachments": {},
            "cell_type": "markdown",
            "metadata": {},
            "source": [
                "# <img style=\"float: left; padding-right: 10px; width: 45px\" src=\"https://raw.githubusercontent.com/Harvard-IACS/2018-CS109A/master/content/styles/iacs.png\"> CS109a Introduction to Data Science\n",
                "\n",
                "## Lecture 2, Exercise 1: PANDAS Intro\n",
                "\n",
                "\n",
                "**Harvard University**<br/>\n",
                "**Fall 2021**<br/>\n",
                "**Instructors**: Pavlos Protopapas and Natesh Pillai\n",
                "\n",
                "---"
            ]
        },
        {
            "attachments": {},
            "cell_type": "markdown",
            "metadata": {},
            "source": [
                "**Exercise 1: PANDAS Intro**\n",
                "\n",
                "As discussed in class, `PANDAS` is Python library that contains highly useful data structures, including DataFrames, which makes Exploratory Data Analysis (EDA) easy. Here, we get practice with some of the elementary functions."
            ]
        },
        {
            "cell_type": "code",
            "execution_count": 3,
            "metadata": {},
            "outputs": [],
            "source": [
                "import pandas as pd"
            ]
        },
        {
            "attachments": {},
            "cell_type": "markdown",
            "metadata": {},
            "source": [
                "For this exercise, we will be working with StudentsPerformance dataset made available through [Kaggle](https://www.kaggle.com/spscientist/students-performance-in-exams). It contains information about the exame score of ([fictional](http://roycekimmons.com/tools/generated_data/exams)) high school students."
            ]
        },
        {
            "cell_type": "code",
            "execution_count": 4,
            "metadata": {},
            "outputs": [],
            "source": [
                "# import the CSV file\n",
                "df = pd.read_csv(\"C:\\\\Users\\\\Araceli\\\\OneDrive - ETH Zurich\\\\Documentos\\\\ARACELI OTROS\\\\GitHub\\\\2021-CS109A\\\\content\\\\lectures\\\\lecture02\\\\data\\\\StudentsPerformance.csv\")"
            ]
        },
        {
            "attachments": {},
            "cell_type": "markdown",
            "metadata": {},
            "source": [
                "# PANDAS Basics 🐼\n",
                "Let's get started with basic functionality of PANDAS!"
            ]
        },
        {
            "attachments": {},
            "cell_type": "markdown",
            "metadata": {},
            "source": [
                "**Exercise**  \n",
                "In the cell below fill in the blank to display general dataframe **info**rmation.\n",
                "\n",
                "_Tip: [The Pandas documention](https://pandas.pydata.org/docs/user_guide/index.html) will be your best friend. But in many cases, a simple tab autocomplete can find what your looking for._"
            ]
        },
        {
            "cell_type": "code",
            "execution_count": 5,
            "metadata": {},
            "outputs": [
                {
                    "name": "stdout",
                    "output_type": "stream",
                    "text": [
                        "<class 'pandas.core.frame.DataFrame'>\n",
                        "RangeIndex: 1000 entries, 0 to 999\n",
                        "Data columns (total 8 columns):\n",
                        " #   Column                       Non-Null Count  Dtype \n",
                        "---  ------                       --------------  ----- \n",
                        " 0   gender                       1000 non-null   object\n",
                        " 1   race/ethnicity               1000 non-null   object\n",
                        " 2   parental level of education  1000 non-null   object\n",
                        " 3   lunch                        1000 non-null   object\n",
                        " 4   test preparation course      1000 non-null   object\n",
                        " 5   math score                   1000 non-null   int64 \n",
                        " 6   reading score                1000 non-null   int64 \n",
                        " 7   writing score                1000 non-null   int64 \n",
                        "dtypes: int64(3), object(5)\n",
                        "memory usage: 62.6+ KB\n"
                    ]
                }
            ],
            "source": [
                "### edTest(test_a) ###\n",
                "df.info()"
            ]
        },
        {
            "attachments": {},
            "cell_type": "markdown",
            "metadata": {},
            "source": [
                "Examine the output carefully. There's a lot in there. Can you interpret each column? What about the details in header footer?"
            ]
        },
        {
            "attachments": {},
            "cell_type": "markdown",
            "metadata": {},
            "source": [
                "**Exercise**  \n",
                "In the cell below, fill in the blank so that the variable `cols` stores the `df`'s column names. **NOTE:** Please keep the type of the data structure as a `<class 'pandas.core.indexes.base.Index'>`. Do not have to convert this to a list.\\\n",
                "\n",
                "_Tip: Reviewing the [DataFrame](https://pandas.pydata.org/pandas-docs/stable/reference/api/pandas.DataFrame.html?highlight=dataframe#pandas.DataFrame) object itself might help_"
            ]
        },
        {
            "cell_type": "code",
            "execution_count": 8,
            "metadata": {},
            "outputs": [],
            "source": [
                "cols = df.columns\n",
                "assert type(cols) == pd.core.indexes.base.Index"
            ]
        },
        {
            "cell_type": "code",
            "execution_count": 6,
            "metadata": {},
            "outputs": [],
            "source": [
                "### edTest(test_b) ###\n",
                "cols = df.columns\n",
                "# Check at least the type is the right one\n",
                "assert type(cols) == pd.core.indexes.base.Index"
            ]
        },
        {
            "attachments": {},
            "cell_type": "markdown",
            "metadata": {},
            "source": [
                "**Exercise**  \n",
                "In the cell below, fill in the blank so that:\n",
                "- `num_cols` stores the number of columns in `df`\\\n",
                "([HINT](https://pandas.pydata.org/pandas-docs/stable/reference/api/pandas.DataFrame.shape.html?highlight=shape#pandas.DataFrame.shape))"
            ]
        },
        {
            "cell_type": "code",
            "execution_count": 9,
            "metadata": {},
            "outputs": [],
            "source": [
                "num_cols = df.shape[1]"
            ]
        },
        {
            "cell_type": "code",
            "execution_count": 7,
            "metadata": {},
            "outputs": [],
            "source": [
                "### edTest(test_c) ###\n",
                "num_rows = df.shape[0]\n",
                "num_cols = df.shape[1]"
            ]
        },
        {
            "attachments": {},
            "cell_type": "markdown",
            "metadata": {},
            "source": [
                "**Exercise**  \n",
                "In the cell below, fill in the blank so that `first_seven` is equal to the first 7 rows. ([HINT](https://pandas.pydata.org/pandas-docs/stable/reference/api/pandas.DataFrame.head.html))"
            ]
        },
        {
            "cell_type": "code",
            "execution_count": 10,
            "metadata": {},
            "outputs": [],
            "source": [
                "first_seven = df.head(7)"
            ]
        },
        {
            "cell_type": "code",
            "execution_count": 9,
            "metadata": {},
            "outputs": [],
            "source": [
                "### edTest(test_d) ###\n",
                "first_seven = df.head(7)"
            ]
        },
        {
            "attachments": {},
            "cell_type": "markdown",
            "metadata": {},
            "source": [
                "**Exercise**  \n",
                "In the cell below, fill in the blank so that `last_four` is equal to the last 4 rows. ([HINT](https://pandas.pydata.org/pandas-docs/stable/reference/api/pandas.DataFrame.tail.html))"
            ]
        },
        {
            "cell_type": "code",
            "execution_count": 8,
            "metadata": {},
            "outputs": [],
            "source": [
                "### edTest(test_e) ###\n",
                "last_four = df.tail(4)"
            ]
        },
        {
            "attachments": {},
            "cell_type": "markdown",
            "metadata": {},
            "source": [
                "**Exercise**  \n",
                "In the cell below, fill in the blank so that the `unique_parental_education_levels` variable stores a list of the 6 distinct values found within the `parental level of education` column of `df`.\\\n",
                "\n",
                "_Tip: Again, try searching the [documentation](https://pandas.pydata.org/pandas-docs/stable/index.html)_"
            ]
        },
        {
            "cell_type": "code",
            "execution_count": 11,
            "metadata": {},
            "outputs": [],
            "source": [
                "unique_parental_education_levels = df['parental level of education'].unique()"
            ]
        },
        {
            "cell_type": "code",
            "execution_count": 26,
            "metadata": {},
            "outputs": [
                {
                    "data": {
                        "text/plain": [
                            "array([\"bachelor's degree\", 'some college', \"master's degree\",\n",
                            "       \"associate's degree\", 'high school', 'some high school'],\n",
                            "      dtype=object)"
                        ]
                    },
                    "execution_count": 26,
                    "metadata": {},
                    "output_type": "execute_result"
                }
            ],
            "source": [
                "### edTest(test_f) ###\n",
                "unique_parental_education_levels = df['parental level of education'].unique()\n",
                "unique_parental_education_levels"
            ]
        },
        {
            "cell_type": "code",
            "execution_count": 27,
            "metadata": {},
            "outputs": [
                {
                    "name": "stdout",
                    "output_type": "stream",
                    "text": [
                        "Are there 6 unique values?: True\n",
                        "\n",
                        "[\"bachelor's degree\" 'some college' \"master's degree\" \"associate's degree\"\n",
                        " 'high school' 'some high school']\n"
                    ]
                }
            ],
            "source": [
                "# we can check if they are really 6\n",
                "print('Are there 6 unique values?:', len(unique_parental_education_levels) == 6)\n",
                "# we can display them here\n",
                "print()\n",
                "print(unique_parental_education_levels)"
            ]
        },
        {
            "attachments": {},
            "cell_type": "markdown",
            "metadata": {},
            "source": [
                "**Exercise**  \n",
                "In the cell below, fill in the blank so that the `scored_100_at_math` variable stores the **DataFrame row(s)** that correspond to everyone who scored 100 at math.\\\n",
                "\n",
                "_Hint: Think 'indexing.' Specifically, boolean indexing_"
            ]
        },
        {
            "cell_type": "code",
            "execution_count": 13,
            "metadata": {},
            "outputs": [
                {
                    "data": {
                        "text/html": [
                            "<div>\n",
                            "<style scoped>\n",
                            "    .dataframe tbody tr th:only-of-type {\n",
                            "        vertical-align: middle;\n",
                            "    }\n",
                            "\n",
                            "    .dataframe tbody tr th {\n",
                            "        vertical-align: top;\n",
                            "    }\n",
                            "\n",
                            "    .dataframe thead th {\n",
                            "        text-align: right;\n",
                            "    }\n",
                            "</style>\n",
                            "<table border=\"1\" class=\"dataframe\">\n",
                            "  <thead>\n",
                            "    <tr style=\"text-align: right;\">\n",
                            "      <th></th>\n",
                            "      <th>gender</th>\n",
                            "      <th>race/ethnicity</th>\n",
                            "      <th>parental level of education</th>\n",
                            "      <th>lunch</th>\n",
                            "      <th>test preparation course</th>\n",
                            "      <th>math score</th>\n",
                            "      <th>reading score</th>\n",
                            "      <th>writing score</th>\n",
                            "    </tr>\n",
                            "  </thead>\n",
                            "  <tbody>\n",
                            "    <tr>\n",
                            "      <th>0</th>\n",
                            "      <td>female</td>\n",
                            "      <td>group B</td>\n",
                            "      <td>bachelor's degree</td>\n",
                            "      <td>standard</td>\n",
                            "      <td>none</td>\n",
                            "      <td>72</td>\n",
                            "      <td>72</td>\n",
                            "      <td>74</td>\n",
                            "    </tr>\n",
                            "    <tr>\n",
                            "      <th>1</th>\n",
                            "      <td>female</td>\n",
                            "      <td>group C</td>\n",
                            "      <td>some college</td>\n",
                            "      <td>standard</td>\n",
                            "      <td>completed</td>\n",
                            "      <td>69</td>\n",
                            "      <td>90</td>\n",
                            "      <td>88</td>\n",
                            "    </tr>\n",
                            "    <tr>\n",
                            "      <th>2</th>\n",
                            "      <td>female</td>\n",
                            "      <td>group B</td>\n",
                            "      <td>master's degree</td>\n",
                            "      <td>standard</td>\n",
                            "      <td>none</td>\n",
                            "      <td>90</td>\n",
                            "      <td>95</td>\n",
                            "      <td>93</td>\n",
                            "    </tr>\n",
                            "    <tr>\n",
                            "      <th>3</th>\n",
                            "      <td>male</td>\n",
                            "      <td>group A</td>\n",
                            "      <td>associate's degree</td>\n",
                            "      <td>free/reduced</td>\n",
                            "      <td>none</td>\n",
                            "      <td>47</td>\n",
                            "      <td>57</td>\n",
                            "      <td>44</td>\n",
                            "    </tr>\n",
                            "    <tr>\n",
                            "      <th>4</th>\n",
                            "      <td>male</td>\n",
                            "      <td>group C</td>\n",
                            "      <td>some college</td>\n",
                            "      <td>standard</td>\n",
                            "      <td>none</td>\n",
                            "      <td>76</td>\n",
                            "      <td>78</td>\n",
                            "      <td>75</td>\n",
                            "    </tr>\n",
                            "  </tbody>\n",
                            "</table>\n",
                            "</div>"
                        ],
                        "text/plain": [
                            "   gender race/ethnicity parental level of education         lunch  \\\n",
                            "0  female        group B           bachelor's degree      standard   \n",
                            "1  female        group C                some college      standard   \n",
                            "2  female        group B             master's degree      standard   \n",
                            "3    male        group A          associate's degree  free/reduced   \n",
                            "4    male        group C                some college      standard   \n",
                            "\n",
                            "  test preparation course  math score  reading score  writing score  \n",
                            "0                    none          72             72             74  \n",
                            "1               completed          69             90             88  \n",
                            "2                    none          90             95             93  \n",
                            "3                    none          47             57             44  \n",
                            "4                    none          76             78             75  "
                        ]
                    },
                    "execution_count": 13,
                    "metadata": {},
                    "output_type": "execute_result"
                }
            ],
            "source": [
                "df.head()"
            ]
        },
        {
            "cell_type": "code",
            "execution_count": 17,
            "metadata": {},
            "outputs": [],
            "source": [
                "scored_100_at_math = df[df['math score'] == 100]"
            ]
        },
        {
            "cell_type": "markdown",
            "metadata": {},
            "source": [
                "### edTest(test_g) ###\n",
                "scored_100_at_math = df[df[\"math score\"]==100]\n",
                "scored_100_at_math"
            ]
        },
        {
            "attachments": {},
            "cell_type": "markdown",
            "metadata": {},
            "source": [
                "Some observations about conditions"
            ]
        },
        {
            "cell_type": "code",
            "execution_count": 14,
            "metadata": {},
            "outputs": [
                {
                    "data": {
                        "text/plain": [
                            "True"
                        ]
                    },
                    "execution_count": 14,
                    "metadata": {},
                    "output_type": "execute_result"
                }
            ],
            "source": [
                "# this shows that using the condition with 'loc' is the same as not using 'loc'\n",
                "condition = df['math score'] == 100\n",
                "all(df[condition] == df.loc[condition])"
            ]
        },
        {
            "cell_type": "code",
            "execution_count": 15,
            "metadata": {},
            "outputs": [
                {
                    "data": {
                        "text/plain": [
                            "0      False\n",
                            "1      False\n",
                            "2      False\n",
                            "3      False\n",
                            "4      False\n",
                            "       ...  \n",
                            "995    False\n",
                            "996    False\n",
                            "997    False\n",
                            "998    False\n",
                            "999    False\n",
                            "Name: math score, Length: 1000, dtype: bool"
                        ]
                    },
                    "execution_count": 15,
                    "metadata": {},
                    "output_type": "execute_result"
                }
            ],
            "source": [
                "# the condition is a boolean series to be used with the whole dataframe\n",
                "# the condition will be used to filter the dataframe to those rows where condition value is True\n",
                "# we can see that condition has as many rows as the original dataframe\n",
                "condition"
            ]
        },
        {
            "attachments": {},
            "cell_type": "markdown",
            "metadata": {},
            "source": [
                "**Exercise**  \n",
                "In the cell below, fill in the blank to display scores' descriptive statistics ([HINT](https://pandas.pydata.org/pandas-docs/stable/reference/api/pandas.DataFrame.describe.html))."
            ]
        },
        {
            "cell_type": "code",
            "execution_count": 16,
            "metadata": {},
            "outputs": [
                {
                    "data": {
                        "text/html": [
                            "<div>\n",
                            "<style scoped>\n",
                            "    .dataframe tbody tr th:only-of-type {\n",
                            "        vertical-align: middle;\n",
                            "    }\n",
                            "\n",
                            "    .dataframe tbody tr th {\n",
                            "        vertical-align: top;\n",
                            "    }\n",
                            "\n",
                            "    .dataframe thead th {\n",
                            "        text-align: right;\n",
                            "    }\n",
                            "</style>\n",
                            "<table border=\"1\" class=\"dataframe\">\n",
                            "  <thead>\n",
                            "    <tr style=\"text-align: right;\">\n",
                            "      <th></th>\n",
                            "      <th>math score</th>\n",
                            "      <th>reading score</th>\n",
                            "      <th>writing score</th>\n",
                            "    </tr>\n",
                            "  </thead>\n",
                            "  <tbody>\n",
                            "    <tr>\n",
                            "      <th>count</th>\n",
                            "      <td>1000.00000</td>\n",
                            "      <td>1000.000000</td>\n",
                            "      <td>1000.000000</td>\n",
                            "    </tr>\n",
                            "    <tr>\n",
                            "      <th>mean</th>\n",
                            "      <td>66.08900</td>\n",
                            "      <td>69.169000</td>\n",
                            "      <td>68.054000</td>\n",
                            "    </tr>\n",
                            "    <tr>\n",
                            "      <th>std</th>\n",
                            "      <td>15.16308</td>\n",
                            "      <td>14.600192</td>\n",
                            "      <td>15.195657</td>\n",
                            "    </tr>\n",
                            "    <tr>\n",
                            "      <th>min</th>\n",
                            "      <td>0.00000</td>\n",
                            "      <td>17.000000</td>\n",
                            "      <td>10.000000</td>\n",
                            "    </tr>\n",
                            "    <tr>\n",
                            "      <th>25%</th>\n",
                            "      <td>57.00000</td>\n",
                            "      <td>59.000000</td>\n",
                            "      <td>57.750000</td>\n",
                            "    </tr>\n",
                            "    <tr>\n",
                            "      <th>50%</th>\n",
                            "      <td>66.00000</td>\n",
                            "      <td>70.000000</td>\n",
                            "      <td>69.000000</td>\n",
                            "    </tr>\n",
                            "    <tr>\n",
                            "      <th>75%</th>\n",
                            "      <td>77.00000</td>\n",
                            "      <td>79.000000</td>\n",
                            "      <td>79.000000</td>\n",
                            "    </tr>\n",
                            "    <tr>\n",
                            "      <th>max</th>\n",
                            "      <td>100.00000</td>\n",
                            "      <td>100.000000</td>\n",
                            "      <td>100.000000</td>\n",
                            "    </tr>\n",
                            "  </tbody>\n",
                            "</table>\n",
                            "</div>"
                        ],
                        "text/plain": [
                            "       math score  reading score  writing score\n",
                            "count  1000.00000    1000.000000    1000.000000\n",
                            "mean     66.08900      69.169000      68.054000\n",
                            "std      15.16308      14.600192      15.195657\n",
                            "min       0.00000      17.000000      10.000000\n",
                            "25%      57.00000      59.000000      57.750000\n",
                            "50%      66.00000      70.000000      69.000000\n",
                            "75%      77.00000      79.000000      79.000000\n",
                            "max     100.00000     100.000000     100.000000"
                        ]
                    },
                    "execution_count": 16,
                    "metadata": {},
                    "output_type": "execute_result"
                }
            ],
            "source": [
                "### edTest(test_h) ###\n",
                "df.describe()"
            ]
        },
        {
            "attachments": {},
            "cell_type": "markdown",
            "metadata": {},
            "source": [
                "**Exercise**  \n",
                "In the cell below, fill in the blanks so that the `uncompleted_with_good_writing_score` variable stores the **DataFrame rows** that correspond to everyone who hasn't completed the preparation course and there writing score is above the median."
            ]
        },
        {
            "cell_type": "code",
            "execution_count": 27,
            "metadata": {},
            "outputs": [
                {
                    "data": {
                        "text/plain": [
                            "0       True\n",
                            "1      False\n",
                            "2       True\n",
                            "3       True\n",
                            "4       True\n",
                            "       ...  \n",
                            "995    False\n",
                            "996     True\n",
                            "997    False\n",
                            "998    False\n",
                            "999     True\n",
                            "Name: test preparation course, Length: 1000, dtype: bool"
                        ]
                    },
                    "execution_count": 27,
                    "metadata": {},
                    "output_type": "execute_result"
                }
            ],
            "source": [
                "df['test preparation course'] != 'completed'"
            ]
        },
        {
            "cell_type": "code",
            "execution_count": 23,
            "metadata": {},
            "outputs": [
                {
                    "data": {
                        "text/html": [
                            "<div>\n",
                            "<style scoped>\n",
                            "    .dataframe tbody tr th:only-of-type {\n",
                            "        vertical-align: middle;\n",
                            "    }\n",
                            "\n",
                            "    .dataframe tbody tr th {\n",
                            "        vertical-align: top;\n",
                            "    }\n",
                            "\n",
                            "    .dataframe thead th {\n",
                            "        text-align: right;\n",
                            "    }\n",
                            "</style>\n",
                            "<table border=\"1\" class=\"dataframe\">\n",
                            "  <thead>\n",
                            "    <tr style=\"text-align: right;\">\n",
                            "      <th></th>\n",
                            "      <th>gender</th>\n",
                            "      <th>race/ethnicity</th>\n",
                            "      <th>parental level of education</th>\n",
                            "      <th>lunch</th>\n",
                            "      <th>test preparation course</th>\n",
                            "      <th>math score</th>\n",
                            "      <th>reading score</th>\n",
                            "      <th>writing score</th>\n",
                            "    </tr>\n",
                            "  </thead>\n",
                            "  <tbody>\n",
                            "    <tr>\n",
                            "      <th>0</th>\n",
                            "      <td>female</td>\n",
                            "      <td>group B</td>\n",
                            "      <td>bachelor's degree</td>\n",
                            "      <td>standard</td>\n",
                            "      <td>none</td>\n",
                            "      <td>72</td>\n",
                            "      <td>72</td>\n",
                            "      <td>74</td>\n",
                            "    </tr>\n",
                            "    <tr>\n",
                            "      <th>2</th>\n",
                            "      <td>female</td>\n",
                            "      <td>group B</td>\n",
                            "      <td>master's degree</td>\n",
                            "      <td>standard</td>\n",
                            "      <td>none</td>\n",
                            "      <td>90</td>\n",
                            "      <td>95</td>\n",
                            "      <td>93</td>\n",
                            "    </tr>\n",
                            "    <tr>\n",
                            "      <th>4</th>\n",
                            "      <td>male</td>\n",
                            "      <td>group C</td>\n",
                            "      <td>some college</td>\n",
                            "      <td>standard</td>\n",
                            "      <td>none</td>\n",
                            "      <td>76</td>\n",
                            "      <td>78</td>\n",
                            "      <td>75</td>\n",
                            "    </tr>\n",
                            "    <tr>\n",
                            "      <th>5</th>\n",
                            "      <td>female</td>\n",
                            "      <td>group B</td>\n",
                            "      <td>associate's degree</td>\n",
                            "      <td>standard</td>\n",
                            "      <td>none</td>\n",
                            "      <td>71</td>\n",
                            "      <td>83</td>\n",
                            "      <td>78</td>\n",
                            "    </tr>\n",
                            "    <tr>\n",
                            "      <th>12</th>\n",
                            "      <td>female</td>\n",
                            "      <td>group B</td>\n",
                            "      <td>high school</td>\n",
                            "      <td>standard</td>\n",
                            "      <td>none</td>\n",
                            "      <td>65</td>\n",
                            "      <td>81</td>\n",
                            "      <td>73</td>\n",
                            "    </tr>\n",
                            "    <tr>\n",
                            "      <th>...</th>\n",
                            "      <td>...</td>\n",
                            "      <td>...</td>\n",
                            "      <td>...</td>\n",
                            "      <td>...</td>\n",
                            "      <td>...</td>\n",
                            "      <td>...</td>\n",
                            "      <td>...</td>\n",
                            "      <td>...</td>\n",
                            "    </tr>\n",
                            "    <tr>\n",
                            "      <th>981</th>\n",
                            "      <td>male</td>\n",
                            "      <td>group D</td>\n",
                            "      <td>some high school</td>\n",
                            "      <td>standard</td>\n",
                            "      <td>none</td>\n",
                            "      <td>81</td>\n",
                            "      <td>78</td>\n",
                            "      <td>78</td>\n",
                            "    </tr>\n",
                            "    <tr>\n",
                            "      <th>984</th>\n",
                            "      <td>female</td>\n",
                            "      <td>group C</td>\n",
                            "      <td>some high school</td>\n",
                            "      <td>standard</td>\n",
                            "      <td>none</td>\n",
                            "      <td>74</td>\n",
                            "      <td>75</td>\n",
                            "      <td>82</td>\n",
                            "    </tr>\n",
                            "    <tr>\n",
                            "      <th>992</th>\n",
                            "      <td>female</td>\n",
                            "      <td>group D</td>\n",
                            "      <td>associate's degree</td>\n",
                            "      <td>free/reduced</td>\n",
                            "      <td>none</td>\n",
                            "      <td>55</td>\n",
                            "      <td>76</td>\n",
                            "      <td>76</td>\n",
                            "    </tr>\n",
                            "    <tr>\n",
                            "      <th>993</th>\n",
                            "      <td>female</td>\n",
                            "      <td>group D</td>\n",
                            "      <td>bachelor's degree</td>\n",
                            "      <td>free/reduced</td>\n",
                            "      <td>none</td>\n",
                            "      <td>62</td>\n",
                            "      <td>72</td>\n",
                            "      <td>74</td>\n",
                            "    </tr>\n",
                            "    <tr>\n",
                            "      <th>999</th>\n",
                            "      <td>female</td>\n",
                            "      <td>group D</td>\n",
                            "      <td>some college</td>\n",
                            "      <td>free/reduced</td>\n",
                            "      <td>none</td>\n",
                            "      <td>77</td>\n",
                            "      <td>86</td>\n",
                            "      <td>86</td>\n",
                            "    </tr>\n",
                            "  </tbody>\n",
                            "</table>\n",
                            "<p>251 rows × 8 columns</p>\n",
                            "</div>"
                        ],
                        "text/plain": [
                            "     gender race/ethnicity parental level of education         lunch  \\\n",
                            "0    female        group B           bachelor's degree      standard   \n",
                            "2    female        group B             master's degree      standard   \n",
                            "4      male        group C                some college      standard   \n",
                            "5    female        group B          associate's degree      standard   \n",
                            "12   female        group B                 high school      standard   \n",
                            "..      ...            ...                         ...           ...   \n",
                            "981    male        group D            some high school      standard   \n",
                            "984  female        group C            some high school      standard   \n",
                            "992  female        group D          associate's degree  free/reduced   \n",
                            "993  female        group D           bachelor's degree  free/reduced   \n",
                            "999  female        group D                some college  free/reduced   \n",
                            "\n",
                            "    test preparation course  math score  reading score  writing score  \n",
                            "0                      none          72             72             74  \n",
                            "2                      none          90             95             93  \n",
                            "4                      none          76             78             75  \n",
                            "5                      none          71             83             78  \n",
                            "12                     none          65             81             73  \n",
                            "..                      ...         ...            ...            ...  \n",
                            "981                    none          81             78             78  \n",
                            "984                    none          74             75             82  \n",
                            "992                    none          55             76             76  \n",
                            "993                    none          62             72             74  \n",
                            "999                    none          77             86             86  \n",
                            "\n",
                            "[251 rows x 8 columns]"
                        ]
                    },
                    "execution_count": 23,
                    "metadata": {},
                    "output_type": "execute_result"
                }
            ],
            "source": [
                "cond1 = df['test preparation course'] != 'completed'\n",
                "cond2 = df['writing score'] > df['writing score'].median()\n",
                "uncompleted_with_good_writing_score = df[cond1 & cond2]\n",
                "uncompleted_with_good_writing_score"
            ]
        },
        {
            "cell_type": "code",
            "execution_count": 20,
            "metadata": {},
            "outputs": [
                {
                    "data": {
                        "text/html": [
                            "<div>\n",
                            "<style scoped>\n",
                            "    .dataframe tbody tr th:only-of-type {\n",
                            "        vertical-align: middle;\n",
                            "    }\n",
                            "\n",
                            "    .dataframe tbody tr th {\n",
                            "        vertical-align: top;\n",
                            "    }\n",
                            "\n",
                            "    .dataframe thead th {\n",
                            "        text-align: right;\n",
                            "    }\n",
                            "</style>\n",
                            "<table border=\"1\" class=\"dataframe\">\n",
                            "  <thead>\n",
                            "    <tr style=\"text-align: right;\">\n",
                            "      <th></th>\n",
                            "      <th>gender</th>\n",
                            "      <th>race/ethnicity</th>\n",
                            "      <th>parental level of education</th>\n",
                            "      <th>lunch</th>\n",
                            "      <th>test preparation course</th>\n",
                            "      <th>math score</th>\n",
                            "      <th>reading score</th>\n",
                            "      <th>writing score</th>\n",
                            "    </tr>\n",
                            "  </thead>\n",
                            "  <tbody>\n",
                            "    <tr>\n",
                            "      <th>0</th>\n",
                            "      <td>female</td>\n",
                            "      <td>group B</td>\n",
                            "      <td>bachelor's degree</td>\n",
                            "      <td>standard</td>\n",
                            "      <td>none</td>\n",
                            "      <td>72</td>\n",
                            "      <td>72</td>\n",
                            "      <td>74</td>\n",
                            "    </tr>\n",
                            "    <tr>\n",
                            "      <th>2</th>\n",
                            "      <td>female</td>\n",
                            "      <td>group B</td>\n",
                            "      <td>master's degree</td>\n",
                            "      <td>standard</td>\n",
                            "      <td>none</td>\n",
                            "      <td>90</td>\n",
                            "      <td>95</td>\n",
                            "      <td>93</td>\n",
                            "    </tr>\n",
                            "    <tr>\n",
                            "      <th>4</th>\n",
                            "      <td>male</td>\n",
                            "      <td>group C</td>\n",
                            "      <td>some college</td>\n",
                            "      <td>standard</td>\n",
                            "      <td>none</td>\n",
                            "      <td>76</td>\n",
                            "      <td>78</td>\n",
                            "      <td>75</td>\n",
                            "    </tr>\n",
                            "    <tr>\n",
                            "      <th>5</th>\n",
                            "      <td>female</td>\n",
                            "      <td>group B</td>\n",
                            "      <td>associate's degree</td>\n",
                            "      <td>standard</td>\n",
                            "      <td>none</td>\n",
                            "      <td>71</td>\n",
                            "      <td>83</td>\n",
                            "      <td>78</td>\n",
                            "    </tr>\n",
                            "    <tr>\n",
                            "      <th>12</th>\n",
                            "      <td>female</td>\n",
                            "      <td>group B</td>\n",
                            "      <td>high school</td>\n",
                            "      <td>standard</td>\n",
                            "      <td>none</td>\n",
                            "      <td>65</td>\n",
                            "      <td>81</td>\n",
                            "      <td>73</td>\n",
                            "    </tr>\n",
                            "    <tr>\n",
                            "      <th>...</th>\n",
                            "      <td>...</td>\n",
                            "      <td>...</td>\n",
                            "      <td>...</td>\n",
                            "      <td>...</td>\n",
                            "      <td>...</td>\n",
                            "      <td>...</td>\n",
                            "      <td>...</td>\n",
                            "      <td>...</td>\n",
                            "    </tr>\n",
                            "    <tr>\n",
                            "      <th>981</th>\n",
                            "      <td>male</td>\n",
                            "      <td>group D</td>\n",
                            "      <td>some high school</td>\n",
                            "      <td>standard</td>\n",
                            "      <td>none</td>\n",
                            "      <td>81</td>\n",
                            "      <td>78</td>\n",
                            "      <td>78</td>\n",
                            "    </tr>\n",
                            "    <tr>\n",
                            "      <th>984</th>\n",
                            "      <td>female</td>\n",
                            "      <td>group C</td>\n",
                            "      <td>some high school</td>\n",
                            "      <td>standard</td>\n",
                            "      <td>none</td>\n",
                            "      <td>74</td>\n",
                            "      <td>75</td>\n",
                            "      <td>82</td>\n",
                            "    </tr>\n",
                            "    <tr>\n",
                            "      <th>992</th>\n",
                            "      <td>female</td>\n",
                            "      <td>group D</td>\n",
                            "      <td>associate's degree</td>\n",
                            "      <td>free/reduced</td>\n",
                            "      <td>none</td>\n",
                            "      <td>55</td>\n",
                            "      <td>76</td>\n",
                            "      <td>76</td>\n",
                            "    </tr>\n",
                            "    <tr>\n",
                            "      <th>993</th>\n",
                            "      <td>female</td>\n",
                            "      <td>group D</td>\n",
                            "      <td>bachelor's degree</td>\n",
                            "      <td>free/reduced</td>\n",
                            "      <td>none</td>\n",
                            "      <td>62</td>\n",
                            "      <td>72</td>\n",
                            "      <td>74</td>\n",
                            "    </tr>\n",
                            "    <tr>\n",
                            "      <th>999</th>\n",
                            "      <td>female</td>\n",
                            "      <td>group D</td>\n",
                            "      <td>some college</td>\n",
                            "      <td>free/reduced</td>\n",
                            "      <td>none</td>\n",
                            "      <td>77</td>\n",
                            "      <td>86</td>\n",
                            "      <td>86</td>\n",
                            "    </tr>\n",
                            "  </tbody>\n",
                            "</table>\n",
                            "<p>251 rows × 8 columns</p>\n",
                            "</div>"
                        ],
                        "text/plain": [
                            "     gender race/ethnicity parental level of education         lunch  \\\n",
                            "0    female        group B           bachelor's degree      standard   \n",
                            "2    female        group B             master's degree      standard   \n",
                            "4      male        group C                some college      standard   \n",
                            "5    female        group B          associate's degree      standard   \n",
                            "12   female        group B                 high school      standard   \n",
                            "..      ...            ...                         ...           ...   \n",
                            "981    male        group D            some high school      standard   \n",
                            "984  female        group C            some high school      standard   \n",
                            "992  female        group D          associate's degree  free/reduced   \n",
                            "993  female        group D           bachelor's degree  free/reduced   \n",
                            "999  female        group D                some college  free/reduced   \n",
                            "\n",
                            "    test preparation course  math score  reading score  writing score  \n",
                            "0                      none          72             72             74  \n",
                            "2                      none          90             95             93  \n",
                            "4                      none          76             78             75  \n",
                            "5                      none          71             83             78  \n",
                            "12                     none          65             81             73  \n",
                            "..                      ...         ...            ...            ...  \n",
                            "981                    none          81             78             78  \n",
                            "984                    none          74             75             82  \n",
                            "992                    none          55             76             76  \n",
                            "993                    none          62             72             74  \n",
                            "999                    none          77             86             86  \n",
                            "\n",
                            "[251 rows x 8 columns]"
                        ]
                    },
                    "execution_count": 20,
                    "metadata": {},
                    "output_type": "execute_result"
                }
            ],
            "source": [
                "### edTest(test_i) ###\n",
                "# not completed preparation course condition\n",
                "cond1 = df['test preparation course'] != 'completed'\n",
                "# writing score above the median\n",
                "cond2 = df['writing score'] >  df['writing score'].median()\n",
                "uncompleted_with_good_writing_score = df.loc[cond1 & cond2]\n",
                "uncompleted_with_good_writing_score"
            ]
        },
        {
            "attachments": {},
            "cell_type": "markdown",
            "metadata": {},
            "source": [
                "Obvervation: the '&' operator differs from the 'and' operator"
            ]
        },
        {
            "cell_type": "code",
            "execution_count": null,
            "metadata": {},
            "outputs": [],
            "source": []
        }
    ],
    "metadata": {
        "kernelspec": {
            "display_name": "Python 3 (ipykernel)",
            "language": "python",
            "name": "python3"
        },
        "language_info": {
            "codemirror_mode": {
                "name": "ipython",
                "version": 3
            },
            "file_extension": ".py",
            "mimetype": "text/x-python",
            "name": "python",
            "nbconvert_exporter": "python",
            "pygments_lexer": "ipython3",
            "version": "3.11.4"
        }
    },
    "nbformat": 4,
    "nbformat_minor": 4
}
