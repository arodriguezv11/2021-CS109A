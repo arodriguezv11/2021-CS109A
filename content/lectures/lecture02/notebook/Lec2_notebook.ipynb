{
    "cells": [
        {
            "attachments": {},
            "cell_type": "markdown",
            "metadata": {},
            "source": [
                "# <img style=\"float: left; padding-right: 10px; width: 45px\" src=\"https://raw.githubusercontent.com/Harvard-IACS/2018-CS109A/master/content/styles/iacs.png\"> CS109a Introduction to PANDAS\n",
                "\n",
                "## Lecture 1, Pandas Intro\n",
                "\n",
                "\n",
                "**Harvard University**<br/>\n",
                "**Fall 2021**<br/>\n",
                "**Instructors**: Pavlos Protopapas and Natesh Pillai\n",
                "\n",
                "---"
            ]
        },
        {
            "attachments": {},
            "cell_type": "markdown",
            "metadata": {},
            "source": [
                "# Pandas\n",
                "\n",
                "`PANDAS` is Python library that contains highly useful data structures, including DataFrames, which makes Exploratory Data Analysis (EDA) easy. Here we will see some of the elementary functions in practice."
            ]
        },
        {
            "attachments": {},
            "cell_type": "markdown",
            "metadata": {},
            "source": [
                "## Installing\n",
                "**Using conda**\n",
                "\n",
                "```shell\n",
                "conda install pandas\n",
                "```\n",
                "\n",
                "**Using pip**\n",
                "```shell\n",
                "pip install pandas\n",
                "```\n",
                "**TIP: You can try installing a library from a jupyter notebook cell adding \"!\"**\n",
                "```shell\n",
                "# using conda\n",
                "!conda install pandas\n",
                "# or using pip\n",
                "!pip install pandas\n",
                "```"
            ]
        },
        {
            "attachments": {},
            "cell_type": "markdown",
            "metadata": {},
            "source": [
                "# PANDAS Basics\n",
                "Let's get started with basic functionality of PANDAS!"
            ]
        },
        {
            "attachments": {},
            "cell_type": "markdown",
            "metadata": {},
            "source": [
                "## Importing pandas\n",
                "\n",
                "importing pandas is as simple as next line\n",
                "```python\n",
                "import pandas\n",
                "```\n",
                "But ~~because of lazyness~~ for convenience we usually import it as `pd`"
            ]
        },
        {
            "cell_type": "code",
            "execution_count": 1,
            "metadata": {},
            "outputs": [],
            "source": [
                "import pandas as pd"
            ]
        },
        {
            "attachments": {},
            "cell_type": "markdown",
            "metadata": {},
            "source": [
                "You can always check for the version of almost any library using `__version__`"
            ]
        },
        {
            "cell_type": "code",
            "execution_count": 2,
            "metadata": {},
            "outputs": [
                {
                    "data": {
                        "text/plain": [
                            "'2.0.3'"
                        ]
                    },
                    "execution_count": 2,
                    "metadata": {},
                    "output_type": "execute_result"
                }
            ],
            "source": [
                "pd.__version__"
            ]
        },
        {
            "attachments": {},
            "cell_type": "markdown",
            "metadata": {},
            "source": [
                "## Pandas data structures\n",
                "\n",
                "The main data structures in pandas are the `Series` (useful for time series) and the `DataFrame`.  \n",
                "\n",
                "- **Series**\n",
                "  - Formal: One-dimensional ndarray with axis labels (including time series).\n",
                "  - Roughly: You can think of it as kind of spreadsheet column or a relational database table of one column  \n",
                "  \n",
                " \n",
                "- **DataFrame**\n",
                "  - Formal: Two-dimensional, size-mutable, potentially heterogeneous tabular data.\n",
                "  - Roughly: to a relational database table. Where every *DataFrame's* column is a *Series*.\n",
                "\n",
                "Both DataFrames and Series always have an *index*."
            ]
        },
        {
            "attachments": {},
            "cell_type": "markdown",
            "metadata": {},
            "source": [
                "## pd.Series\n",
                "```\n",
                "pd.Series(data=None, index=None, dtype=None, name=None, copy=False)\n",
                "```\n",
                "When not using an index pandas will add an index for us:\n",
                "```python\n",
                ">>> s1 = pd.Series(range(0, 50, 10))\n",
                "0     0\n",
                "1    10\n",
                "2    20\n",
                "3    30\n",
                "4    40\n",
                "dtype: int64\n",
                "```"
            ]
        },
        {
            "attachments": {},
            "cell_type": "markdown",
            "metadata": {},
            "source": [
                "**The data can be strings not just numbers**\n",
                "\n",
                "The index can be anything, but the data and index should have the same length."
            ]
        },
        {
            "cell_type": "code",
            "execution_count": 3,
            "metadata": {},
            "outputs": [
                {
                    "data": {
                        "text/plain": [
                            "10    A\n",
                            "9     B\n",
                            "8     C\n",
                            "7     D\n",
                            "6     E\n",
                            "dtype: object"
                        ]
                    },
                    "execution_count": 3,
                    "metadata": {},
                    "output_type": "execute_result"
                }
            ],
            "source": [
                "s = pd.Series(data=['A', 'B', 'C', 'D', 'E'], index=range(10, 5, -1))\n",
                "s"
            ]
        },
        {
            "attachments": {},
            "cell_type": "markdown",
            "metadata": {},
            "source": [
                "**We can independently access the series' values or its index**"
            ]
        },
        {
            "cell_type": "code",
            "execution_count": 4,
            "metadata": {},
            "outputs": [
                {
                    "data": {
                        "text/plain": [
                            "array(['A', 'B', 'C', 'D', 'E'], dtype=object)"
                        ]
                    },
                    "execution_count": 4,
                    "metadata": {},
                    "output_type": "execute_result"
                }
            ],
            "source": [
                "s.values"
            ]
        },
        {
            "cell_type": "code",
            "execution_count": 5,
            "metadata": {},
            "outputs": [
                {
                    "data": {
                        "text/plain": [
                            "RangeIndex(start=10, stop=5, step=-1)"
                        ]
                    },
                    "execution_count": 5,
                    "metadata": {},
                    "output_type": "execute_result"
                }
            ],
            "source": [
                "s.index"
            ]
        },
        {
            "attachments": {},
            "cell_type": "markdown",
            "metadata": {},
            "source": [
                "## pd.DataFrame\n",
                "```\n",
                "pd.DataFrame(data=None, index=None, columns=None, dtype=None, copy=None)\n",
                "```\n",
                "This data structure also contains labeled axes (rows and columns).\n",
                "\n",
                "|index|First Name|Last Name|\n",
                "|---|---|---|\n",
                "|0|Ann|Gatton|\n",
                "|1|John|Fosa|\n",
                "|2|Zack|Kaufman|\n",
                "\n",
                "DataFrame class offers powerful ways to create them. For instance the two code lines belows generate the same DataFrame object.\n",
                "```python\n",
                "# using rows\n",
                "pd.DataFrame(data=[[1,2], [3,4], [5,6]], columns=['A','B'])\n",
                "```\n",
                "```python\n",
                "# using columns\n",
                "pd.DataFrame(data={'A':[1,3,5], 'B': [2,4,6]})\n",
                "```\n",
                "||A|B|\n",
                "|-|-|-|\n",
                "|0|1|2|\n",
                "|1|3|4|\n",
                "|2|5|6|"
            ]
        },
        {
            "attachments": {},
            "cell_type": "markdown",
            "metadata": {},
            "source": [
                "## Loading data\n",
                "\n",
                "It's common to create DataFrames, but usually we read data from external sources. This is easy to do in Pandas.\n"
            ]
        },
        {
            "cell_type": "code",
            "execution_count": 6,
            "metadata": {},
            "outputs": [
                {
                    "name": "stdout",
                    "output_type": "stream",
                    "text": [
                        "read_clipboard\thttps://pandas.pydata.org/pandas-docs/stable/reference/api/pandas.read_clipboard.html\n",
                        "read_csv\thttps://pandas.pydata.org/pandas-docs/stable/reference/api/pandas.read_csv.html\n",
                        "read_excel\thttps://pandas.pydata.org/pandas-docs/stable/reference/api/pandas.read_excel.html\n",
                        "read_feather\thttps://pandas.pydata.org/pandas-docs/stable/reference/api/pandas.read_feather.html\n",
                        "read_fwf\thttps://pandas.pydata.org/pandas-docs/stable/reference/api/pandas.read_fwf.html\n",
                        "read_gbq\thttps://pandas.pydata.org/pandas-docs/stable/reference/api/pandas.read_gbq.html\n",
                        "read_hdf\thttps://pandas.pydata.org/pandas-docs/stable/reference/api/pandas.read_hdf.html\n",
                        "read_html\thttps://pandas.pydata.org/pandas-docs/stable/reference/api/pandas.read_html.html\n",
                        "read_json\thttps://pandas.pydata.org/pandas-docs/stable/reference/api/pandas.read_json.html\n",
                        "read_parquet\thttps://pandas.pydata.org/pandas-docs/stable/reference/api/pandas.read_parquet.html\n",
                        "read_pickle\thttps://pandas.pydata.org/pandas-docs/stable/reference/api/pandas.read_pickle.html\n",
                        "read_spss\thttps://pandas.pydata.org/pandas-docs/stable/reference/api/pandas.read_spss.html\n",
                        "read_sql\thttps://pandas.pydata.org/pandas-docs/stable/reference/api/pandas.read_sql.html\n",
                        "read_sql_query\thttps://pandas.pydata.org/pandas-docs/stable/reference/api/pandas.read_sql_query.html\n",
                        "read_sql_table\thttps://pandas.pydata.org/pandas-docs/stable/reference/api/pandas.read_sql_table.html\n",
                        "read_stata\thttps://pandas.pydata.org/pandas-docs/stable/reference/api/pandas.read_stata.html\n",
                        "read_table\thttps://pandas.pydata.org/pandas-docs/stable/reference/api/pandas.read_table.html\n",
                        "read_xml\thttps://pandas.pydata.org/pandas-docs/stable/reference/api/pandas.read_xml.html\n"
                    ]
                }
            ],
            "source": [
                "tpl = 'https://pandas.pydata.org/pandas-docs/stable/reference/api/pandas.{}.html'\n",
                "\n",
                "for m in ['clipboard', 'csv', 'excel', 'feather', 'fwf', 'gbq',\n",
                "          'hdf', 'html', 'json', 'parquet', 'pickle', 'spss',\n",
                "          'sql', 'sql_query', 'sql_table', 'stata', 'table', 'xml']:\n",
                "\n",
                "    method = f'read_{m}'\n",
                "    url =  tpl.format(method)\n",
                "    print(f'{method}\\t{url}')"
            ]
        },
        {
            "attachments": {},
            "cell_type": "markdown",
            "metadata": {},
            "source": [
                "**Example**  \n",
                "The method `read_html` is powerful and requires a bit of expirience.\n",
                "- The first line processes the url and extracts html that match the criteria into a DataFrames \n",
                "- The header will come as first row of the DataFrame, so in line 2 we use the first row values as columns names for the dataframe and finally we remove the first row."
            ]
        },
        {
            "cell_type": "code",
            "execution_count": 9,
            "metadata": {},
            "outputs": [],
            "source": [
                "df = pd.read_html('https://en.wikipedia.org/wiki/Harvard_University', match='School')[1]"
            ]
        },
        {
            "cell_type": "code",
            "execution_count": 10,
            "metadata": {},
            "outputs": [
                {
                    "data": {
                        "text/html": [
                            "<div>\n",
                            "<style scoped>\n",
                            "    .dataframe tbody tr th:only-of-type {\n",
                            "        vertical-align: middle;\n",
                            "    }\n",
                            "\n",
                            "    .dataframe tbody tr th {\n",
                            "        vertical-align: top;\n",
                            "    }\n",
                            "\n",
                            "    .dataframe thead th {\n",
                            "        text-align: right;\n",
                            "    }\n",
                            "</style>\n",
                            "<table border=\"1\" class=\"dataframe\">\n",
                            "  <thead>\n",
                            "    <tr style=\"text-align: right;\">\n",
                            "      <th></th>\n",
                            "      <th>School</th>\n",
                            "      <th>Founded</th>\n",
                            "      <th>Enrollment</th>\n",
                            "      <th>U.S. News &amp; World Report</th>\n",
                            "    </tr>\n",
                            "  </thead>\n",
                            "  <tbody>\n",
                            "    <tr>\n",
                            "      <th>0</th>\n",
                            "      <td>Harvard University</td>\n",
                            "      <td>1636</td>\n",
                            "      <td>31,345[108]</td>\n",
                            "      <td>3[109]</td>\n",
                            "    </tr>\n",
                            "    <tr>\n",
                            "      <th>1</th>\n",
                            "      <td>Medicine</td>\n",
                            "      <td>1782</td>\n",
                            "      <td>660</td>\n",
                            "      <td>1[110]</td>\n",
                            "    </tr>\n",
                            "    <tr>\n",
                            "      <th>2</th>\n",
                            "      <td>Divinity</td>\n",
                            "      <td>1816</td>\n",
                            "      <td>377</td>\n",
                            "      <td>NaN</td>\n",
                            "    </tr>\n",
                            "    <tr>\n",
                            "      <th>3</th>\n",
                            "      <td>Law</td>\n",
                            "      <td>1817</td>\n",
                            "      <td>1990</td>\n",
                            "      <td>4[111]</td>\n",
                            "    </tr>\n",
                            "    <tr>\n",
                            "      <th>4</th>\n",
                            "      <td>Dental Medicine</td>\n",
                            "      <td>1867</td>\n",
                            "      <td>280</td>\n",
                            "      <td>NaN</td>\n",
                            "    </tr>\n",
                            "    <tr>\n",
                            "      <th>5</th>\n",
                            "      <td>Arts and Sciences</td>\n",
                            "      <td>1872</td>\n",
                            "      <td>4824</td>\n",
                            "      <td>NaN</td>\n",
                            "    </tr>\n",
                            "    <tr>\n",
                            "      <th>6</th>\n",
                            "      <td>Business</td>\n",
                            "      <td>1908</td>\n",
                            "      <td>2011</td>\n",
                            "      <td>5[112]</td>\n",
                            "    </tr>\n",
                            "    <tr>\n",
                            "      <th>7</th>\n",
                            "      <td>Extension</td>\n",
                            "      <td>1910</td>\n",
                            "      <td>3428</td>\n",
                            "      <td>NaN</td>\n",
                            "    </tr>\n",
                            "    <tr>\n",
                            "      <th>8</th>\n",
                            "      <td>Design</td>\n",
                            "      <td>1914</td>\n",
                            "      <td>878</td>\n",
                            "      <td>NaN</td>\n",
                            "    </tr>\n",
                            "    <tr>\n",
                            "      <th>9</th>\n",
                            "      <td>Education</td>\n",
                            "      <td>1920</td>\n",
                            "      <td>876</td>\n",
                            "      <td>2[113]</td>\n",
                            "    </tr>\n",
                            "    <tr>\n",
                            "      <th>10</th>\n",
                            "      <td>Public Health</td>\n",
                            "      <td>1922</td>\n",
                            "      <td>1412</td>\n",
                            "      <td>3[112]</td>\n",
                            "    </tr>\n",
                            "    <tr>\n",
                            "      <th>11</th>\n",
                            "      <td>Government</td>\n",
                            "      <td>1936</td>\n",
                            "      <td>1100</td>\n",
                            "      <td>6[114]</td>\n",
                            "    </tr>\n",
                            "    <tr>\n",
                            "      <th>12</th>\n",
                            "      <td>Engineering</td>\n",
                            "      <td>2007</td>\n",
                            "      <td>1750</td>\n",
                            "      <td>21[115]</td>\n",
                            "    </tr>\n",
                            "  </tbody>\n",
                            "</table>\n",
                            "</div>"
                        ],
                        "text/plain": [
                            "                School  Founded   Enrollment U.S. News & World Report\n",
                            "0   Harvard University     1636  31,345[108]                   3[109]\n",
                            "1             Medicine     1782          660                   1[110]\n",
                            "2             Divinity     1816          377                      NaN\n",
                            "3                  Law     1817         1990                   4[111]\n",
                            "4      Dental Medicine     1867          280                      NaN\n",
                            "5    Arts and Sciences     1872         4824                      NaN\n",
                            "6             Business     1908         2011                   5[112]\n",
                            "7            Extension     1910         3428                      NaN\n",
                            "8               Design     1914          878                      NaN\n",
                            "9            Education     1920          876                   2[113]\n",
                            "10       Public Health     1922         1412                   3[112]\n",
                            "11          Government     1936         1100                   6[114]\n",
                            "12         Engineering     2007         1750                  21[115]"
                        ]
                    },
                    "execution_count": 10,
                    "metadata": {},
                    "output_type": "execute_result"
                }
            ],
            "source": [
                "df"
            ]
        },
        {
            "cell_type": "code",
            "execution_count": 11,
            "metadata": {},
            "outputs": [
                {
                    "data": {
                        "text/html": [
                            "<div>\n",
                            "<style scoped>\n",
                            "    .dataframe tbody tr th:only-of-type {\n",
                            "        vertical-align: middle;\n",
                            "    }\n",
                            "\n",
                            "    .dataframe tbody tr th {\n",
                            "        vertical-align: top;\n",
                            "    }\n",
                            "\n",
                            "    .dataframe thead th {\n",
                            "        text-align: right;\n",
                            "    }\n",
                            "</style>\n",
                            "<table border=\"1\" class=\"dataframe\">\n",
                            "  <thead>\n",
                            "    <tr style=\"text-align: right;\">\n",
                            "      <th></th>\n",
                            "      <th>School</th>\n",
                            "      <th>Founded</th>\n",
                            "    </tr>\n",
                            "  </thead>\n",
                            "  <tbody>\n",
                            "    <tr>\n",
                            "      <th>1</th>\n",
                            "      <td>Harvard College</td>\n",
                            "      <td>1636</td>\n",
                            "    </tr>\n",
                            "    <tr>\n",
                            "      <th>2</th>\n",
                            "      <td>Medicine</td>\n",
                            "      <td>1782</td>\n",
                            "    </tr>\n",
                            "    <tr>\n",
                            "      <th>3</th>\n",
                            "      <td>Divinity</td>\n",
                            "      <td>1816</td>\n",
                            "    </tr>\n",
                            "    <tr>\n",
                            "      <th>4</th>\n",
                            "      <td>Law</td>\n",
                            "      <td>1817</td>\n",
                            "    </tr>\n",
                            "    <tr>\n",
                            "      <th>5</th>\n",
                            "      <td>Dental Medicine</td>\n",
                            "      <td>1867</td>\n",
                            "    </tr>\n",
                            "    <tr>\n",
                            "      <th>6</th>\n",
                            "      <td>Arts and Sciences</td>\n",
                            "      <td>1872</td>\n",
                            "    </tr>\n",
                            "    <tr>\n",
                            "      <th>7</th>\n",
                            "      <td>Business</td>\n",
                            "      <td>1908</td>\n",
                            "    </tr>\n",
                            "    <tr>\n",
                            "      <th>8</th>\n",
                            "      <td>Extension</td>\n",
                            "      <td>1910</td>\n",
                            "    </tr>\n",
                            "    <tr>\n",
                            "      <th>9</th>\n",
                            "      <td>Design</td>\n",
                            "      <td>1936</td>\n",
                            "    </tr>\n",
                            "    <tr>\n",
                            "      <th>10</th>\n",
                            "      <td>Education</td>\n",
                            "      <td>1920</td>\n",
                            "    </tr>\n",
                            "    <tr>\n",
                            "      <th>11</th>\n",
                            "      <td>Public Health</td>\n",
                            "      <td>1913</td>\n",
                            "    </tr>\n",
                            "    <tr>\n",
                            "      <th>12</th>\n",
                            "      <td>Government</td>\n",
                            "      <td>1936</td>\n",
                            "    </tr>\n",
                            "    <tr>\n",
                            "      <th>13</th>\n",
                            "      <td>Engineering and Applied Sciences</td>\n",
                            "      <td>1847</td>\n",
                            "    </tr>\n",
                            "  </tbody>\n",
                            "</table>\n",
                            "</div>"
                        ],
                        "text/plain": [
                            "                              School Founded\n",
                            "1                    Harvard College    1636\n",
                            "2                           Medicine    1782\n",
                            "3                           Divinity    1816\n",
                            "4                                Law    1817\n",
                            "5                    Dental Medicine    1867\n",
                            "6                  Arts and Sciences    1872\n",
                            "7                           Business    1908\n",
                            "8                          Extension    1910\n",
                            "9                             Design    1936\n",
                            "10                         Education    1920\n",
                            "11                     Public Health    1913\n",
                            "12                        Government    1936\n",
                            "13  Engineering and Applied Sciences    1847"
                        ]
                    },
                    "execution_count": 11,
                    "metadata": {},
                    "output_type": "execute_result"
                }
            ],
            "source": [
                "df = pd.read_html('https://en.wikipedia.org/wiki/Harvard_University', match='School')[0]\n",
                "df = df.rename(columns=df.iloc[0])[1:]\n",
                "df"
            ]
        },
        {
            "attachments": {},
            "cell_type": "markdown",
            "metadata": {},
            "source": [
                "## pd.read_csv\n",
                "\n",
                " [`read_csv`](https://pandas.pydata.org/pandas-docs/stable/reference/api/pandas.read_csv.html) is the recommended starting point for anyone learning pandas. You can read its docs [here](https://pandas.pydata.org/pandas-docs/stable/reference/api/pandas.read_csv.html).\n",
                "\n",
                "\n",
                "### Let's use it to load [Avocado prices](https://www.kaggle.com/neuromusic/avocado-prices)\n",
                "\n",
                "*It is a well known fact that Millenials LOVE Avocado Toast. It's also a well known fact that all Millenials live in their parents basements.*\n",
                "\n",
                "*Clearly, they aren't buying home because they are buying too much Avocado Toast!*\n",
                "\n",
                "*But maybe there's hope… if a Millenial could find a city with cheap avocados, they could live out the Millenial American Dream.*"
            ]
        },
        {
            "attachments": {},
            "cell_type": "markdown",
            "metadata": {},
            "source": [
                "The table below represents weekly 2018 retail scan data for National retail volume (units) and price. Retail scan data comes directly from retailers’ cash registers based on actual retail sales of Hass avocados. Starting in 2013, the table below reflects an expanded, multi-outlet retail data set. Multi-outlet reporting includes an aggregation of the following channels: grocery, mass, club, drug, dollar and military. The Average Price (of avocados) in the table reflects a per unit (per avocado) cost, even when multiple units (avocados) are sold in bags. The Product Lookup codes (PLU’s) in the table are only for Hass avocados. Other varieties of avocados (e.g. greenskins) are not included in this table.\n",
                "\n",
                "**Some relevant columns in the dataset:**\n",
                "\n",
                "- **Date**: The date of the observation\n",
                "- **AveragePrice**: the average price of a single avocado\n",
                "- **type**: conventional or organic\n",
                "- **year**: the year\n",
                "- **Region**: the city or region of the observation\n",
                "- **Total Volume**: Total number of avocados sold\n",
                "- **4046**: Total number of avocados with PLU 4046 sold\n",
                "- **4225**: Total number of avocados with PLU 4225 sold\n",
                "- **4770**: Total number of avocados with PLU 4770 sold"
            ]
        },
        {
            "attachments": {},
            "cell_type": "markdown",
            "metadata": {},
            "source": [
                "### Load dataset\n",
                "Read a compressed csv file. We ask pandas to use first csv column as index to avoid creating a new one by default.\n",
                "\n",
                "**TIP**: when you are blind about what you are loading or you already know it is a big dataset you can fix the number of rows to be loaded using the parameter `nrows` (`nrows=None` to load all and it's the default value)"
            ]
        },
        {
            "cell_type": "code",
            "execution_count": null,
            "metadata": {},
            "outputs": [],
            "source": []
        },
        {
            "cell_type": "code",
            "execution_count": 14,
            "metadata": {},
            "outputs": [],
            "source": [
                "df = pd.read_csv('C:/Users/Araceli/OneDrive - ETH Zurich/Documentos/ARACELI OTROS/GitHub/2021-CS109A/docs/lectures/lecture02/data/avocado.csv.zip', index_col=0, compression='zip', nrows=None)"
            ]
        },
        {
            "attachments": {},
            "cell_type": "markdown",
            "metadata": {},
            "source": [
                "### Roughly exploring the data"
            ]
        },
        {
            "attachments": {},
            "cell_type": "markdown",
            "metadata": {},
            "source": [
                "We can quickly see the dataframe's dimension"
            ]
        },
        {
            "cell_type": "code",
            "execution_count": 15,
            "metadata": {},
            "outputs": [
                {
                    "data": {
                        "text/plain": [
                            "(18249, 13)"
                        ]
                    },
                    "execution_count": 15,
                    "metadata": {},
                    "output_type": "execute_result"
                }
            ],
            "source": [
                "df.shape"
            ]
        },
        {
            "attachments": {},
            "cell_type": "markdown",
            "metadata": {},
            "source": [
                "The shape is a tuple with the number of rows and the number of columns"
            ]
        },
        {
            "cell_type": "code",
            "execution_count": 16,
            "metadata": {},
            "outputs": [
                {
                    "data": {
                        "text/plain": [
                            "(18249, 13)"
                        ]
                    },
                    "execution_count": 16,
                    "metadata": {},
                    "output_type": "execute_result"
                }
            ],
            "source": [
                "len(df.index), len(df.columns)"
            ]
        },
        {
            "attachments": {},
            "cell_type": "markdown",
            "metadata": {},
            "source": [
                "Show only the columns' names"
            ]
        },
        {
            "cell_type": "code",
            "execution_count": 17,
            "metadata": {},
            "outputs": [
                {
                    "data": {
                        "text/plain": [
                            "Index(['Date', 'AveragePrice', 'Total Volume', '4046', '4225', '4770',\n",
                            "       'Total Bags', 'Small Bags', 'Large Bags', 'XLarge Bags', 'type', 'year',\n",
                            "       'region'],\n",
                            "      dtype='object')"
                        ]
                    },
                    "execution_count": 17,
                    "metadata": {},
                    "output_type": "execute_result"
                }
            ],
            "source": [
                "df.columns"
            ]
        },
        {
            "attachments": {},
            "cell_type": "markdown",
            "metadata": {},
            "source": [
                "The columns attribute is not a python list."
            ]
        },
        {
            "cell_type": "code",
            "execution_count": 18,
            "metadata": {},
            "outputs": [
                {
                    "data": {
                        "text/plain": [
                            "True"
                        ]
                    },
                    "execution_count": 18,
                    "metadata": {},
                    "output_type": "execute_result"
                }
            ],
            "source": [
                "type(df.columns) == pd.Index"
            ]
        },
        {
            "attachments": {},
            "cell_type": "markdown",
            "metadata": {},
            "source": [
                "Show only the index"
            ]
        },
        {
            "cell_type": "code",
            "execution_count": 17,
            "metadata": {},
            "outputs": [
                {
                    "data": {
                        "text/plain": [
                            "Int64Index([ 0,  1,  2,  3,  4,  5,  6,  7,  8,  9,\n",
                            "            ...\n",
                            "             2,  3,  4,  5,  6,  7,  8,  9, 10, 11],\n",
                            "           dtype='int64', length=18249)"
                        ]
                    },
                    "execution_count": 17,
                    "metadata": {},
                    "output_type": "execute_result"
                }
            ],
            "source": [
                "df.index"
            ]
        },
        {
            "attachments": {},
            "cell_type": "markdown",
            "metadata": {},
            "source": [
                "Sometimes some column type is incorrect and possible ways to detect it is using `df.info()` or `df.dtypes`."
            ]
        },
        {
            "cell_type": "code",
            "execution_count": 20,
            "metadata": {},
            "outputs": [
                {
                    "data": {
                        "text/plain": [
                            "Date             object\n",
                            "AveragePrice    float64\n",
                            "Total Volume    float64\n",
                            "4046            float64\n",
                            "4225            float64\n",
                            "4770            float64\n",
                            "Total Bags      float64\n",
                            "Small Bags      float64\n",
                            "Large Bags      float64\n",
                            "XLarge Bags     float64\n",
                            "type             object\n",
                            "year              int64\n",
                            "region           object\n",
                            "dtype: object"
                        ]
                    },
                    "execution_count": 20,
                    "metadata": {},
                    "output_type": "execute_result"
                }
            ],
            "source": [
                "df.dtypes"
            ]
        },
        {
            "attachments": {},
            "cell_type": "markdown",
            "metadata": {},
            "source": [
                "In example, here `Date` is an object (the way pandas save strings). We can use a better column type for that."
            ]
        },
        {
            "cell_type": "code",
            "execution_count": 21,
            "metadata": {},
            "outputs": [
                {
                    "data": {
                        "text/plain": [
                            "Date            datetime64[ns]\n",
                            "AveragePrice           float64\n",
                            "Total Volume           float64\n",
                            "4046                   float64\n",
                            "4225                   float64\n",
                            "4770                   float64\n",
                            "Total Bags             float64\n",
                            "Small Bags             float64\n",
                            "Large Bags             float64\n",
                            "XLarge Bags            float64\n",
                            "type                    object\n",
                            "year                     int64\n",
                            "region                  object\n",
                            "dtype: object"
                        ]
                    },
                    "execution_count": 21,
                    "metadata": {},
                    "output_type": "execute_result"
                }
            ],
            "source": [
                "df['Date'] = pd.to_datetime(df['Date'])\n",
                "df.dtypes"
            ]
        },
        {
            "attachments": {},
            "cell_type": "markdown",
            "metadata": {},
            "source": [
                "show first (by default: 5) rows"
            ]
        },
        {
            "cell_type": "code",
            "execution_count": 22,
            "metadata": {},
            "outputs": [
                {
                    "data": {
                        "text/html": [
                            "<div>\n",
                            "<style scoped>\n",
                            "    .dataframe tbody tr th:only-of-type {\n",
                            "        vertical-align: middle;\n",
                            "    }\n",
                            "\n",
                            "    .dataframe tbody tr th {\n",
                            "        vertical-align: top;\n",
                            "    }\n",
                            "\n",
                            "    .dataframe thead th {\n",
                            "        text-align: right;\n",
                            "    }\n",
                            "</style>\n",
                            "<table border=\"1\" class=\"dataframe\">\n",
                            "  <thead>\n",
                            "    <tr style=\"text-align: right;\">\n",
                            "      <th></th>\n",
                            "      <th>Date</th>\n",
                            "      <th>AveragePrice</th>\n",
                            "      <th>Total Volume</th>\n",
                            "      <th>4046</th>\n",
                            "      <th>4225</th>\n",
                            "      <th>4770</th>\n",
                            "      <th>Total Bags</th>\n",
                            "      <th>Small Bags</th>\n",
                            "      <th>Large Bags</th>\n",
                            "      <th>XLarge Bags</th>\n",
                            "      <th>type</th>\n",
                            "      <th>year</th>\n",
                            "      <th>region</th>\n",
                            "    </tr>\n",
                            "  </thead>\n",
                            "  <tbody>\n",
                            "    <tr>\n",
                            "      <th>0</th>\n",
                            "      <td>2015-12-27</td>\n",
                            "      <td>1.33</td>\n",
                            "      <td>64236.62</td>\n",
                            "      <td>1036.74</td>\n",
                            "      <td>54454.85</td>\n",
                            "      <td>48.16</td>\n",
                            "      <td>8696.87</td>\n",
                            "      <td>8603.62</td>\n",
                            "      <td>93.25</td>\n",
                            "      <td>0.0</td>\n",
                            "      <td>conventional</td>\n",
                            "      <td>2015</td>\n",
                            "      <td>Albany</td>\n",
                            "    </tr>\n",
                            "    <tr>\n",
                            "      <th>1</th>\n",
                            "      <td>2015-12-20</td>\n",
                            "      <td>1.35</td>\n",
                            "      <td>54876.98</td>\n",
                            "      <td>674.28</td>\n",
                            "      <td>44638.81</td>\n",
                            "      <td>58.33</td>\n",
                            "      <td>9505.56</td>\n",
                            "      <td>9408.07</td>\n",
                            "      <td>97.49</td>\n",
                            "      <td>0.0</td>\n",
                            "      <td>conventional</td>\n",
                            "      <td>2015</td>\n",
                            "      <td>Albany</td>\n",
                            "    </tr>\n",
                            "    <tr>\n",
                            "      <th>2</th>\n",
                            "      <td>2015-12-13</td>\n",
                            "      <td>0.93</td>\n",
                            "      <td>118220.22</td>\n",
                            "      <td>794.70</td>\n",
                            "      <td>109149.67</td>\n",
                            "      <td>130.50</td>\n",
                            "      <td>8145.35</td>\n",
                            "      <td>8042.21</td>\n",
                            "      <td>103.14</td>\n",
                            "      <td>0.0</td>\n",
                            "      <td>conventional</td>\n",
                            "      <td>2015</td>\n",
                            "      <td>Albany</td>\n",
                            "    </tr>\n",
                            "    <tr>\n",
                            "      <th>3</th>\n",
                            "      <td>2015-12-06</td>\n",
                            "      <td>1.08</td>\n",
                            "      <td>78992.15</td>\n",
                            "      <td>1132.00</td>\n",
                            "      <td>71976.41</td>\n",
                            "      <td>72.58</td>\n",
                            "      <td>5811.16</td>\n",
                            "      <td>5677.40</td>\n",
                            "      <td>133.76</td>\n",
                            "      <td>0.0</td>\n",
                            "      <td>conventional</td>\n",
                            "      <td>2015</td>\n",
                            "      <td>Albany</td>\n",
                            "    </tr>\n",
                            "    <tr>\n",
                            "      <th>4</th>\n",
                            "      <td>2015-11-29</td>\n",
                            "      <td>1.28</td>\n",
                            "      <td>51039.60</td>\n",
                            "      <td>941.48</td>\n",
                            "      <td>43838.39</td>\n",
                            "      <td>75.78</td>\n",
                            "      <td>6183.95</td>\n",
                            "      <td>5986.26</td>\n",
                            "      <td>197.69</td>\n",
                            "      <td>0.0</td>\n",
                            "      <td>conventional</td>\n",
                            "      <td>2015</td>\n",
                            "      <td>Albany</td>\n",
                            "    </tr>\n",
                            "  </tbody>\n",
                            "</table>\n",
                            "</div>"
                        ],
                        "text/plain": [
                            "        Date  AveragePrice  Total Volume     4046       4225    4770  \\\n",
                            "0 2015-12-27          1.33      64236.62  1036.74   54454.85   48.16   \n",
                            "1 2015-12-20          1.35      54876.98   674.28   44638.81   58.33   \n",
                            "2 2015-12-13          0.93     118220.22   794.70  109149.67  130.50   \n",
                            "3 2015-12-06          1.08      78992.15  1132.00   71976.41   72.58   \n",
                            "4 2015-11-29          1.28      51039.60   941.48   43838.39   75.78   \n",
                            "\n",
                            "   Total Bags  Small Bags  Large Bags  XLarge Bags          type  year  region  \n",
                            "0     8696.87     8603.62       93.25          0.0  conventional  2015  Albany  \n",
                            "1     9505.56     9408.07       97.49          0.0  conventional  2015  Albany  \n",
                            "2     8145.35     8042.21      103.14          0.0  conventional  2015  Albany  \n",
                            "3     5811.16     5677.40      133.76          0.0  conventional  2015  Albany  \n",
                            "4     6183.95     5986.26      197.69          0.0  conventional  2015  Albany  "
                        ]
                    },
                    "execution_count": 22,
                    "metadata": {},
                    "output_type": "execute_result"
                }
            ],
            "source": [
                "df.head()"
            ]
        },
        {
            "attachments": {},
            "cell_type": "markdown",
            "metadata": {},
            "source": [
                "show last 2 rows"
            ]
        },
        {
            "cell_type": "code",
            "execution_count": 23,
            "metadata": {},
            "outputs": [
                {
                    "data": {
                        "text/html": [
                            "<div>\n",
                            "<style scoped>\n",
                            "    .dataframe tbody tr th:only-of-type {\n",
                            "        vertical-align: middle;\n",
                            "    }\n",
                            "\n",
                            "    .dataframe tbody tr th {\n",
                            "        vertical-align: top;\n",
                            "    }\n",
                            "\n",
                            "    .dataframe thead th {\n",
                            "        text-align: right;\n",
                            "    }\n",
                            "</style>\n",
                            "<table border=\"1\" class=\"dataframe\">\n",
                            "  <thead>\n",
                            "    <tr style=\"text-align: right;\">\n",
                            "      <th></th>\n",
                            "      <th>Date</th>\n",
                            "      <th>AveragePrice</th>\n",
                            "      <th>Total Volume</th>\n",
                            "      <th>4046</th>\n",
                            "      <th>4225</th>\n",
                            "      <th>4770</th>\n",
                            "      <th>Total Bags</th>\n",
                            "      <th>Small Bags</th>\n",
                            "      <th>Large Bags</th>\n",
                            "      <th>XLarge Bags</th>\n",
                            "      <th>type</th>\n",
                            "      <th>year</th>\n",
                            "      <th>region</th>\n",
                            "    </tr>\n",
                            "  </thead>\n",
                            "  <tbody>\n",
                            "    <tr>\n",
                            "      <th>10</th>\n",
                            "      <td>2018-01-14</td>\n",
                            "      <td>1.93</td>\n",
                            "      <td>16205.22</td>\n",
                            "      <td>1527.63</td>\n",
                            "      <td>2981.04</td>\n",
                            "      <td>727.01</td>\n",
                            "      <td>10969.54</td>\n",
                            "      <td>10919.54</td>\n",
                            "      <td>50.00</td>\n",
                            "      <td>0.0</td>\n",
                            "      <td>organic</td>\n",
                            "      <td>2018</td>\n",
                            "      <td>WestTexNewMexico</td>\n",
                            "    </tr>\n",
                            "    <tr>\n",
                            "      <th>11</th>\n",
                            "      <td>2018-01-07</td>\n",
                            "      <td>1.62</td>\n",
                            "      <td>17489.58</td>\n",
                            "      <td>2894.77</td>\n",
                            "      <td>2356.13</td>\n",
                            "      <td>224.53</td>\n",
                            "      <td>12014.15</td>\n",
                            "      <td>11988.14</td>\n",
                            "      <td>26.01</td>\n",
                            "      <td>0.0</td>\n",
                            "      <td>organic</td>\n",
                            "      <td>2018</td>\n",
                            "      <td>WestTexNewMexico</td>\n",
                            "    </tr>\n",
                            "  </tbody>\n",
                            "</table>\n",
                            "</div>"
                        ],
                        "text/plain": [
                            "         Date  AveragePrice  Total Volume     4046     4225    4770  \\\n",
                            "10 2018-01-14          1.93      16205.22  1527.63  2981.04  727.01   \n",
                            "11 2018-01-07          1.62      17489.58  2894.77  2356.13  224.53   \n",
                            "\n",
                            "    Total Bags  Small Bags  Large Bags  XLarge Bags     type  year  \\\n",
                            "10    10969.54    10919.54       50.00          0.0  organic  2018   \n",
                            "11    12014.15    11988.14       26.01          0.0  organic  2018   \n",
                            "\n",
                            "              region  \n",
                            "10  WestTexNewMexico  \n",
                            "11  WestTexNewMexico  "
                        ]
                    },
                    "execution_count": 23,
                    "metadata": {},
                    "output_type": "execute_result"
                }
            ],
            "source": [
                "df.tail(2)"
            ]
        },
        {
            "attachments": {},
            "cell_type": "markdown",
            "metadata": {},
            "source": [
                "**display some data info**\n",
                "\n",
                "Sometimes the Dataframe method `info()` is a great way to take a first data snapshot with few columns datasets. It displays:\n",
                "- columns names\n",
                "- number of rows (as entries)\n",
                "- number of non null values\n",
                "- data type per column (per Series)\n",
                "- memory usage\n",
                "\n",
                "**TIP**: if you know that the number of columns is high (maybe when printing `df.shape[1]`), then you can pass a `False` flag to the method `info()` to reduce the information just to global information."
            ]
        },
        {
            "cell_type": "code",
            "execution_count": 24,
            "metadata": {},
            "outputs": [
                {
                    "name": "stdout",
                    "output_type": "stream",
                    "text": [
                        "<class 'pandas.core.frame.DataFrame'>\n",
                        "Index: 18249 entries, 0 to 11\n",
                        "Data columns (total 13 columns):\n",
                        " #   Column        Non-Null Count  Dtype         \n",
                        "---  ------        --------------  -----         \n",
                        " 0   Date          18249 non-null  datetime64[ns]\n",
                        " 1   AveragePrice  18249 non-null  float64       \n",
                        " 2   Total Volume  18249 non-null  float64       \n",
                        " 3   4046          18249 non-null  float64       \n",
                        " 4   4225          18249 non-null  float64       \n",
                        " 5   4770          18249 non-null  float64       \n",
                        " 6   Total Bags    18249 non-null  float64       \n",
                        " 7   Small Bags    18249 non-null  float64       \n",
                        " 8   Large Bags    18249 non-null  float64       \n",
                        " 9   XLarge Bags   18249 non-null  float64       \n",
                        " 10  type          18249 non-null  object        \n",
                        " 11  year          18249 non-null  int64         \n",
                        " 12  region        18249 non-null  object        \n",
                        "dtypes: datetime64[ns](1), float64(9), int64(1), object(2)\n",
                        "memory usage: 1.9+ MB\n"
                    ]
                }
            ],
            "source": [
                "few_columns = True\n",
                "df.info(verbose=few_columns)"
            ]
        },
        {
            "attachments": {},
            "cell_type": "markdown",
            "metadata": {},
            "source": [
                "## Descriptive statistics\n",
                "\n",
                "We can take a fast look at some data statistics with one line of code"
            ]
        },
        {
            "cell_type": "code",
            "execution_count": 25,
            "metadata": {},
            "outputs": [
                {
                    "data": {
                        "text/html": [
                            "<div>\n",
                            "<style scoped>\n",
                            "    .dataframe tbody tr th:only-of-type {\n",
                            "        vertical-align: middle;\n",
                            "    }\n",
                            "\n",
                            "    .dataframe tbody tr th {\n",
                            "        vertical-align: top;\n",
                            "    }\n",
                            "\n",
                            "    .dataframe thead th {\n",
                            "        text-align: right;\n",
                            "    }\n",
                            "</style>\n",
                            "<table border=\"1\" class=\"dataframe\">\n",
                            "  <thead>\n",
                            "    <tr style=\"text-align: right;\">\n",
                            "      <th></th>\n",
                            "      <th>Date</th>\n",
                            "      <th>AveragePrice</th>\n",
                            "      <th>Total Volume</th>\n",
                            "      <th>4046</th>\n",
                            "      <th>4225</th>\n",
                            "      <th>4770</th>\n",
                            "      <th>Total Bags</th>\n",
                            "      <th>Small Bags</th>\n",
                            "      <th>Large Bags</th>\n",
                            "      <th>XLarge Bags</th>\n",
                            "      <th>year</th>\n",
                            "    </tr>\n",
                            "  </thead>\n",
                            "  <tbody>\n",
                            "    <tr>\n",
                            "      <th>count</th>\n",
                            "      <td>18249</td>\n",
                            "      <td>18249.000000</td>\n",
                            "      <td>1.824900e+04</td>\n",
                            "      <td>1.824900e+04</td>\n",
                            "      <td>1.824900e+04</td>\n",
                            "      <td>1.824900e+04</td>\n",
                            "      <td>1.824900e+04</td>\n",
                            "      <td>1.824900e+04</td>\n",
                            "      <td>1.824900e+04</td>\n",
                            "      <td>18249.000000</td>\n",
                            "      <td>18249.000000</td>\n",
                            "    </tr>\n",
                            "    <tr>\n",
                            "      <th>mean</th>\n",
                            "      <td>2016-08-13 23:30:43.498273792</td>\n",
                            "      <td>1.405978</td>\n",
                            "      <td>8.506440e+05</td>\n",
                            "      <td>2.930084e+05</td>\n",
                            "      <td>2.951546e+05</td>\n",
                            "      <td>2.283974e+04</td>\n",
                            "      <td>2.396392e+05</td>\n",
                            "      <td>1.821947e+05</td>\n",
                            "      <td>5.433809e+04</td>\n",
                            "      <td>3106.426507</td>\n",
                            "      <td>2016.147899</td>\n",
                            "    </tr>\n",
                            "    <tr>\n",
                            "      <th>min</th>\n",
                            "      <td>2015-01-04 00:00:00</td>\n",
                            "      <td>0.440000</td>\n",
                            "      <td>8.456000e+01</td>\n",
                            "      <td>0.000000e+00</td>\n",
                            "      <td>0.000000e+00</td>\n",
                            "      <td>0.000000e+00</td>\n",
                            "      <td>0.000000e+00</td>\n",
                            "      <td>0.000000e+00</td>\n",
                            "      <td>0.000000e+00</td>\n",
                            "      <td>0.000000</td>\n",
                            "      <td>2015.000000</td>\n",
                            "    </tr>\n",
                            "    <tr>\n",
                            "      <th>25%</th>\n",
                            "      <td>2015-10-25 00:00:00</td>\n",
                            "      <td>1.100000</td>\n",
                            "      <td>1.083858e+04</td>\n",
                            "      <td>8.540700e+02</td>\n",
                            "      <td>3.008780e+03</td>\n",
                            "      <td>0.000000e+00</td>\n",
                            "      <td>5.088640e+03</td>\n",
                            "      <td>2.849420e+03</td>\n",
                            "      <td>1.274700e+02</td>\n",
                            "      <td>0.000000</td>\n",
                            "      <td>2015.000000</td>\n",
                            "    </tr>\n",
                            "    <tr>\n",
                            "      <th>50%</th>\n",
                            "      <td>2016-08-14 00:00:00</td>\n",
                            "      <td>1.370000</td>\n",
                            "      <td>1.073768e+05</td>\n",
                            "      <td>8.645300e+03</td>\n",
                            "      <td>2.906102e+04</td>\n",
                            "      <td>1.849900e+02</td>\n",
                            "      <td>3.974383e+04</td>\n",
                            "      <td>2.636282e+04</td>\n",
                            "      <td>2.647710e+03</td>\n",
                            "      <td>0.000000</td>\n",
                            "      <td>2016.000000</td>\n",
                            "    </tr>\n",
                            "    <tr>\n",
                            "      <th>75%</th>\n",
                            "      <td>2017-06-04 00:00:00</td>\n",
                            "      <td>1.660000</td>\n",
                            "      <td>4.329623e+05</td>\n",
                            "      <td>1.110202e+05</td>\n",
                            "      <td>1.502069e+05</td>\n",
                            "      <td>6.243420e+03</td>\n",
                            "      <td>1.107834e+05</td>\n",
                            "      <td>8.333767e+04</td>\n",
                            "      <td>2.202925e+04</td>\n",
                            "      <td>132.500000</td>\n",
                            "      <td>2017.000000</td>\n",
                            "    </tr>\n",
                            "    <tr>\n",
                            "      <th>max</th>\n",
                            "      <td>2018-03-25 00:00:00</td>\n",
                            "      <td>3.250000</td>\n",
                            "      <td>6.250565e+07</td>\n",
                            "      <td>2.274362e+07</td>\n",
                            "      <td>2.047057e+07</td>\n",
                            "      <td>2.546439e+06</td>\n",
                            "      <td>1.937313e+07</td>\n",
                            "      <td>1.338459e+07</td>\n",
                            "      <td>5.719097e+06</td>\n",
                            "      <td>551693.650000</td>\n",
                            "      <td>2018.000000</td>\n",
                            "    </tr>\n",
                            "    <tr>\n",
                            "      <th>std</th>\n",
                            "      <td>NaN</td>\n",
                            "      <td>0.402677</td>\n",
                            "      <td>3.453545e+06</td>\n",
                            "      <td>1.264989e+06</td>\n",
                            "      <td>1.204120e+06</td>\n",
                            "      <td>1.074641e+05</td>\n",
                            "      <td>9.862424e+05</td>\n",
                            "      <td>7.461785e+05</td>\n",
                            "      <td>2.439660e+05</td>\n",
                            "      <td>17692.894652</td>\n",
                            "      <td>0.939938</td>\n",
                            "    </tr>\n",
                            "  </tbody>\n",
                            "</table>\n",
                            "</div>"
                        ],
                        "text/plain": [
                            "                                Date  AveragePrice  Total Volume  \\\n",
                            "count                          18249  18249.000000  1.824900e+04   \n",
                            "mean   2016-08-13 23:30:43.498273792      1.405978  8.506440e+05   \n",
                            "min              2015-01-04 00:00:00      0.440000  8.456000e+01   \n",
                            "25%              2015-10-25 00:00:00      1.100000  1.083858e+04   \n",
                            "50%              2016-08-14 00:00:00      1.370000  1.073768e+05   \n",
                            "75%              2017-06-04 00:00:00      1.660000  4.329623e+05   \n",
                            "max              2018-03-25 00:00:00      3.250000  6.250565e+07   \n",
                            "std                              NaN      0.402677  3.453545e+06   \n",
                            "\n",
                            "               4046          4225          4770    Total Bags    Small Bags  \\\n",
                            "count  1.824900e+04  1.824900e+04  1.824900e+04  1.824900e+04  1.824900e+04   \n",
                            "mean   2.930084e+05  2.951546e+05  2.283974e+04  2.396392e+05  1.821947e+05   \n",
                            "min    0.000000e+00  0.000000e+00  0.000000e+00  0.000000e+00  0.000000e+00   \n",
                            "25%    8.540700e+02  3.008780e+03  0.000000e+00  5.088640e+03  2.849420e+03   \n",
                            "50%    8.645300e+03  2.906102e+04  1.849900e+02  3.974383e+04  2.636282e+04   \n",
                            "75%    1.110202e+05  1.502069e+05  6.243420e+03  1.107834e+05  8.333767e+04   \n",
                            "max    2.274362e+07  2.047057e+07  2.546439e+06  1.937313e+07  1.338459e+07   \n",
                            "std    1.264989e+06  1.204120e+06  1.074641e+05  9.862424e+05  7.461785e+05   \n",
                            "\n",
                            "         Large Bags    XLarge Bags          year  \n",
                            "count  1.824900e+04   18249.000000  18249.000000  \n",
                            "mean   5.433809e+04    3106.426507   2016.147899  \n",
                            "min    0.000000e+00       0.000000   2015.000000  \n",
                            "25%    1.274700e+02       0.000000   2015.000000  \n",
                            "50%    2.647710e+03       0.000000   2016.000000  \n",
                            "75%    2.202925e+04     132.500000   2017.000000  \n",
                            "max    5.719097e+06  551693.650000   2018.000000  \n",
                            "std    2.439660e+05   17692.894652      0.939938  "
                        ]
                    },
                    "execution_count": 25,
                    "metadata": {},
                    "output_type": "execute_result"
                }
            ],
            "source": [
                "df.describe()"
            ]
        },
        {
            "attachments": {},
            "cell_type": "markdown",
            "metadata": {},
            "source": [
                "## Data Selection\n",
                "\n",
                "### Column names\n",
                "\n",
                "They represent a powerful tool to access subgroups or individual values (in combination with other methods) in a DataFrame."
            ]
        },
        {
            "attachments": {},
            "cell_type": "markdown",
            "metadata": {},
            "source": [
                "## $[]$ vs $[[]]$"
            ]
        },
        {
            "attachments": {},
            "cell_type": "markdown",
            "metadata": {},
            "source": [
                "**Using column name as key will return the column values as type Series**\n",
                "```python\n",
                "# returns a Series with dataframe values for column 'my_col'\n",
                "df['my_col']\n",
                "# this gives the same access but is not recommended. Can't work when there is a space or a not allowed char in the name.\n",
                "df.my_col\n",
                "```\n",
                "**Using a python list of column names as key will return a sub dataframe with that columns**\n",
                "```python\n",
                "# returns a DataFrame with the two columns\n",
                "df[['my_col_A', 'my_col_B']]\n",
                "# returns a Series with my_col_A values\n",
                "df[['my_col_A']]\n",
                "```"
            ]
        },
        {
            "cell_type": "code",
            "execution_count": 26,
            "metadata": {},
            "outputs": [
                {
                    "data": {
                        "text/plain": [
                            "False"
                        ]
                    },
                    "execution_count": 26,
                    "metadata": {},
                    "output_type": "execute_result"
                }
            ],
            "source": [
                "# this should be False because we just say that column name inside brackets returns a Series\n",
                "type(df['AveragePrice']) == pd.DataFrame"
            ]
        },
        {
            "cell_type": "code",
            "execution_count": 27,
            "metadata": {},
            "outputs": [
                {
                    "data": {
                        "text/plain": [
                            "True"
                        ]
                    },
                    "execution_count": 27,
                    "metadata": {},
                    "output_type": "execute_result"
                }
            ],
            "source": [
                "type(df['AveragePrice']) == pd.Series"
            ]
        },
        {
            "cell_type": "code",
            "execution_count": 28,
            "metadata": {},
            "outputs": [
                {
                    "data": {
                        "text/plain": [
                            "True"
                        ]
                    },
                    "execution_count": 28,
                    "metadata": {},
                    "output_type": "execute_result"
                }
            ],
            "source": [
                "# this should be True because we say that a list of column names inside brackets returns a sub dataframe\n",
                "type(df[['AveragePrice']]) == pd.DataFrame"
            ]
        },
        {
            "attachments": {},
            "cell_type": "markdown",
            "metadata": {},
            "source": [
                "Accessing column Series"
            ]
        },
        {
            "cell_type": "code",
            "execution_count": 29,
            "metadata": {},
            "outputs": [
                {
                    "data": {
                        "text/plain": [
                            "0    1.33\n",
                            "1    1.35\n",
                            "2    0.93\n",
                            "3    1.08\n",
                            "4    1.28\n",
                            "Name: AveragePrice, dtype: float64"
                        ]
                    },
                    "execution_count": 29,
                    "metadata": {},
                    "output_type": "execute_result"
                }
            ],
            "source": [
                "df['AveragePrice'].head()"
            ]
        },
        {
            "attachments": {},
            "cell_type": "markdown",
            "metadata": {},
            "source": [
                "Accessing subdataframe of one column"
            ]
        },
        {
            "cell_type": "code",
            "execution_count": 30,
            "metadata": {},
            "outputs": [
                {
                    "data": {
                        "text/html": [
                            "<div>\n",
                            "<style scoped>\n",
                            "    .dataframe tbody tr th:only-of-type {\n",
                            "        vertical-align: middle;\n",
                            "    }\n",
                            "\n",
                            "    .dataframe tbody tr th {\n",
                            "        vertical-align: top;\n",
                            "    }\n",
                            "\n",
                            "    .dataframe thead th {\n",
                            "        text-align: right;\n",
                            "    }\n",
                            "</style>\n",
                            "<table border=\"1\" class=\"dataframe\">\n",
                            "  <thead>\n",
                            "    <tr style=\"text-align: right;\">\n",
                            "      <th></th>\n",
                            "      <th>AveragePrice</th>\n",
                            "    </tr>\n",
                            "  </thead>\n",
                            "  <tbody>\n",
                            "    <tr>\n",
                            "      <th>0</th>\n",
                            "      <td>1.33</td>\n",
                            "    </tr>\n",
                            "    <tr>\n",
                            "      <th>1</th>\n",
                            "      <td>1.35</td>\n",
                            "    </tr>\n",
                            "    <tr>\n",
                            "      <th>2</th>\n",
                            "      <td>0.93</td>\n",
                            "    </tr>\n",
                            "    <tr>\n",
                            "      <th>3</th>\n",
                            "      <td>1.08</td>\n",
                            "    </tr>\n",
                            "    <tr>\n",
                            "      <th>4</th>\n",
                            "      <td>1.28</td>\n",
                            "    </tr>\n",
                            "  </tbody>\n",
                            "</table>\n",
                            "</div>"
                        ],
                        "text/plain": [
                            "   AveragePrice\n",
                            "0          1.33\n",
                            "1          1.35\n",
                            "2          0.93\n",
                            "3          1.08\n",
                            "4          1.28"
                        ]
                    },
                    "execution_count": 30,
                    "metadata": {},
                    "output_type": "execute_result"
                }
            ],
            "source": [
                "df[['AveragePrice']].head()"
            ]
        },
        {
            "attachments": {},
            "cell_type": "markdown",
            "metadata": {},
            "source": [
                "Let's try to visualize the difference once more using the method `values` that return the data as numpy array."
            ]
        },
        {
            "cell_type": "code",
            "execution_count": 31,
            "metadata": {},
            "outputs": [
                {
                    "data": {
                        "text/plain": [
                            "array([1.33, 1.35, 0.93, ..., 1.87, 1.93, 1.62])"
                        ]
                    },
                    "execution_count": 31,
                    "metadata": {},
                    "output_type": "execute_result"
                }
            ],
            "source": [
                "df['AveragePrice'].values"
            ]
        },
        {
            "cell_type": "code",
            "execution_count": 32,
            "metadata": {},
            "outputs": [
                {
                    "data": {
                        "text/plain": [
                            "array([[1.33],\n",
                            "       [1.35],\n",
                            "       [0.93],\n",
                            "       ...,\n",
                            "       [1.87],\n",
                            "       [1.93],\n",
                            "       [1.62]])"
                        ]
                    },
                    "execution_count": 32,
                    "metadata": {},
                    "output_type": "execute_result"
                }
            ],
            "source": [
                " df[['AveragePrice']].values"
            ]
        },
        {
            "attachments": {},
            "cell_type": "markdown",
            "metadata": {},
            "source": [
                "This is because `Series.values` returns a one dimensional array with the column values and `DataFrame.values` returns a two dimensional array that could be thought as an array of rows."
            ]
        },
        {
            "cell_type": "code",
            "execution_count": 33,
            "metadata": {},
            "outputs": [
                {
                    "data": {
                        "text/plain": [
                            "((18249,), (18249, 1))"
                        ]
                    },
                    "execution_count": 33,
                    "metadata": {},
                    "output_type": "execute_result"
                }
            ],
            "source": [
                "df['AveragePrice'].values.shape, df[['AveragePrice']].values.shape"
            ]
        },
        {
            "attachments": {},
            "cell_type": "markdown",
            "metadata": {},
            "source": [
                "**Exercise**  \n",
                "In the cell below fill in the blanks to display the first 10 rows of a sub-dataframe with columns `Date` and `AveragePrice`. Remember that DataFrame is a class that allows chaining composition."
            ]
        },
        {
            "cell_type": "code",
            "execution_count": 34,
            "metadata": {},
            "outputs": [
                {
                    "data": {
                        "text/html": [
                            "<div>\n",
                            "<style scoped>\n",
                            "    .dataframe tbody tr th:only-of-type {\n",
                            "        vertical-align: middle;\n",
                            "    }\n",
                            "\n",
                            "    .dataframe tbody tr th {\n",
                            "        vertical-align: top;\n",
                            "    }\n",
                            "\n",
                            "    .dataframe thead th {\n",
                            "        text-align: right;\n",
                            "    }\n",
                            "</style>\n",
                            "<table border=\"1\" class=\"dataframe\">\n",
                            "  <thead>\n",
                            "    <tr style=\"text-align: right;\">\n",
                            "      <th></th>\n",
                            "      <th>Date</th>\n",
                            "      <th>AveragePrice</th>\n",
                            "    </tr>\n",
                            "  </thead>\n",
                            "  <tbody>\n",
                            "    <tr>\n",
                            "      <th>0</th>\n",
                            "      <td>2015-12-27</td>\n",
                            "      <td>1.33</td>\n",
                            "    </tr>\n",
                            "    <tr>\n",
                            "      <th>1</th>\n",
                            "      <td>2015-12-20</td>\n",
                            "      <td>1.35</td>\n",
                            "    </tr>\n",
                            "    <tr>\n",
                            "      <th>2</th>\n",
                            "      <td>2015-12-13</td>\n",
                            "      <td>0.93</td>\n",
                            "    </tr>\n",
                            "    <tr>\n",
                            "      <th>3</th>\n",
                            "      <td>2015-12-06</td>\n",
                            "      <td>1.08</td>\n",
                            "    </tr>\n",
                            "    <tr>\n",
                            "      <th>4</th>\n",
                            "      <td>2015-11-29</td>\n",
                            "      <td>1.28</td>\n",
                            "    </tr>\n",
                            "    <tr>\n",
                            "      <th>5</th>\n",
                            "      <td>2015-11-22</td>\n",
                            "      <td>1.26</td>\n",
                            "    </tr>\n",
                            "    <tr>\n",
                            "      <th>6</th>\n",
                            "      <td>2015-11-15</td>\n",
                            "      <td>0.99</td>\n",
                            "    </tr>\n",
                            "    <tr>\n",
                            "      <th>7</th>\n",
                            "      <td>2015-11-08</td>\n",
                            "      <td>0.98</td>\n",
                            "    </tr>\n",
                            "    <tr>\n",
                            "      <th>8</th>\n",
                            "      <td>2015-11-01</td>\n",
                            "      <td>1.02</td>\n",
                            "    </tr>\n",
                            "    <tr>\n",
                            "      <th>9</th>\n",
                            "      <td>2015-10-25</td>\n",
                            "      <td>1.07</td>\n",
                            "    </tr>\n",
                            "  </tbody>\n",
                            "</table>\n",
                            "</div>"
                        ],
                        "text/plain": [
                            "        Date  AveragePrice\n",
                            "0 2015-12-27          1.33\n",
                            "1 2015-12-20          1.35\n",
                            "2 2015-12-13          0.93\n",
                            "3 2015-12-06          1.08\n",
                            "4 2015-11-29          1.28\n",
                            "5 2015-11-22          1.26\n",
                            "6 2015-11-15          0.99\n",
                            "7 2015-11-08          0.98\n",
                            "8 2015-11-01          1.02\n",
                            "9 2015-10-25          1.07"
                        ]
                    },
                    "execution_count": 34,
                    "metadata": {},
                    "output_type": "execute_result"
                }
            ],
            "source": [
                "df[['Date','AveragePrice']].head(10)"
            ]
        },
        {
            "attachments": {},
            "cell_type": "markdown",
            "metadata": {},
            "source": [
                "## Filtering\n",
                "\n",
                "An expresion like the one show below represents a condition that will return a boolean list with many boolean values as values in the Series `df['Date']`. And this number, its length is the same size of the number of rows in the DataFrame df.\n",
                "```python\n",
                "df['Date'] == '2015-10-25'\n",
                "```\n",
                "The boolean list will be True for rows where the condition is True and False otherwise. A list of boolean values let as filter a DataFrame based on the condition."
            ]
        },
        {
            "cell_type": "code",
            "execution_count": 35,
            "metadata": {},
            "outputs": [
                {
                    "data": {
                        "text/plain": [
                            "0     False\n",
                            "1     False\n",
                            "2     False\n",
                            "3     False\n",
                            "4     False\n",
                            "      ...  \n",
                            "7     False\n",
                            "8     False\n",
                            "9     False\n",
                            "10    False\n",
                            "11    False\n",
                            "Name: Date, Length: 18249, dtype: bool"
                        ]
                    },
                    "execution_count": 35,
                    "metadata": {},
                    "output_type": "execute_result"
                }
            ],
            "source": [
                "condition = df['Date'] == '2015-10-25'\n",
                "condition"
            ]
        },
        {
            "cell_type": "code",
            "execution_count": 36,
            "metadata": {},
            "outputs": [
                {
                    "data": {
                        "text/html": [
                            "<div>\n",
                            "<style scoped>\n",
                            "    .dataframe tbody tr th:only-of-type {\n",
                            "        vertical-align: middle;\n",
                            "    }\n",
                            "\n",
                            "    .dataframe tbody tr th {\n",
                            "        vertical-align: top;\n",
                            "    }\n",
                            "\n",
                            "    .dataframe thead th {\n",
                            "        text-align: right;\n",
                            "    }\n",
                            "</style>\n",
                            "<table border=\"1\" class=\"dataframe\">\n",
                            "  <thead>\n",
                            "    <tr style=\"text-align: right;\">\n",
                            "      <th></th>\n",
                            "      <th>Date</th>\n",
                            "      <th>AveragePrice</th>\n",
                            "      <th>Total Volume</th>\n",
                            "      <th>4046</th>\n",
                            "      <th>4225</th>\n",
                            "      <th>4770</th>\n",
                            "      <th>Total Bags</th>\n",
                            "      <th>Small Bags</th>\n",
                            "      <th>Large Bags</th>\n",
                            "      <th>XLarge Bags</th>\n",
                            "      <th>type</th>\n",
                            "      <th>year</th>\n",
                            "      <th>region</th>\n",
                            "    </tr>\n",
                            "  </thead>\n",
                            "  <tbody>\n",
                            "    <tr>\n",
                            "      <th>9</th>\n",
                            "      <td>2015-10-25</td>\n",
                            "      <td>1.07</td>\n",
                            "      <td>74338.76</td>\n",
                            "      <td>842.40</td>\n",
                            "      <td>64757.44</td>\n",
                            "      <td>113.00</td>\n",
                            "      <td>8625.92</td>\n",
                            "      <td>8061.47</td>\n",
                            "      <td>564.45</td>\n",
                            "      <td>0.0</td>\n",
                            "      <td>conventional</td>\n",
                            "      <td>2015</td>\n",
                            "      <td>Albany</td>\n",
                            "    </tr>\n",
                            "    <tr>\n",
                            "      <th>9</th>\n",
                            "      <td>2015-10-25</td>\n",
                            "      <td>1.09</td>\n",
                            "      <td>358478.08</td>\n",
                            "      <td>236814.29</td>\n",
                            "      <td>64607.97</td>\n",
                            "      <td>304.36</td>\n",
                            "      <td>56751.46</td>\n",
                            "      <td>31826.88</td>\n",
                            "      <td>24924.58</td>\n",
                            "      <td>0.0</td>\n",
                            "      <td>conventional</td>\n",
                            "      <td>2015</td>\n",
                            "      <td>Atlanta</td>\n",
                            "    </tr>\n",
                            "    <tr>\n",
                            "      <th>9</th>\n",
                            "      <td>2015-10-25</td>\n",
                            "      <td>1.19</td>\n",
                            "      <td>656892.03</td>\n",
                            "      <td>53766.25</td>\n",
                            "      <td>397911.35</td>\n",
                            "      <td>49085.74</td>\n",
                            "      <td>156128.69</td>\n",
                            "      <td>149987.55</td>\n",
                            "      <td>6141.14</td>\n",
                            "      <td>0.0</td>\n",
                            "      <td>conventional</td>\n",
                            "      <td>2015</td>\n",
                            "      <td>BaltimoreWashington</td>\n",
                            "    </tr>\n",
                            "    <tr>\n",
                            "      <th>9</th>\n",
                            "      <td>2015-10-25</td>\n",
                            "      <td>1.11</td>\n",
                            "      <td>59874.45</td>\n",
                            "      <td>29521.58</td>\n",
                            "      <td>10089.82</td>\n",
                            "      <td>6551.57</td>\n",
                            "      <td>13711.48</td>\n",
                            "      <td>13660.98</td>\n",
                            "      <td>0.00</td>\n",
                            "      <td>50.5</td>\n",
                            "      <td>conventional</td>\n",
                            "      <td>2015</td>\n",
                            "      <td>Boise</td>\n",
                            "    </tr>\n",
                            "    <tr>\n",
                            "      <th>9</th>\n",
                            "      <td>2015-10-25</td>\n",
                            "      <td>1.02</td>\n",
                            "      <td>534249.47</td>\n",
                            "      <td>4005.39</td>\n",
                            "      <td>430725.78</td>\n",
                            "      <td>191.31</td>\n",
                            "      <td>99326.99</td>\n",
                            "      <td>94581.94</td>\n",
                            "      <td>4745.05</td>\n",
                            "      <td>0.0</td>\n",
                            "      <td>conventional</td>\n",
                            "      <td>2015</td>\n",
                            "      <td>Boston</td>\n",
                            "    </tr>\n",
                            "  </tbody>\n",
                            "</table>\n",
                            "</div>"
                        ],
                        "text/plain": [
                            "        Date  AveragePrice  Total Volume       4046       4225      4770  \\\n",
                            "9 2015-10-25          1.07      74338.76     842.40   64757.44    113.00   \n",
                            "9 2015-10-25          1.09     358478.08  236814.29   64607.97    304.36   \n",
                            "9 2015-10-25          1.19     656892.03   53766.25  397911.35  49085.74   \n",
                            "9 2015-10-25          1.11      59874.45   29521.58   10089.82   6551.57   \n",
                            "9 2015-10-25          1.02     534249.47    4005.39  430725.78    191.31   \n",
                            "\n",
                            "   Total Bags  Small Bags  Large Bags  XLarge Bags          type  year  \\\n",
                            "9     8625.92     8061.47      564.45          0.0  conventional  2015   \n",
                            "9    56751.46    31826.88    24924.58          0.0  conventional  2015   \n",
                            "9   156128.69   149987.55     6141.14          0.0  conventional  2015   \n",
                            "9    13711.48    13660.98        0.00         50.5  conventional  2015   \n",
                            "9    99326.99    94581.94     4745.05          0.0  conventional  2015   \n",
                            "\n",
                            "                region  \n",
                            "9               Albany  \n",
                            "9              Atlanta  \n",
                            "9  BaltimoreWashington  \n",
                            "9                Boise  \n",
                            "9               Boston  "
                        ]
                    },
                    "execution_count": 36,
                    "metadata": {},
                    "output_type": "execute_result"
                }
            ],
            "source": [
                "df[condition].head()"
            ]
        },
        {
            "attachments": {},
            "cell_type": "markdown",
            "metadata": {},
            "source": [
                "It's common to find this kind of expressions directly\n",
                "```python\n",
                "df[df['Date'] == '2015-10-25']\n",
                "```\n"
            ]
        },
        {
            "attachments": {},
            "cell_type": "markdown",
            "metadata": {},
            "source": [
                "## Logical expressions\n",
                "\n",
                "**Example of conditions**\n",
                "```python\n",
                "condition = df[col] > value\n",
                "condition = df[col] <= value\n",
                "condition = df[col] == value\n",
                "condition = df[col] != value\n",
                "# in list\n",
                "condition = df[col].isin([value1, value2])\n",
                "# not in list\n",
                "condition = ~df[col].isin([value1, value2])\n",
                "# between (inclusive)\n",
                "condition = df[col].between(value1, value2)\n",
                "```\n",
                "\n",
                "**Then we can combine different conditions with logical operators like \"&\" or \"|\".**\n",
                "```python\n",
                "df.loc[cond1 & cond2]\n",
                "df.loc[cond1 | cond2]\n",
                "```\n",
                "**These above expressions can be executed without the loc operator**\n",
                "```python\n",
                "df[cond1 & cond2]\n",
                "df[cond1 | cond2]\n",
                "```\n",
                "\n",
                "**TIP:** many problems can be avoided using parenthesis for each simple condition in situations where we need to combine two or more conditions."
            ]
        },
        {
            "cell_type": "code",
            "execution_count": 37,
            "metadata": {},
            "outputs": [
                {
                    "data": {
                        "text/html": [
                            "<div>\n",
                            "<style scoped>\n",
                            "    .dataframe tbody tr th:only-of-type {\n",
                            "        vertical-align: middle;\n",
                            "    }\n",
                            "\n",
                            "    .dataframe tbody tr th {\n",
                            "        vertical-align: top;\n",
                            "    }\n",
                            "\n",
                            "    .dataframe thead th {\n",
                            "        text-align: right;\n",
                            "    }\n",
                            "</style>\n",
                            "<table border=\"1\" class=\"dataframe\">\n",
                            "  <thead>\n",
                            "    <tr style=\"text-align: right;\">\n",
                            "      <th></th>\n",
                            "      <th>Date</th>\n",
                            "      <th>AveragePrice</th>\n",
                            "      <th>Total Volume</th>\n",
                            "      <th>4046</th>\n",
                            "      <th>4225</th>\n",
                            "      <th>4770</th>\n",
                            "      <th>Total Bags</th>\n",
                            "      <th>Small Bags</th>\n",
                            "      <th>Large Bags</th>\n",
                            "      <th>XLarge Bags</th>\n",
                            "      <th>type</th>\n",
                            "      <th>year</th>\n",
                            "      <th>region</th>\n",
                            "    </tr>\n",
                            "  </thead>\n",
                            "  <tbody>\n",
                            "    <tr>\n",
                            "      <th>9</th>\n",
                            "      <td>2015-10-25</td>\n",
                            "      <td>0.86</td>\n",
                            "      <td>1010394.81</td>\n",
                            "      <td>557469.46</td>\n",
                            "      <td>301143.50</td>\n",
                            "      <td>49959.10</td>\n",
                            "      <td>101822.75</td>\n",
                            "      <td>96417.63</td>\n",
                            "      <td>5279.41</td>\n",
                            "      <td>125.71</td>\n",
                            "      <td>conventional</td>\n",
                            "      <td>2015</td>\n",
                            "      <td>DallasFtWorth</td>\n",
                            "    </tr>\n",
                            "    <tr>\n",
                            "      <th>9</th>\n",
                            "      <td>2015-10-25</td>\n",
                            "      <td>0.88</td>\n",
                            "      <td>933623.58</td>\n",
                            "      <td>437329.85</td>\n",
                            "      <td>313129.29</td>\n",
                            "      <td>81274.85</td>\n",
                            "      <td>101889.59</td>\n",
                            "      <td>57577.21</td>\n",
                            "      <td>44260.60</td>\n",
                            "      <td>51.78</td>\n",
                            "      <td>conventional</td>\n",
                            "      <td>2015</td>\n",
                            "      <td>Houston</td>\n",
                            "    </tr>\n",
                            "    <tr>\n",
                            "      <th>9</th>\n",
                            "      <td>2015-10-25</td>\n",
                            "      <td>0.83</td>\n",
                            "      <td>761261.71</td>\n",
                            "      <td>435986.90</td>\n",
                            "      <td>240689.98</td>\n",
                            "      <td>19968.66</td>\n",
                            "      <td>64616.17</td>\n",
                            "      <td>64585.35</td>\n",
                            "      <td>30.82</td>\n",
                            "      <td>0.00</td>\n",
                            "      <td>conventional</td>\n",
                            "      <td>2015</td>\n",
                            "      <td>PhoenixTucson</td>\n",
                            "    </tr>\n",
                            "    <tr>\n",
                            "      <th>9</th>\n",
                            "      <td>2015-10-25</td>\n",
                            "      <td>0.86</td>\n",
                            "      <td>4912068.04</td>\n",
                            "      <td>2542914.87</td>\n",
                            "      <td>1537781.45</td>\n",
                            "      <td>247539.31</td>\n",
                            "      <td>583832.41</td>\n",
                            "      <td>475267.20</td>\n",
                            "      <td>108231.39</td>\n",
                            "      <td>333.82</td>\n",
                            "      <td>conventional</td>\n",
                            "      <td>2015</td>\n",
                            "      <td>SouthCentral</td>\n",
                            "    </tr>\n",
                            "    <tr>\n",
                            "      <th>9</th>\n",
                            "      <td>2015-10-25</td>\n",
                            "      <td>0.82</td>\n",
                            "      <td>635873.60</td>\n",
                            "      <td>363487.08</td>\n",
                            "      <td>166607.85</td>\n",
                            "      <td>31960.04</td>\n",
                            "      <td>73818.63</td>\n",
                            "      <td>72717.86</td>\n",
                            "      <td>1100.77</td>\n",
                            "      <td>0.00</td>\n",
                            "      <td>conventional</td>\n",
                            "      <td>2015</td>\n",
                            "      <td>WestTexNewMexico</td>\n",
                            "    </tr>\n",
                            "  </tbody>\n",
                            "</table>\n",
                            "</div>"
                        ],
                        "text/plain": [
                            "        Date  AveragePrice  Total Volume        4046        4225       4770  \\\n",
                            "9 2015-10-25          0.86    1010394.81   557469.46   301143.50   49959.10   \n",
                            "9 2015-10-25          0.88     933623.58   437329.85   313129.29   81274.85   \n",
                            "9 2015-10-25          0.83     761261.71   435986.90   240689.98   19968.66   \n",
                            "9 2015-10-25          0.86    4912068.04  2542914.87  1537781.45  247539.31   \n",
                            "9 2015-10-25          0.82     635873.60   363487.08   166607.85   31960.04   \n",
                            "\n",
                            "   Total Bags  Small Bags  Large Bags  XLarge Bags          type  year  \\\n",
                            "9   101822.75    96417.63     5279.41       125.71  conventional  2015   \n",
                            "9   101889.59    57577.21    44260.60        51.78  conventional  2015   \n",
                            "9    64616.17    64585.35       30.82         0.00  conventional  2015   \n",
                            "9   583832.41   475267.20   108231.39       333.82  conventional  2015   \n",
                            "9    73818.63    72717.86     1100.77         0.00  conventional  2015   \n",
                            "\n",
                            "             region  \n",
                            "9     DallasFtWorth  \n",
                            "9           Houston  \n",
                            "9     PhoenixTucson  \n",
                            "9      SouthCentral  \n",
                            "9  WestTexNewMexico  "
                        ]
                    },
                    "execution_count": 37,
                    "metadata": {},
                    "output_type": "execute_result"
                }
            ],
            "source": [
                "df[(df['Date'] == '2015-10-25') & (df['AveragePrice'] < .90)].head()"
            ]
        },
        {
            "attachments": {},
            "cell_type": "markdown",
            "metadata": {},
            "source": [
                "```python\n",
                "# be careful with expressions like this that will fail when doing the bit operation\n",
                "df[df['Date'] == '2015-10-25' & df['AveragePrice'] < .90]\n",
                "```\n"
            ]
        },
        {
            "attachments": {},
            "cell_type": "markdown",
            "metadata": {},
            "source": [
                "# .loc\\[\\] vs .iloc\\[\\]\n",
                "\n",
                "Accessing rows"
            ]
        },
        {
            "attachments": {},
            "cell_type": "markdown",
            "metadata": {},
            "source": [
                "## .loc\\[\\]\n",
                "\n",
                "This operator allows us to access information by index label, but by definition it could be used with a boolean array as we saw with conditions:\n",
                "- Access a group of rows and columns by label(s) or a boolean array.  \n",
                "- .loc\\[\\] is primarily label based, but may also be used with a boolean array."
            ]
        },
        {
            "attachments": {},
            "cell_type": "markdown",
            "metadata": {},
            "source": [
                "When using df.info() we discover that the number of unique values for index (index domain values) is between 0 and 11 included. So, we can use `.loc` to filter the rows where the index value is 9."
            ]
        },
        {
            "cell_type": "code",
            "execution_count": 39,
            "metadata": {},
            "outputs": [
                {
                    "data": {
                        "text/html": [
                            "<div>\n",
                            "<style scoped>\n",
                            "    .dataframe tbody tr th:only-of-type {\n",
                            "        vertical-align: middle;\n",
                            "    }\n",
                            "\n",
                            "    .dataframe tbody tr th {\n",
                            "        vertical-align: top;\n",
                            "    }\n",
                            "\n",
                            "    .dataframe thead th {\n",
                            "        text-align: right;\n",
                            "    }\n",
                            "</style>\n",
                            "<table border=\"1\" class=\"dataframe\">\n",
                            "  <thead>\n",
                            "    <tr style=\"text-align: right;\">\n",
                            "      <th></th>\n",
                            "      <th>Date</th>\n",
                            "      <th>AveragePrice</th>\n",
                            "      <th>Total Volume</th>\n",
                            "      <th>4046</th>\n",
                            "      <th>4225</th>\n",
                            "      <th>4770</th>\n",
                            "      <th>Total Bags</th>\n",
                            "      <th>Small Bags</th>\n",
                            "      <th>Large Bags</th>\n",
                            "      <th>XLarge Bags</th>\n",
                            "      <th>type</th>\n",
                            "      <th>year</th>\n",
                            "      <th>region</th>\n",
                            "    </tr>\n",
                            "  </thead>\n",
                            "  <tbody>\n",
                            "    <tr>\n",
                            "      <th>9</th>\n",
                            "      <td>2015-10-25</td>\n",
                            "      <td>1.07</td>\n",
                            "      <td>74338.76</td>\n",
                            "      <td>842.40</td>\n",
                            "      <td>64757.44</td>\n",
                            "      <td>113.00</td>\n",
                            "      <td>8625.92</td>\n",
                            "      <td>8061.47</td>\n",
                            "      <td>564.45</td>\n",
                            "      <td>0.00</td>\n",
                            "      <td>conventional</td>\n",
                            "      <td>2015</td>\n",
                            "      <td>Albany</td>\n",
                            "    </tr>\n",
                            "    <tr>\n",
                            "      <th>9</th>\n",
                            "      <td>2015-10-25</td>\n",
                            "      <td>1.09</td>\n",
                            "      <td>358478.08</td>\n",
                            "      <td>236814.29</td>\n",
                            "      <td>64607.97</td>\n",
                            "      <td>304.36</td>\n",
                            "      <td>56751.46</td>\n",
                            "      <td>31826.88</td>\n",
                            "      <td>24924.58</td>\n",
                            "      <td>0.00</td>\n",
                            "      <td>conventional</td>\n",
                            "      <td>2015</td>\n",
                            "      <td>Atlanta</td>\n",
                            "    </tr>\n",
                            "    <tr>\n",
                            "      <th>9</th>\n",
                            "      <td>2015-10-25</td>\n",
                            "      <td>1.19</td>\n",
                            "      <td>656892.03</td>\n",
                            "      <td>53766.25</td>\n",
                            "      <td>397911.35</td>\n",
                            "      <td>49085.74</td>\n",
                            "      <td>156128.69</td>\n",
                            "      <td>149987.55</td>\n",
                            "      <td>6141.14</td>\n",
                            "      <td>0.00</td>\n",
                            "      <td>conventional</td>\n",
                            "      <td>2015</td>\n",
                            "      <td>BaltimoreWashington</td>\n",
                            "    </tr>\n",
                            "    <tr>\n",
                            "      <th>9</th>\n",
                            "      <td>2015-10-25</td>\n",
                            "      <td>1.11</td>\n",
                            "      <td>59874.45</td>\n",
                            "      <td>29521.58</td>\n",
                            "      <td>10089.82</td>\n",
                            "      <td>6551.57</td>\n",
                            "      <td>13711.48</td>\n",
                            "      <td>13660.98</td>\n",
                            "      <td>0.00</td>\n",
                            "      <td>50.50</td>\n",
                            "      <td>conventional</td>\n",
                            "      <td>2015</td>\n",
                            "      <td>Boise</td>\n",
                            "    </tr>\n",
                            "    <tr>\n",
                            "      <th>9</th>\n",
                            "      <td>2015-10-25</td>\n",
                            "      <td>1.02</td>\n",
                            "      <td>534249.47</td>\n",
                            "      <td>4005.39</td>\n",
                            "      <td>430725.78</td>\n",
                            "      <td>191.31</td>\n",
                            "      <td>99326.99</td>\n",
                            "      <td>94581.94</td>\n",
                            "      <td>4745.05</td>\n",
                            "      <td>0.00</td>\n",
                            "      <td>conventional</td>\n",
                            "      <td>2015</td>\n",
                            "      <td>Boston</td>\n",
                            "    </tr>\n",
                            "    <tr>\n",
                            "      <th>...</th>\n",
                            "      <td>...</td>\n",
                            "      <td>...</td>\n",
                            "      <td>...</td>\n",
                            "      <td>...</td>\n",
                            "      <td>...</td>\n",
                            "      <td>...</td>\n",
                            "      <td>...</td>\n",
                            "      <td>...</td>\n",
                            "      <td>...</td>\n",
                            "      <td>...</td>\n",
                            "      <td>...</td>\n",
                            "      <td>...</td>\n",
                            "      <td>...</td>\n",
                            "    </tr>\n",
                            "    <tr>\n",
                            "      <th>9</th>\n",
                            "      <td>2018-01-21</td>\n",
                            "      <td>1.27</td>\n",
                            "      <td>3159.80</td>\n",
                            "      <td>92.12</td>\n",
                            "      <td>73.17</td>\n",
                            "      <td>0.00</td>\n",
                            "      <td>2994.51</td>\n",
                            "      <td>2117.69</td>\n",
                            "      <td>876.82</td>\n",
                            "      <td>0.00</td>\n",
                            "      <td>organic</td>\n",
                            "      <td>2018</td>\n",
                            "      <td>Syracuse</td>\n",
                            "    </tr>\n",
                            "    <tr>\n",
                            "      <th>9</th>\n",
                            "      <td>2018-01-21</td>\n",
                            "      <td>1.52</td>\n",
                            "      <td>6871.05</td>\n",
                            "      <td>76.66</td>\n",
                            "      <td>407.09</td>\n",
                            "      <td>0.00</td>\n",
                            "      <td>6387.30</td>\n",
                            "      <td>6375.55</td>\n",
                            "      <td>11.75</td>\n",
                            "      <td>0.00</td>\n",
                            "      <td>organic</td>\n",
                            "      <td>2018</td>\n",
                            "      <td>Tampa</td>\n",
                            "    </tr>\n",
                            "    <tr>\n",
                            "      <th>9</th>\n",
                            "      <td>2018-01-21</td>\n",
                            "      <td>1.63</td>\n",
                            "      <td>1283987.65</td>\n",
                            "      <td>108705.28</td>\n",
                            "      <td>259172.13</td>\n",
                            "      <td>1490.02</td>\n",
                            "      <td>914409.26</td>\n",
                            "      <td>710654.40</td>\n",
                            "      <td>203526.59</td>\n",
                            "      <td>228.27</td>\n",
                            "      <td>organic</td>\n",
                            "      <td>2018</td>\n",
                            "      <td>TotalUS</td>\n",
                            "    </tr>\n",
                            "    <tr>\n",
                            "      <th>9</th>\n",
                            "      <td>2018-01-21</td>\n",
                            "      <td>1.83</td>\n",
                            "      <td>189317.99</td>\n",
                            "      <td>27049.44</td>\n",
                            "      <td>33561.32</td>\n",
                            "      <td>439.47</td>\n",
                            "      <td>128267.76</td>\n",
                            "      <td>76091.99</td>\n",
                            "      <td>51947.50</td>\n",
                            "      <td>228.27</td>\n",
                            "      <td>organic</td>\n",
                            "      <td>2018</td>\n",
                            "      <td>West</td>\n",
                            "    </tr>\n",
                            "    <tr>\n",
                            "      <th>9</th>\n",
                            "      <td>2018-01-21</td>\n",
                            "      <td>1.87</td>\n",
                            "      <td>13766.76</td>\n",
                            "      <td>1191.92</td>\n",
                            "      <td>2452.79</td>\n",
                            "      <td>727.94</td>\n",
                            "      <td>9394.11</td>\n",
                            "      <td>9351.80</td>\n",
                            "      <td>42.31</td>\n",
                            "      <td>0.00</td>\n",
                            "      <td>organic</td>\n",
                            "      <td>2018</td>\n",
                            "      <td>WestTexNewMexico</td>\n",
                            "    </tr>\n",
                            "  </tbody>\n",
                            "</table>\n",
                            "<p>432 rows × 13 columns</p>\n",
                            "</div>"
                        ],
                        "text/plain": [
                            "         Date  AveragePrice  Total Volume       4046       4225      4770  \\\n",
                            "9  2015-10-25          1.07      74338.76     842.40   64757.44    113.00   \n",
                            "9  2015-10-25          1.09     358478.08  236814.29   64607.97    304.36   \n",
                            "9  2015-10-25          1.19     656892.03   53766.25  397911.35  49085.74   \n",
                            "9  2015-10-25          1.11      59874.45   29521.58   10089.82   6551.57   \n",
                            "9  2015-10-25          1.02     534249.47    4005.39  430725.78    191.31   \n",
                            "..        ...           ...           ...        ...        ...       ...   \n",
                            "9  2018-01-21          1.27       3159.80      92.12      73.17      0.00   \n",
                            "9  2018-01-21          1.52       6871.05      76.66     407.09      0.00   \n",
                            "9  2018-01-21          1.63    1283987.65  108705.28  259172.13   1490.02   \n",
                            "9  2018-01-21          1.83     189317.99   27049.44   33561.32    439.47   \n",
                            "9  2018-01-21          1.87      13766.76    1191.92    2452.79    727.94   \n",
                            "\n",
                            "    Total Bags  Small Bags  Large Bags  XLarge Bags          type  year  \\\n",
                            "9      8625.92     8061.47      564.45         0.00  conventional  2015   \n",
                            "9     56751.46    31826.88    24924.58         0.00  conventional  2015   \n",
                            "9    156128.69   149987.55     6141.14         0.00  conventional  2015   \n",
                            "9     13711.48    13660.98        0.00        50.50  conventional  2015   \n",
                            "9     99326.99    94581.94     4745.05         0.00  conventional  2015   \n",
                            "..         ...         ...         ...          ...           ...   ...   \n",
                            "9      2994.51     2117.69      876.82         0.00       organic  2018   \n",
                            "9      6387.30     6375.55       11.75         0.00       organic  2018   \n",
                            "9    914409.26   710654.40   203526.59       228.27       organic  2018   \n",
                            "9    128267.76    76091.99    51947.50       228.27       organic  2018   \n",
                            "9      9394.11     9351.80       42.31         0.00       organic  2018   \n",
                            "\n",
                            "                 region  \n",
                            "9                Albany  \n",
                            "9               Atlanta  \n",
                            "9   BaltimoreWashington  \n",
                            "9                 Boise  \n",
                            "9                Boston  \n",
                            "..                  ...  \n",
                            "9              Syracuse  \n",
                            "9                 Tampa  \n",
                            "9               TotalUS  \n",
                            "9                  West  \n",
                            "9      WestTexNewMexico  \n",
                            "\n",
                            "[432 rows x 13 columns]"
                        ]
                    },
                    "execution_count": 39,
                    "metadata": {},
                    "output_type": "execute_result"
                }
            ],
            "source": [
                "df.loc[9]"
            ]
        },
        {
            "attachments": {},
            "cell_type": "markdown",
            "metadata": {},
            "source": [
                "## .iloc\\[\\]\n",
                "\n",
                "This operator allows us to access information by index position in the way we usually do with other programing languages like C.\n",
                "- Purely integer-location based indexing for selection by position.\n",
                "- .iloc[] is primarily integer position based (from 0 to length-1 of the axis), but may also be used with a boolean array."
            ]
        },
        {
            "attachments": {},
            "cell_type": "markdown",
            "metadata": {},
            "source": [
                "When using `df.iloc[9]` we are going to access to the 10th row in the DataFrame df. The returned value should be of type Series with the row values (`df.iloc[9].values`) as values and the columns names as the Series index."
            ]
        },
        {
            "cell_type": "code",
            "execution_count": 40,
            "metadata": {},
            "outputs": [
                {
                    "data": {
                        "text/plain": [
                            "Date            2015-10-25 00:00:00\n",
                            "AveragePrice                   1.07\n",
                            "Total Volume               74338.76\n",
                            "4046                          842.4\n",
                            "4225                       64757.44\n",
                            "4770                          113.0\n",
                            "Total Bags                  8625.92\n",
                            "Small Bags                  8061.47\n",
                            "Large Bags                   564.45\n",
                            "XLarge Bags                     0.0\n",
                            "type                   conventional\n",
                            "year                           2015\n",
                            "region                       Albany\n",
                            "Name: 9, dtype: object"
                        ]
                    },
                    "execution_count": 40,
                    "metadata": {},
                    "output_type": "execute_result"
                }
            ],
            "source": [
                "df.iloc[9]"
            ]
        },
        {
            "cell_type": "code",
            "execution_count": 41,
            "metadata": {},
            "outputs": [
                {
                    "data": {
                        "text/plain": [
                            "pandas.core.series.Series"
                        ]
                    },
                    "execution_count": 41,
                    "metadata": {},
                    "output_type": "execute_result"
                }
            ],
            "source": [
                "type(df.iloc[9])"
            ]
        },
        {
            "attachments": {},
            "cell_type": "markdown",
            "metadata": {},
            "source": [
                "The name of the series is the index label value of the original dataframe."
            ]
        },
        {
            "attachments": {},
            "cell_type": "markdown",
            "metadata": {},
            "source": [
                "<center><h3 style='color:gray; display:block; align:center;'>TIP: practice to really learn how and when to use .loc vs i.loc</h3></center>"
            ]
        },
        {
            "attachments": {},
            "cell_type": "markdown",
            "metadata": {},
            "source": [
                "# Mathematical and other methods on a DataFrame\n",
                "\n",
                "Pandas Series and DataFrame offers access to hundred of methods to operate on them like: *sum(), mul(), mean(), std(), max(), min(), etc*. All of these methods usually operate by default over columns but they can operate over rows.\n"
            ]
        },
        {
            "attachments": {},
            "cell_type": "markdown",
            "metadata": {},
            "source": [
                "Look at the next cell results and try to think about what happened (take a look at fields like type or region)."
            ]
        },
        {
            "cell_type": "code",
            "execution_count": 42,
            "metadata": {},
            "outputs": [
                {
                    "ename": "TypeError",
                    "evalue": "'DatetimeArray' with dtype datetime64[ns] does not support reduction 'sum'",
                    "output_type": "error",
                    "traceback": [
                        "\u001b[1;31m---------------------------------------------------------------------------\u001b[0m",
                        "\u001b[1;31mTypeError\u001b[0m                                 Traceback (most recent call last)",
                        "Cell \u001b[1;32mIn[42], line 1\u001b[0m\n\u001b[1;32m----> 1\u001b[0m df\u001b[39m.\u001b[39;49msum()\n",
                        "File \u001b[1;32mc:\\Users\\Araceli\\Anaconda3\\envs\\CS109A\\Lib\\site-packages\\pandas\\core\\generic.py:11512\u001b[0m, in \u001b[0;36mNDFrame._add_numeric_operations.<locals>.sum\u001b[1;34m(self, axis, skipna, numeric_only, min_count, **kwargs)\u001b[0m\n\u001b[0;32m  11493\u001b[0m \u001b[39m@doc\u001b[39m(  \u001b[39m# type: ignore[misc]\u001b[39;00m\n\u001b[0;32m  11494\u001b[0m     _num_doc,\n\u001b[0;32m  11495\u001b[0m     desc\u001b[39m=\u001b[39m\u001b[39m\"\u001b[39m\u001b[39mReturn the sum of the values over the requested axis.\u001b[39m\u001b[39m\\n\u001b[39;00m\u001b[39m\\n\u001b[39;00m\u001b[39m\"\u001b[39m\n\u001b[1;32m   (...)\u001b[0m\n\u001b[0;32m  11510\u001b[0m     \u001b[39m*\u001b[39m\u001b[39m*\u001b[39mkwargs,\n\u001b[0;32m  11511\u001b[0m ):\n\u001b[1;32m> 11512\u001b[0m     \u001b[39mreturn\u001b[39;00m NDFrame\u001b[39m.\u001b[39;49msum(\u001b[39mself\u001b[39;49m, axis, skipna, numeric_only, min_count, \u001b[39m*\u001b[39;49m\u001b[39m*\u001b[39;49mkwargs)\n",
                        "File \u001b[1;32mc:\\Users\\Araceli\\Anaconda3\\envs\\CS109A\\Lib\\site-packages\\pandas\\core\\generic.py:11280\u001b[0m, in \u001b[0;36mNDFrame.sum\u001b[1;34m(self, axis, skipna, numeric_only, min_count, **kwargs)\u001b[0m\n\u001b[0;32m  11272\u001b[0m \u001b[39mdef\u001b[39;00m \u001b[39msum\u001b[39m(\n\u001b[0;32m  11273\u001b[0m     \u001b[39mself\u001b[39m,\n\u001b[0;32m  11274\u001b[0m     axis: Axis \u001b[39m|\u001b[39m \u001b[39mNone\u001b[39;00m \u001b[39m=\u001b[39m \u001b[39mNone\u001b[39;00m,\n\u001b[1;32m   (...)\u001b[0m\n\u001b[0;32m  11278\u001b[0m     \u001b[39m*\u001b[39m\u001b[39m*\u001b[39mkwargs,\n\u001b[0;32m  11279\u001b[0m ):\n\u001b[1;32m> 11280\u001b[0m     \u001b[39mreturn\u001b[39;00m \u001b[39mself\u001b[39;49m\u001b[39m.\u001b[39;49m_min_count_stat_function(\n\u001b[0;32m  11281\u001b[0m         \u001b[39m\"\u001b[39;49m\u001b[39msum\u001b[39;49m\u001b[39m\"\u001b[39;49m, nanops\u001b[39m.\u001b[39;49mnansum, axis, skipna, numeric_only, min_count, \u001b[39m*\u001b[39;49m\u001b[39m*\u001b[39;49mkwargs\n\u001b[0;32m  11282\u001b[0m     )\n",
                        "File \u001b[1;32mc:\\Users\\Araceli\\Anaconda3\\envs\\CS109A\\Lib\\site-packages\\pandas\\core\\generic.py:11263\u001b[0m, in \u001b[0;36mNDFrame._min_count_stat_function\u001b[1;34m(self, name, func, axis, skipna, numeric_only, min_count, **kwargs)\u001b[0m\n\u001b[0;32m  11260\u001b[0m \u001b[39mif\u001b[39;00m axis \u001b[39mis\u001b[39;00m \u001b[39mNone\u001b[39;00m:\n\u001b[0;32m  11261\u001b[0m     axis \u001b[39m=\u001b[39m \u001b[39mself\u001b[39m\u001b[39m.\u001b[39m_stat_axis_number\n\u001b[1;32m> 11263\u001b[0m \u001b[39mreturn\u001b[39;00m \u001b[39mself\u001b[39;49m\u001b[39m.\u001b[39;49m_reduce(\n\u001b[0;32m  11264\u001b[0m     func,\n\u001b[0;32m  11265\u001b[0m     name\u001b[39m=\u001b[39;49mname,\n\u001b[0;32m  11266\u001b[0m     axis\u001b[39m=\u001b[39;49maxis,\n\u001b[0;32m  11267\u001b[0m     skipna\u001b[39m=\u001b[39;49mskipna,\n\u001b[0;32m  11268\u001b[0m     numeric_only\u001b[39m=\u001b[39;49mnumeric_only,\n\u001b[0;32m  11269\u001b[0m     min_count\u001b[39m=\u001b[39;49mmin_count,\n\u001b[0;32m  11270\u001b[0m )\n",
                        "File \u001b[1;32mc:\\Users\\Araceli\\Anaconda3\\envs\\CS109A\\Lib\\site-packages\\pandas\\core\\frame.py:10519\u001b[0m, in \u001b[0;36mDataFrame._reduce\u001b[1;34m(self, op, name, axis, skipna, numeric_only, filter_type, **kwds)\u001b[0m\n\u001b[0;32m  10515\u001b[0m     df \u001b[39m=\u001b[39m df\u001b[39m.\u001b[39mT\n\u001b[0;32m  10517\u001b[0m \u001b[39m# After possibly _get_data and transposing, we are now in the\u001b[39;00m\n\u001b[0;32m  10518\u001b[0m \u001b[39m#  simple case where we can use BlockManager.reduce\u001b[39;00m\n\u001b[1;32m> 10519\u001b[0m res \u001b[39m=\u001b[39m df\u001b[39m.\u001b[39;49m_mgr\u001b[39m.\u001b[39;49mreduce(blk_func)\n\u001b[0;32m  10520\u001b[0m out \u001b[39m=\u001b[39m df\u001b[39m.\u001b[39m_constructor(res)\u001b[39m.\u001b[39miloc[\u001b[39m0\u001b[39m]\n\u001b[0;32m  10521\u001b[0m \u001b[39mif\u001b[39;00m out_dtype \u001b[39mis\u001b[39;00m \u001b[39mnot\u001b[39;00m \u001b[39mNone\u001b[39;00m:\n",
                        "File \u001b[1;32mc:\\Users\\Araceli\\Anaconda3\\envs\\CS109A\\Lib\\site-packages\\pandas\\core\\internals\\managers.py:1534\u001b[0m, in \u001b[0;36mBlockManager.reduce\u001b[1;34m(self, func)\u001b[0m\n\u001b[0;32m   1532\u001b[0m res_blocks: \u001b[39mlist\u001b[39m[Block] \u001b[39m=\u001b[39m []\n\u001b[0;32m   1533\u001b[0m \u001b[39mfor\u001b[39;00m blk \u001b[39min\u001b[39;00m \u001b[39mself\u001b[39m\u001b[39m.\u001b[39mblocks:\n\u001b[1;32m-> 1534\u001b[0m     nbs \u001b[39m=\u001b[39m blk\u001b[39m.\u001b[39;49mreduce(func)\n\u001b[0;32m   1535\u001b[0m     res_blocks\u001b[39m.\u001b[39mextend(nbs)\n\u001b[0;32m   1537\u001b[0m index \u001b[39m=\u001b[39m Index([\u001b[39mNone\u001b[39;00m])  \u001b[39m# placeholder\u001b[39;00m\n",
                        "File \u001b[1;32mc:\\Users\\Araceli\\Anaconda3\\envs\\CS109A\\Lib\\site-packages\\pandas\\core\\internals\\blocks.py:339\u001b[0m, in \u001b[0;36mBlock.reduce\u001b[1;34m(self, func)\u001b[0m\n\u001b[0;32m    333\u001b[0m \u001b[39m@final\u001b[39m\n\u001b[0;32m    334\u001b[0m \u001b[39mdef\u001b[39;00m \u001b[39mreduce\u001b[39m(\u001b[39mself\u001b[39m, func) \u001b[39m-\u001b[39m\u001b[39m>\u001b[39m \u001b[39mlist\u001b[39m[Block]:\n\u001b[0;32m    335\u001b[0m     \u001b[39m# We will apply the function and reshape the result into a single-row\u001b[39;00m\n\u001b[0;32m    336\u001b[0m     \u001b[39m#  Block with the same mgr_locs; squeezing will be done at a higher level\u001b[39;00m\n\u001b[0;32m    337\u001b[0m     \u001b[39massert\u001b[39;00m \u001b[39mself\u001b[39m\u001b[39m.\u001b[39mndim \u001b[39m==\u001b[39m \u001b[39m2\u001b[39m\n\u001b[1;32m--> 339\u001b[0m     result \u001b[39m=\u001b[39m func(\u001b[39mself\u001b[39;49m\u001b[39m.\u001b[39;49mvalues)\n\u001b[0;32m    341\u001b[0m     \u001b[39mif\u001b[39;00m \u001b[39mself\u001b[39m\u001b[39m.\u001b[39mvalues\u001b[39m.\u001b[39mndim \u001b[39m==\u001b[39m \u001b[39m1\u001b[39m:\n\u001b[0;32m    342\u001b[0m         \u001b[39m# TODO(EA2D): special case not needed with 2D EAs\u001b[39;00m\n\u001b[0;32m    343\u001b[0m         res_values \u001b[39m=\u001b[39m np\u001b[39m.\u001b[39marray([[result]])\n",
                        "File \u001b[1;32mc:\\Users\\Araceli\\Anaconda3\\envs\\CS109A\\Lib\\site-packages\\pandas\\core\\frame.py:10479\u001b[0m, in \u001b[0;36mDataFrame._reduce.<locals>.blk_func\u001b[1;34m(values, axis)\u001b[0m\n\u001b[0;32m  10475\u001b[0m \u001b[39mif\u001b[39;00m \u001b[39misinstance\u001b[39m(values, ExtensionArray):\n\u001b[0;32m  10476\u001b[0m     \u001b[39mif\u001b[39;00m \u001b[39mnot\u001b[39;00m is_1d_only_ea_dtype(values\u001b[39m.\u001b[39mdtype) \u001b[39mand\u001b[39;00m \u001b[39mnot\u001b[39;00m \u001b[39misinstance\u001b[39m(\n\u001b[0;32m  10477\u001b[0m         \u001b[39mself\u001b[39m\u001b[39m.\u001b[39m_mgr, ArrayManager\n\u001b[0;32m  10478\u001b[0m     ):\n\u001b[1;32m> 10479\u001b[0m         \u001b[39mreturn\u001b[39;00m values\u001b[39m.\u001b[39;49m_reduce(name, axis\u001b[39m=\u001b[39;49m\u001b[39m1\u001b[39;49m, skipna\u001b[39m=\u001b[39;49mskipna, \u001b[39m*\u001b[39;49m\u001b[39m*\u001b[39;49mkwds)\n\u001b[0;32m  10480\u001b[0m     \u001b[39mreturn\u001b[39;00m values\u001b[39m.\u001b[39m_reduce(name, skipna\u001b[39m=\u001b[39mskipna, \u001b[39m*\u001b[39m\u001b[39m*\u001b[39mkwds)\n\u001b[0;32m  10481\u001b[0m \u001b[39melse\u001b[39;00m:\n",
                        "File \u001b[1;32mc:\\Users\\Araceli\\Anaconda3\\envs\\CS109A\\Lib\\site-packages\\pandas\\core\\arrays\\base.py:1440\u001b[0m, in \u001b[0;36mExtensionArray._reduce\u001b[1;34m(self, name, skipna, **kwargs)\u001b[0m\n\u001b[0;32m   1438\u001b[0m meth \u001b[39m=\u001b[39m \u001b[39mgetattr\u001b[39m(\u001b[39mself\u001b[39m, name, \u001b[39mNone\u001b[39;00m)\n\u001b[0;32m   1439\u001b[0m \u001b[39mif\u001b[39;00m meth \u001b[39mis\u001b[39;00m \u001b[39mNone\u001b[39;00m:\n\u001b[1;32m-> 1440\u001b[0m     \u001b[39mraise\u001b[39;00m \u001b[39mTypeError\u001b[39;00m(\n\u001b[0;32m   1441\u001b[0m         \u001b[39mf\u001b[39m\u001b[39m\"\u001b[39m\u001b[39m'\u001b[39m\u001b[39m{\u001b[39;00m\u001b[39mtype\u001b[39m(\u001b[39mself\u001b[39m)\u001b[39m.\u001b[39m\u001b[39m__name__\u001b[39m\u001b[39m}\u001b[39;00m\u001b[39m'\u001b[39m\u001b[39m with dtype \u001b[39m\u001b[39m{\u001b[39;00m\u001b[39mself\u001b[39m\u001b[39m.\u001b[39mdtype\u001b[39m}\u001b[39;00m\u001b[39m \u001b[39m\u001b[39m\"\u001b[39m\n\u001b[0;32m   1442\u001b[0m         \u001b[39mf\u001b[39m\u001b[39m\"\u001b[39m\u001b[39mdoes not support reduction \u001b[39m\u001b[39m'\u001b[39m\u001b[39m{\u001b[39;00mname\u001b[39m}\u001b[39;00m\u001b[39m'\u001b[39m\u001b[39m\"\u001b[39m\n\u001b[0;32m   1443\u001b[0m     )\n\u001b[0;32m   1444\u001b[0m \u001b[39mreturn\u001b[39;00m meth(skipna\u001b[39m=\u001b[39mskipna, \u001b[39m*\u001b[39m\u001b[39m*\u001b[39mkwargs)\n",
                        "\u001b[1;31mTypeError\u001b[0m: 'DatetimeArray' with dtype datetime64[ns] does not support reduction 'sum'"
                    ]
                }
            ],
            "source": [
                "df.sum()"
            ]
        },
        {
            "cell_type": "code",
            "execution_count": 43,
            "metadata": {},
            "outputs": [
                {
                    "data": {
                        "text/plain": [
                            "1.405978409775878"
                        ]
                    },
                    "execution_count": 43,
                    "metadata": {},
                    "output_type": "execute_result"
                }
            ],
            "source": [
                "df['AveragePrice'].mean()"
            ]
        },
        {
            "attachments": {},
            "cell_type": "markdown",
            "metadata": {},
            "source": [
                "# Missing Data\n",
                "\n",
                "This is a critical problem for any Data Scientist and deserves its own Lecture. What to do when some of the data are missing?\n",
                "\n",
                "Pandas offers some options to explore a dataframe looking for missing data.\n",
                "\n",
                "```python\n",
                "# returns a boolean dataframe of the same size with True values for cells where values are NaN\n",
                "df.isna()\n",
                "# returns a boolean dataframe of the same size with True values for cells where values aren't NaN\n",
                "df.notna()\n",
                "# alias of the above methods\n",
                "df.isnull()\n",
                "df.notnull()\n",
                "```"
            ]
        },
        {
            "attachments": {},
            "cell_type": "markdown",
            "metadata": {},
            "source": [
                "Count the number of NaN values for every column"
            ]
        },
        {
            "cell_type": "code",
            "execution_count": 78,
            "metadata": {},
            "outputs": [
                {
                    "data": {
                        "text/plain": [
                            "Date           0\n",
                            "price          0\n",
                            "volume         0\n",
                            "4046           0\n",
                            "4225           0\n",
                            "4770           0\n",
                            "Total Bags     0\n",
                            "Small Bags     0\n",
                            "Large Bags     0\n",
                            "XLarge Bags    0\n",
                            "type           0\n",
                            "year           0\n",
                            "region         0\n",
                            "dtype: int64"
                        ]
                    },
                    "execution_count": 78,
                    "metadata": {},
                    "output_type": "execute_result"
                }
            ],
            "source": [
                "df.isna().sum(axis=0)"
            ]
        },
        {
            "attachments": {},
            "cell_type": "markdown",
            "metadata": {},
            "source": [
                "Count the number of NaN values per row"
            ]
        },
        {
            "cell_type": "code",
            "execution_count": 45,
            "metadata": {},
            "outputs": [
                {
                    "data": {
                        "text/plain": [
                            "0     0\n",
                            "1     0\n",
                            "2     0\n",
                            "3     0\n",
                            "4     0\n",
                            "     ..\n",
                            "7     0\n",
                            "8     0\n",
                            "9     0\n",
                            "10    0\n",
                            "11    0\n",
                            "Length: 18249, dtype: int64"
                        ]
                    },
                    "execution_count": 45,
                    "metadata": {},
                    "output_type": "execute_result"
                }
            ],
            "source": [
                "df.isna().sum(axis=1)"
            ]
        },
        {
            "attachments": {},
            "cell_type": "markdown",
            "metadata": {},
            "source": [
                "Count the total number of NaN values in the dataframe"
            ]
        },
        {
            "cell_type": "code",
            "execution_count": 46,
            "metadata": {},
            "outputs": [
                {
                    "data": {
                        "text/plain": [
                            "0"
                        ]
                    },
                    "execution_count": 46,
                    "metadata": {},
                    "output_type": "execute_result"
                }
            ],
            "source": [
                "df.isna().sum().sum()"
            ]
        },
        {
            "attachments": {},
            "cell_type": "markdown",
            "metadata": {},
            "source": [
                "Select the rows with at least one NaN value"
            ]
        },
        {
            "cell_type": "code",
            "execution_count": 47,
            "metadata": {},
            "outputs": [
                {
                    "data": {
                        "text/html": [
                            "<div>\n",
                            "<style scoped>\n",
                            "    .dataframe tbody tr th:only-of-type {\n",
                            "        vertical-align: middle;\n",
                            "    }\n",
                            "\n",
                            "    .dataframe tbody tr th {\n",
                            "        vertical-align: top;\n",
                            "    }\n",
                            "\n",
                            "    .dataframe thead th {\n",
                            "        text-align: right;\n",
                            "    }\n",
                            "</style>\n",
                            "<table border=\"1\" class=\"dataframe\">\n",
                            "  <thead>\n",
                            "    <tr style=\"text-align: right;\">\n",
                            "      <th></th>\n",
                            "      <th>Date</th>\n",
                            "      <th>AveragePrice</th>\n",
                            "      <th>Total Volume</th>\n",
                            "      <th>4046</th>\n",
                            "      <th>4225</th>\n",
                            "      <th>4770</th>\n",
                            "      <th>Total Bags</th>\n",
                            "      <th>Small Bags</th>\n",
                            "      <th>Large Bags</th>\n",
                            "      <th>XLarge Bags</th>\n",
                            "      <th>type</th>\n",
                            "      <th>year</th>\n",
                            "      <th>region</th>\n",
                            "    </tr>\n",
                            "  </thead>\n",
                            "  <tbody>\n",
                            "  </tbody>\n",
                            "</table>\n",
                            "</div>"
                        ],
                        "text/plain": [
                            "Empty DataFrame\n",
                            "Columns: [Date, AveragePrice, Total Volume, 4046, 4225, 4770, Total Bags, Small Bags, Large Bags, XLarge Bags, type, year, region]\n",
                            "Index: []"
                        ]
                    },
                    "execution_count": 47,
                    "metadata": {},
                    "output_type": "execute_result"
                }
            ],
            "source": [
                "df[df.isna().any(axis=1)]"
            ]
        },
        {
            "attachments": {},
            "cell_type": "markdown",
            "metadata": {},
            "source": [
                "There are specific methods related to face this problem like:\n",
                "- `fillna()`\n",
                "- `bfill()`\n",
                "- `ffill()`\n",
                "- `dropna()`\n",
                "\n",
                "It's important to learn to handle [missing data](https://pandas.pydata.org/pandas-docs/stable/user_guide/missing_data.html)"
            ]
        },
        {
            "attachments": {},
            "cell_type": "markdown",
            "metadata": {},
            "source": [
                "# Dropping\n",
                "\n",
                "Sometimes you'll want to discard information. Here is an example of how to use the [`drop`](https://pandas.pydata.org/pandas-docs/stable/reference/api/pandas.DataFrame.drop.html) method to do that.\n",
                "\n",
                "```python\n",
                "df.drop(labels=None, axis=0, index=None, columns=None, level=None, inplace=False, errors='raise')\n",
                "```\n"
            ]
        },
        {
            "cell_type": "code",
            "execution_count": 54,
            "metadata": {},
            "outputs": [
                {
                    "data": {
                        "text/html": [
                            "<div>\n",
                            "<style scoped>\n",
                            "    .dataframe tbody tr th:only-of-type {\n",
                            "        vertical-align: middle;\n",
                            "    }\n",
                            "\n",
                            "    .dataframe tbody tr th {\n",
                            "        vertical-align: top;\n",
                            "    }\n",
                            "\n",
                            "    .dataframe thead th {\n",
                            "        text-align: right;\n",
                            "    }\n",
                            "</style>\n",
                            "<table border=\"1\" class=\"dataframe\">\n",
                            "  <thead>\n",
                            "    <tr style=\"text-align: right;\">\n",
                            "      <th></th>\n",
                            "      <th>Date</th>\n",
                            "      <th>AveragePrice</th>\n",
                            "      <th>Total Volume</th>\n",
                            "      <th>type</th>\n",
                            "      <th>year</th>\n",
                            "      <th>region</th>\n",
                            "    </tr>\n",
                            "  </thead>\n",
                            "  <tbody>\n",
                            "    <tr>\n",
                            "      <th>0</th>\n",
                            "      <td>2015-12-27</td>\n",
                            "      <td>1.33</td>\n",
                            "      <td>64236.62</td>\n",
                            "      <td>conventional</td>\n",
                            "      <td>2015</td>\n",
                            "      <td>Albany</td>\n",
                            "    </tr>\n",
                            "    <tr>\n",
                            "      <th>1</th>\n",
                            "      <td>2015-12-20</td>\n",
                            "      <td>1.35</td>\n",
                            "      <td>54876.98</td>\n",
                            "      <td>conventional</td>\n",
                            "      <td>2015</td>\n",
                            "      <td>Albany</td>\n",
                            "    </tr>\n",
                            "    <tr>\n",
                            "      <th>2</th>\n",
                            "      <td>2015-12-13</td>\n",
                            "      <td>0.93</td>\n",
                            "      <td>118220.22</td>\n",
                            "      <td>conventional</td>\n",
                            "      <td>2015</td>\n",
                            "      <td>Albany</td>\n",
                            "    </tr>\n",
                            "    <tr>\n",
                            "      <th>3</th>\n",
                            "      <td>2015-12-06</td>\n",
                            "      <td>1.08</td>\n",
                            "      <td>78992.15</td>\n",
                            "      <td>conventional</td>\n",
                            "      <td>2015</td>\n",
                            "      <td>Albany</td>\n",
                            "    </tr>\n",
                            "    <tr>\n",
                            "      <th>4</th>\n",
                            "      <td>2015-11-29</td>\n",
                            "      <td>1.28</td>\n",
                            "      <td>51039.60</td>\n",
                            "      <td>conventional</td>\n",
                            "      <td>2015</td>\n",
                            "      <td>Albany</td>\n",
                            "    </tr>\n",
                            "    <tr>\n",
                            "      <th>...</th>\n",
                            "      <td>...</td>\n",
                            "      <td>...</td>\n",
                            "      <td>...</td>\n",
                            "      <td>...</td>\n",
                            "      <td>...</td>\n",
                            "      <td>...</td>\n",
                            "    </tr>\n",
                            "    <tr>\n",
                            "      <th>7</th>\n",
                            "      <td>2018-02-04</td>\n",
                            "      <td>1.63</td>\n",
                            "      <td>17074.83</td>\n",
                            "      <td>organic</td>\n",
                            "      <td>2018</td>\n",
                            "      <td>WestTexNewMexico</td>\n",
                            "    </tr>\n",
                            "    <tr>\n",
                            "      <th>8</th>\n",
                            "      <td>2018-01-28</td>\n",
                            "      <td>1.71</td>\n",
                            "      <td>13888.04</td>\n",
                            "      <td>organic</td>\n",
                            "      <td>2018</td>\n",
                            "      <td>WestTexNewMexico</td>\n",
                            "    </tr>\n",
                            "    <tr>\n",
                            "      <th>9</th>\n",
                            "      <td>2018-01-21</td>\n",
                            "      <td>1.87</td>\n",
                            "      <td>13766.76</td>\n",
                            "      <td>organic</td>\n",
                            "      <td>2018</td>\n",
                            "      <td>WestTexNewMexico</td>\n",
                            "    </tr>\n",
                            "    <tr>\n",
                            "      <th>10</th>\n",
                            "      <td>2018-01-14</td>\n",
                            "      <td>1.93</td>\n",
                            "      <td>16205.22</td>\n",
                            "      <td>organic</td>\n",
                            "      <td>2018</td>\n",
                            "      <td>WestTexNewMexico</td>\n",
                            "    </tr>\n",
                            "    <tr>\n",
                            "      <th>11</th>\n",
                            "      <td>2018-01-07</td>\n",
                            "      <td>1.62</td>\n",
                            "      <td>17489.58</td>\n",
                            "      <td>organic</td>\n",
                            "      <td>2018</td>\n",
                            "      <td>WestTexNewMexico</td>\n",
                            "    </tr>\n",
                            "  </tbody>\n",
                            "</table>\n",
                            "<p>18249 rows × 6 columns</p>\n",
                            "</div>"
                        ],
                        "text/plain": [
                            "         Date  AveragePrice  Total Volume          type  year  \\\n",
                            "0  2015-12-27          1.33      64236.62  conventional  2015   \n",
                            "1  2015-12-20          1.35      54876.98  conventional  2015   \n",
                            "2  2015-12-13          0.93     118220.22  conventional  2015   \n",
                            "3  2015-12-06          1.08      78992.15  conventional  2015   \n",
                            "4  2015-11-29          1.28      51039.60  conventional  2015   \n",
                            "..        ...           ...           ...           ...   ...   \n",
                            "7  2018-02-04          1.63      17074.83       organic  2018   \n",
                            "8  2018-01-28          1.71      13888.04       organic  2018   \n",
                            "9  2018-01-21          1.87      13766.76       organic  2018   \n",
                            "10 2018-01-14          1.93      16205.22       organic  2018   \n",
                            "11 2018-01-07          1.62      17489.58       organic  2018   \n",
                            "\n",
                            "              region  \n",
                            "0             Albany  \n",
                            "1             Albany  \n",
                            "2             Albany  \n",
                            "3             Albany  \n",
                            "4             Albany  \n",
                            "..               ...  \n",
                            "7   WestTexNewMexico  \n",
                            "8   WestTexNewMexico  \n",
                            "9   WestTexNewMexico  \n",
                            "10  WestTexNewMexico  \n",
                            "11  WestTexNewMexico  \n",
                            "\n",
                            "[18249 rows x 6 columns]"
                        ]
                    },
                    "execution_count": 54,
                    "metadata": {},
                    "output_type": "execute_result"
                }
            ],
            "source": [
                "drop_columns = ['4046', '4225', '4770', 'Total Bags', 'Small Bags', 'Large Bags', 'XLarge Bags']\n",
                "df = df.drop(columns=drop_columns)\n",
                "df"
            ]
        },
        {
            "attachments": {},
            "cell_type": "markdown",
            "metadata": {},
            "source": [
                "# Sorting\n",
                "\n",
                "[`sort_values`](https://pandas.pydata.org/docs/reference/api/pandas.DataFrame.sort_values.html) and [`sort_index`](https://pandas.pydata.org/docs/reference/api/pandas.DataFrame.sort_index.html) are common methods when using pandas.\n",
                "\n",
                "**sort_values**: Sort by the values along either axis.\n",
                "```python\n",
                "df.sort_values(by, axis=0, ascending=True, inplace=False, kind='quicksort',\n",
                "               na_position='last', ignore_index=False, key=None)\n",
                "```"
            ]
        },
        {
            "attachments": {},
            "cell_type": "markdown",
            "metadata": {},
            "source": [
                "Next cell filter data for a particular Date and type. Then sort values by region in ascending order and finally display only the first 10 rows."
            ]
        },
        {
            "cell_type": "code",
            "execution_count": 48,
            "metadata": {},
            "outputs": [
                {
                    "data": {
                        "text/html": [
                            "<div>\n",
                            "<style scoped>\n",
                            "    .dataframe tbody tr th:only-of-type {\n",
                            "        vertical-align: middle;\n",
                            "    }\n",
                            "\n",
                            "    .dataframe tbody tr th {\n",
                            "        vertical-align: top;\n",
                            "    }\n",
                            "\n",
                            "    .dataframe thead th {\n",
                            "        text-align: right;\n",
                            "    }\n",
                            "</style>\n",
                            "<table border=\"1\" class=\"dataframe\">\n",
                            "  <thead>\n",
                            "    <tr style=\"text-align: right;\">\n",
                            "      <th></th>\n",
                            "      <th>Date</th>\n",
                            "      <th>AveragePrice</th>\n",
                            "      <th>Total Volume</th>\n",
                            "      <th>4046</th>\n",
                            "      <th>4225</th>\n",
                            "      <th>4770</th>\n",
                            "      <th>Total Bags</th>\n",
                            "      <th>Small Bags</th>\n",
                            "      <th>Large Bags</th>\n",
                            "      <th>XLarge Bags</th>\n",
                            "      <th>type</th>\n",
                            "      <th>year</th>\n",
                            "      <th>region</th>\n",
                            "    </tr>\n",
                            "  </thead>\n",
                            "  <tbody>\n",
                            "    <tr>\n",
                            "      <th>11</th>\n",
                            "      <td>2018-01-07</td>\n",
                            "      <td>1.54</td>\n",
                            "      <td>4816.90</td>\n",
                            "      <td>43.51</td>\n",
                            "      <td>412.17</td>\n",
                            "      <td>0.00</td>\n",
                            "      <td>4361.22</td>\n",
                            "      <td>4357.89</td>\n",
                            "      <td>3.33</td>\n",
                            "      <td>0.0</td>\n",
                            "      <td>organic</td>\n",
                            "      <td>2018</td>\n",
                            "      <td>Albany</td>\n",
                            "    </tr>\n",
                            "    <tr>\n",
                            "      <th>11</th>\n",
                            "      <td>2018-01-07</td>\n",
                            "      <td>1.53</td>\n",
                            "      <td>15714.11</td>\n",
                            "      <td>405.37</td>\n",
                            "      <td>4195.19</td>\n",
                            "      <td>0.00</td>\n",
                            "      <td>11113.55</td>\n",
                            "      <td>7883.61</td>\n",
                            "      <td>3229.94</td>\n",
                            "      <td>0.0</td>\n",
                            "      <td>organic</td>\n",
                            "      <td>2018</td>\n",
                            "      <td>Atlanta</td>\n",
                            "    </tr>\n",
                            "    <tr>\n",
                            "      <th>11</th>\n",
                            "      <td>2018-01-07</td>\n",
                            "      <td>1.15</td>\n",
                            "      <td>82282.71</td>\n",
                            "      <td>1315.95</td>\n",
                            "      <td>9962.10</td>\n",
                            "      <td>134.19</td>\n",
                            "      <td>70870.47</td>\n",
                            "      <td>70863.80</td>\n",
                            "      <td>6.67</td>\n",
                            "      <td>0.0</td>\n",
                            "      <td>organic</td>\n",
                            "      <td>2018</td>\n",
                            "      <td>BaltimoreWashington</td>\n",
                            "    </tr>\n",
                            "    <tr>\n",
                            "      <th>11</th>\n",
                            "      <td>2018-01-07</td>\n",
                            "      <td>1.77</td>\n",
                            "      <td>2553.90</td>\n",
                            "      <td>42.60</td>\n",
                            "      <td>949.08</td>\n",
                            "      <td>0.00</td>\n",
                            "      <td>1562.22</td>\n",
                            "      <td>552.06</td>\n",
                            "      <td>1010.16</td>\n",
                            "      <td>0.0</td>\n",
                            "      <td>organic</td>\n",
                            "      <td>2018</td>\n",
                            "      <td>Boise</td>\n",
                            "    </tr>\n",
                            "    <tr>\n",
                            "      <th>11</th>\n",
                            "      <td>2018-01-07</td>\n",
                            "      <td>1.91</td>\n",
                            "      <td>30096.00</td>\n",
                            "      <td>14.46</td>\n",
                            "      <td>2704.48</td>\n",
                            "      <td>0.00</td>\n",
                            "      <td>27377.06</td>\n",
                            "      <td>25121.53</td>\n",
                            "      <td>2255.53</td>\n",
                            "      <td>0.0</td>\n",
                            "      <td>organic</td>\n",
                            "      <td>2018</td>\n",
                            "      <td>Boston</td>\n",
                            "    </tr>\n",
                            "    <tr>\n",
                            "      <th>11</th>\n",
                            "      <td>2018-01-07</td>\n",
                            "      <td>1.17</td>\n",
                            "      <td>9115.92</td>\n",
                            "      <td>283.13</td>\n",
                            "      <td>90.07</td>\n",
                            "      <td>0.00</td>\n",
                            "      <td>8742.72</td>\n",
                            "      <td>4250.19</td>\n",
                            "      <td>4492.53</td>\n",
                            "      <td>0.0</td>\n",
                            "      <td>organic</td>\n",
                            "      <td>2018</td>\n",
                            "      <td>BuffaloRochester</td>\n",
                            "    </tr>\n",
                            "    <tr>\n",
                            "      <th>11</th>\n",
                            "      <td>2018-01-07</td>\n",
                            "      <td>1.95</td>\n",
                            "      <td>156341.57</td>\n",
                            "      <td>42992.91</td>\n",
                            "      <td>56007.79</td>\n",
                            "      <td>0.00</td>\n",
                            "      <td>57340.87</td>\n",
                            "      <td>57271.15</td>\n",
                            "      <td>69.72</td>\n",
                            "      <td>0.0</td>\n",
                            "      <td>organic</td>\n",
                            "      <td>2018</td>\n",
                            "      <td>California</td>\n",
                            "    </tr>\n",
                            "    <tr>\n",
                            "      <th>11</th>\n",
                            "      <td>2018-01-07</td>\n",
                            "      <td>1.08</td>\n",
                            "      <td>28741.11</td>\n",
                            "      <td>22.16</td>\n",
                            "      <td>6254.59</td>\n",
                            "      <td>225.17</td>\n",
                            "      <td>22239.19</td>\n",
                            "      <td>22132.06</td>\n",
                            "      <td>107.13</td>\n",
                            "      <td>0.0</td>\n",
                            "      <td>organic</td>\n",
                            "      <td>2018</td>\n",
                            "      <td>Charlotte</td>\n",
                            "    </tr>\n",
                            "    <tr>\n",
                            "      <th>11</th>\n",
                            "      <td>2018-01-07</td>\n",
                            "      <td>1.83</td>\n",
                            "      <td>41573.25</td>\n",
                            "      <td>118.84</td>\n",
                            "      <td>29600.36</td>\n",
                            "      <td>0.00</td>\n",
                            "      <td>11854.05</td>\n",
                            "      <td>11850.72</td>\n",
                            "      <td>3.33</td>\n",
                            "      <td>0.0</td>\n",
                            "      <td>organic</td>\n",
                            "      <td>2018</td>\n",
                            "      <td>Chicago</td>\n",
                            "    </tr>\n",
                            "    <tr>\n",
                            "      <th>11</th>\n",
                            "      <td>2018-01-07</td>\n",
                            "      <td>1.71</td>\n",
                            "      <td>13141.82</td>\n",
                            "      <td>710.55</td>\n",
                            "      <td>5212.44</td>\n",
                            "      <td>0.00</td>\n",
                            "      <td>7218.83</td>\n",
                            "      <td>3380.57</td>\n",
                            "      <td>3838.26</td>\n",
                            "      <td>0.0</td>\n",
                            "      <td>organic</td>\n",
                            "      <td>2018</td>\n",
                            "      <td>CincinnatiDayton</td>\n",
                            "    </tr>\n",
                            "  </tbody>\n",
                            "</table>\n",
                            "</div>"
                        ],
                        "text/plain": [
                            "         Date  AveragePrice  Total Volume      4046      4225    4770  \\\n",
                            "11 2018-01-07          1.54       4816.90     43.51    412.17    0.00   \n",
                            "11 2018-01-07          1.53      15714.11    405.37   4195.19    0.00   \n",
                            "11 2018-01-07          1.15      82282.71   1315.95   9962.10  134.19   \n",
                            "11 2018-01-07          1.77       2553.90     42.60    949.08    0.00   \n",
                            "11 2018-01-07          1.91      30096.00     14.46   2704.48    0.00   \n",
                            "11 2018-01-07          1.17       9115.92    283.13     90.07    0.00   \n",
                            "11 2018-01-07          1.95     156341.57  42992.91  56007.79    0.00   \n",
                            "11 2018-01-07          1.08      28741.11     22.16   6254.59  225.17   \n",
                            "11 2018-01-07          1.83      41573.25    118.84  29600.36    0.00   \n",
                            "11 2018-01-07          1.71      13141.82    710.55   5212.44    0.00   \n",
                            "\n",
                            "    Total Bags  Small Bags  Large Bags  XLarge Bags     type  year  \\\n",
                            "11     4361.22     4357.89        3.33          0.0  organic  2018   \n",
                            "11    11113.55     7883.61     3229.94          0.0  organic  2018   \n",
                            "11    70870.47    70863.80        6.67          0.0  organic  2018   \n",
                            "11     1562.22      552.06     1010.16          0.0  organic  2018   \n",
                            "11    27377.06    25121.53     2255.53          0.0  organic  2018   \n",
                            "11     8742.72     4250.19     4492.53          0.0  organic  2018   \n",
                            "11    57340.87    57271.15       69.72          0.0  organic  2018   \n",
                            "11    22239.19    22132.06      107.13          0.0  organic  2018   \n",
                            "11    11854.05    11850.72        3.33          0.0  organic  2018   \n",
                            "11     7218.83     3380.57     3838.26          0.0  organic  2018   \n",
                            "\n",
                            "                 region  \n",
                            "11               Albany  \n",
                            "11              Atlanta  \n",
                            "11  BaltimoreWashington  \n",
                            "11                Boise  \n",
                            "11               Boston  \n",
                            "11     BuffaloRochester  \n",
                            "11           California  \n",
                            "11            Charlotte  \n",
                            "11              Chicago  \n",
                            "11     CincinnatiDayton  "
                        ]
                    },
                    "execution_count": 48,
                    "metadata": {},
                    "output_type": "execute_result"
                }
            ],
            "source": [
                "condition = (df['Date'] == '2018-01-07') & (df['type'] == 'organic')\n",
                "df[condition].sort_values(by='region').head(10)"
            ]
        },
        {
            "attachments": {},
            "cell_type": "markdown",
            "metadata": {},
            "source": [
                "Sorting can use more columns using a python list with some parameters.  "
            ]
        },
        {
            "cell_type": "code",
            "execution_count": 49,
            "metadata": {},
            "outputs": [
                {
                    "data": {
                        "text/html": [
                            "<div>\n",
                            "<style scoped>\n",
                            "    .dataframe tbody tr th:only-of-type {\n",
                            "        vertical-align: middle;\n",
                            "    }\n",
                            "\n",
                            "    .dataframe tbody tr th {\n",
                            "        vertical-align: top;\n",
                            "    }\n",
                            "\n",
                            "    .dataframe thead th {\n",
                            "        text-align: right;\n",
                            "    }\n",
                            "</style>\n",
                            "<table border=\"1\" class=\"dataframe\">\n",
                            "  <thead>\n",
                            "    <tr style=\"text-align: right;\">\n",
                            "      <th></th>\n",
                            "      <th>Date</th>\n",
                            "      <th>AveragePrice</th>\n",
                            "      <th>Total Volume</th>\n",
                            "      <th>4046</th>\n",
                            "      <th>4225</th>\n",
                            "      <th>4770</th>\n",
                            "      <th>Total Bags</th>\n",
                            "      <th>Small Bags</th>\n",
                            "      <th>Large Bags</th>\n",
                            "      <th>XLarge Bags</th>\n",
                            "      <th>type</th>\n",
                            "      <th>year</th>\n",
                            "      <th>region</th>\n",
                            "    </tr>\n",
                            "  </thead>\n",
                            "  <tbody>\n",
                            "    <tr>\n",
                            "      <th>11</th>\n",
                            "      <td>2018-01-07</td>\n",
                            "      <td>1.54</td>\n",
                            "      <td>4816.90</td>\n",
                            "      <td>43.51</td>\n",
                            "      <td>412.17</td>\n",
                            "      <td>0.00</td>\n",
                            "      <td>4361.22</td>\n",
                            "      <td>4357.89</td>\n",
                            "      <td>3.33</td>\n",
                            "      <td>0.0</td>\n",
                            "      <td>organic</td>\n",
                            "      <td>2018</td>\n",
                            "      <td>Albany</td>\n",
                            "    </tr>\n",
                            "    <tr>\n",
                            "      <th>11</th>\n",
                            "      <td>2018-01-07</td>\n",
                            "      <td>1.53</td>\n",
                            "      <td>15714.11</td>\n",
                            "      <td>405.37</td>\n",
                            "      <td>4195.19</td>\n",
                            "      <td>0.00</td>\n",
                            "      <td>11113.55</td>\n",
                            "      <td>7883.61</td>\n",
                            "      <td>3229.94</td>\n",
                            "      <td>0.0</td>\n",
                            "      <td>organic</td>\n",
                            "      <td>2018</td>\n",
                            "      <td>Atlanta</td>\n",
                            "    </tr>\n",
                            "    <tr>\n",
                            "      <th>11</th>\n",
                            "      <td>2018-01-07</td>\n",
                            "      <td>1.15</td>\n",
                            "      <td>82282.71</td>\n",
                            "      <td>1315.95</td>\n",
                            "      <td>9962.10</td>\n",
                            "      <td>134.19</td>\n",
                            "      <td>70870.47</td>\n",
                            "      <td>70863.80</td>\n",
                            "      <td>6.67</td>\n",
                            "      <td>0.0</td>\n",
                            "      <td>organic</td>\n",
                            "      <td>2018</td>\n",
                            "      <td>BaltimoreWashington</td>\n",
                            "    </tr>\n",
                            "    <tr>\n",
                            "      <th>11</th>\n",
                            "      <td>2018-01-07</td>\n",
                            "      <td>1.77</td>\n",
                            "      <td>2553.90</td>\n",
                            "      <td>42.60</td>\n",
                            "      <td>949.08</td>\n",
                            "      <td>0.00</td>\n",
                            "      <td>1562.22</td>\n",
                            "      <td>552.06</td>\n",
                            "      <td>1010.16</td>\n",
                            "      <td>0.0</td>\n",
                            "      <td>organic</td>\n",
                            "      <td>2018</td>\n",
                            "      <td>Boise</td>\n",
                            "    </tr>\n",
                            "    <tr>\n",
                            "      <th>11</th>\n",
                            "      <td>2018-01-07</td>\n",
                            "      <td>1.91</td>\n",
                            "      <td>30096.00</td>\n",
                            "      <td>14.46</td>\n",
                            "      <td>2704.48</td>\n",
                            "      <td>0.00</td>\n",
                            "      <td>27377.06</td>\n",
                            "      <td>25121.53</td>\n",
                            "      <td>2255.53</td>\n",
                            "      <td>0.0</td>\n",
                            "      <td>organic</td>\n",
                            "      <td>2018</td>\n",
                            "      <td>Boston</td>\n",
                            "    </tr>\n",
                            "  </tbody>\n",
                            "</table>\n",
                            "</div>"
                        ],
                        "text/plain": [
                            "         Date  AveragePrice  Total Volume     4046     4225    4770  \\\n",
                            "11 2018-01-07          1.54       4816.90    43.51   412.17    0.00   \n",
                            "11 2018-01-07          1.53      15714.11   405.37  4195.19    0.00   \n",
                            "11 2018-01-07          1.15      82282.71  1315.95  9962.10  134.19   \n",
                            "11 2018-01-07          1.77       2553.90    42.60   949.08    0.00   \n",
                            "11 2018-01-07          1.91      30096.00    14.46  2704.48    0.00   \n",
                            "\n",
                            "    Total Bags  Small Bags  Large Bags  XLarge Bags     type  year  \\\n",
                            "11     4361.22     4357.89        3.33          0.0  organic  2018   \n",
                            "11    11113.55     7883.61     3229.94          0.0  organic  2018   \n",
                            "11    70870.47    70863.80        6.67          0.0  organic  2018   \n",
                            "11     1562.22      552.06     1010.16          0.0  organic  2018   \n",
                            "11    27377.06    25121.53     2255.53          0.0  organic  2018   \n",
                            "\n",
                            "                 region  \n",
                            "11               Albany  \n",
                            "11              Atlanta  \n",
                            "11  BaltimoreWashington  \n",
                            "11                Boise  \n",
                            "11               Boston  "
                        ]
                    },
                    "execution_count": 49,
                    "metadata": {},
                    "output_type": "execute_result"
                }
            ],
            "source": [
                "df[condition].sort_values(by=['region', 'AveragePrice'], ascending=[True, False]).head()"
            ]
        },
        {
            "attachments": {},
            "cell_type": "markdown",
            "metadata": {},
            "source": [
                "**sort_index**: Sort object by labels (along an axis)\n",
                "```python\n",
                "df.sort_index(axis=0, level=None, ascending=True, inplace=False, kind='quicksort', na_position='last', sort_remaining=True, ignore_index=False, key=None)\n",
                "```\n",
                "Next cell sort rows based on the index values (in ascending order)"
            ]
        },
        {
            "cell_type": "code",
            "execution_count": 57,
            "metadata": {},
            "outputs": [
                {
                    "data": {
                        "text/html": [
                            "<div>\n",
                            "<style scoped>\n",
                            "    .dataframe tbody tr th:only-of-type {\n",
                            "        vertical-align: middle;\n",
                            "    }\n",
                            "\n",
                            "    .dataframe tbody tr th {\n",
                            "        vertical-align: top;\n",
                            "    }\n",
                            "\n",
                            "    .dataframe thead th {\n",
                            "        text-align: right;\n",
                            "    }\n",
                            "</style>\n",
                            "<table border=\"1\" class=\"dataframe\">\n",
                            "  <thead>\n",
                            "    <tr style=\"text-align: right;\">\n",
                            "      <th></th>\n",
                            "      <th>Date</th>\n",
                            "      <th>AveragePrice</th>\n",
                            "      <th>Total Volume</th>\n",
                            "      <th>type</th>\n",
                            "      <th>year</th>\n",
                            "      <th>region</th>\n",
                            "    </tr>\n",
                            "  </thead>\n",
                            "  <tbody>\n",
                            "    <tr>\n",
                            "      <th>0</th>\n",
                            "      <td>2015-12-27</td>\n",
                            "      <td>1.33</td>\n",
                            "      <td>64236.62</td>\n",
                            "      <td>conventional</td>\n",
                            "      <td>2015</td>\n",
                            "      <td>Albany</td>\n",
                            "    </tr>\n",
                            "    <tr>\n",
                            "      <th>0</th>\n",
                            "      <td>2016-12-25</td>\n",
                            "      <td>1.85</td>\n",
                            "      <td>8657.87</td>\n",
                            "      <td>organic</td>\n",
                            "      <td>2016</td>\n",
                            "      <td>PhoenixTucson</td>\n",
                            "    </tr>\n",
                            "    <tr>\n",
                            "      <th>0</th>\n",
                            "      <td>2015-12-27</td>\n",
                            "      <td>1.25</td>\n",
                            "      <td>73109.90</td>\n",
                            "      <td>conventional</td>\n",
                            "      <td>2015</td>\n",
                            "      <td>Pittsburgh</td>\n",
                            "    </tr>\n",
                            "    <tr>\n",
                            "      <th>0</th>\n",
                            "      <td>2016-12-25</td>\n",
                            "      <td>1.90</td>\n",
                            "      <td>11376.97</td>\n",
                            "      <td>organic</td>\n",
                            "      <td>2016</td>\n",
                            "      <td>Philadelphia</td>\n",
                            "    </tr>\n",
                            "    <tr>\n",
                            "      <th>0</th>\n",
                            "      <td>2016-12-25</td>\n",
                            "      <td>1.27</td>\n",
                            "      <td>5601.65</td>\n",
                            "      <td>organic</td>\n",
                            "      <td>2016</td>\n",
                            "      <td>Orlando</td>\n",
                            "    </tr>\n",
                            "    <tr>\n",
                            "      <th>...</th>\n",
                            "      <td>...</td>\n",
                            "      <td>...</td>\n",
                            "      <td>...</td>\n",
                            "      <td>...</td>\n",
                            "      <td>...</td>\n",
                            "      <td>...</td>\n",
                            "    </tr>\n",
                            "    <tr>\n",
                            "      <th>52</th>\n",
                            "      <td>2017-01-01</td>\n",
                            "      <td>2.06</td>\n",
                            "      <td>39260.55</td>\n",
                            "      <td>organic</td>\n",
                            "      <td>2017</td>\n",
                            "      <td>NewYork</td>\n",
                            "    </tr>\n",
                            "    <tr>\n",
                            "      <th>52</th>\n",
                            "      <td>2017-01-01</td>\n",
                            "      <td>1.11</td>\n",
                            "      <td>476239.03</td>\n",
                            "      <td>conventional</td>\n",
                            "      <td>2017</td>\n",
                            "      <td>NorthernNewEngland</td>\n",
                            "    </tr>\n",
                            "    <tr>\n",
                            "      <th>52</th>\n",
                            "      <td>2017-01-01</td>\n",
                            "      <td>2.00</td>\n",
                            "      <td>115256.09</td>\n",
                            "      <td>organic</td>\n",
                            "      <td>2017</td>\n",
                            "      <td>Northeast</td>\n",
                            "    </tr>\n",
                            "    <tr>\n",
                            "      <th>52</th>\n",
                            "      <td>2017-01-01</td>\n",
                            "      <td>0.93</td>\n",
                            "      <td>547565.88</td>\n",
                            "      <td>conventional</td>\n",
                            "      <td>2017</td>\n",
                            "      <td>Atlanta</td>\n",
                            "    </tr>\n",
                            "    <tr>\n",
                            "      <th>52</th>\n",
                            "      <td>2017-01-01</td>\n",
                            "      <td>0.97</td>\n",
                            "      <td>142347.90</td>\n",
                            "      <td>conventional</td>\n",
                            "      <td>2017</td>\n",
                            "      <td>Roanoke</td>\n",
                            "    </tr>\n",
                            "  </tbody>\n",
                            "</table>\n",
                            "<p>18249 rows × 6 columns</p>\n",
                            "</div>"
                        ],
                        "text/plain": [
                            "         Date  AveragePrice  Total Volume          type  year  \\\n",
                            "0  2015-12-27          1.33      64236.62  conventional  2015   \n",
                            "0  2016-12-25          1.85       8657.87       organic  2016   \n",
                            "0  2015-12-27          1.25      73109.90  conventional  2015   \n",
                            "0  2016-12-25          1.90      11376.97       organic  2016   \n",
                            "0  2016-12-25          1.27       5601.65       organic  2016   \n",
                            "..        ...           ...           ...           ...   ...   \n",
                            "52 2017-01-01          2.06      39260.55       organic  2017   \n",
                            "52 2017-01-01          1.11     476239.03  conventional  2017   \n",
                            "52 2017-01-01          2.00     115256.09       organic  2017   \n",
                            "52 2017-01-01          0.93     547565.88  conventional  2017   \n",
                            "52 2017-01-01          0.97     142347.90  conventional  2017   \n",
                            "\n",
                            "                region  \n",
                            "0               Albany  \n",
                            "0        PhoenixTucson  \n",
                            "0           Pittsburgh  \n",
                            "0         Philadelphia  \n",
                            "0              Orlando  \n",
                            "..                 ...  \n",
                            "52             NewYork  \n",
                            "52  NorthernNewEngland  \n",
                            "52           Northeast  \n",
                            "52             Atlanta  \n",
                            "52             Roanoke  \n",
                            "\n",
                            "[18249 rows x 6 columns]"
                        ]
                    },
                    "execution_count": 57,
                    "metadata": {},
                    "output_type": "execute_result"
                }
            ],
            "source": [
                "df.sort_index()"
            ]
        },
        {
            "attachments": {},
            "cell_type": "markdown",
            "metadata": {},
            "source": [
                "# Renaming\n",
                "\n",
                "It's very common to rename things for convenience. In example, when column names are too long or use special characters it could come in handy to short them. The method [`rename()`](https://pandas.pydata.org/docs/reference/api/pandas.DataFrame.rename.html) is a great tool to help us in many situations.\n",
                "\n",
                "Let's see a simple example"
            ]
        },
        {
            "cell_type": "code",
            "execution_count": 50,
            "metadata": {},
            "outputs": [
                {
                    "data": {
                        "text/html": [
                            "<div>\n",
                            "<style scoped>\n",
                            "    .dataframe tbody tr th:only-of-type {\n",
                            "        vertical-align: middle;\n",
                            "    }\n",
                            "\n",
                            "    .dataframe tbody tr th {\n",
                            "        vertical-align: top;\n",
                            "    }\n",
                            "\n",
                            "    .dataframe thead th {\n",
                            "        text-align: right;\n",
                            "    }\n",
                            "</style>\n",
                            "<table border=\"1\" class=\"dataframe\">\n",
                            "  <thead>\n",
                            "    <tr style=\"text-align: right;\">\n",
                            "      <th></th>\n",
                            "      <th>Date</th>\n",
                            "      <th>price</th>\n",
                            "      <th>volume</th>\n",
                            "      <th>4046</th>\n",
                            "      <th>4225</th>\n",
                            "      <th>4770</th>\n",
                            "      <th>Total Bags</th>\n",
                            "      <th>Small Bags</th>\n",
                            "      <th>Large Bags</th>\n",
                            "      <th>XLarge Bags</th>\n",
                            "      <th>type</th>\n",
                            "      <th>year</th>\n",
                            "      <th>region</th>\n",
                            "    </tr>\n",
                            "  </thead>\n",
                            "  <tbody>\n",
                            "    <tr>\n",
                            "      <th>0</th>\n",
                            "      <td>2015-12-27</td>\n",
                            "      <td>1.33</td>\n",
                            "      <td>64236.62</td>\n",
                            "      <td>1036.74</td>\n",
                            "      <td>54454.85</td>\n",
                            "      <td>48.16</td>\n",
                            "      <td>8696.87</td>\n",
                            "      <td>8603.62</td>\n",
                            "      <td>93.25</td>\n",
                            "      <td>0.0</td>\n",
                            "      <td>conventional</td>\n",
                            "      <td>2015</td>\n",
                            "      <td>Albany</td>\n",
                            "    </tr>\n",
                            "    <tr>\n",
                            "      <th>1</th>\n",
                            "      <td>2015-12-20</td>\n",
                            "      <td>1.35</td>\n",
                            "      <td>54876.98</td>\n",
                            "      <td>674.28</td>\n",
                            "      <td>44638.81</td>\n",
                            "      <td>58.33</td>\n",
                            "      <td>9505.56</td>\n",
                            "      <td>9408.07</td>\n",
                            "      <td>97.49</td>\n",
                            "      <td>0.0</td>\n",
                            "      <td>conventional</td>\n",
                            "      <td>2015</td>\n",
                            "      <td>Albany</td>\n",
                            "    </tr>\n",
                            "    <tr>\n",
                            "      <th>2</th>\n",
                            "      <td>2015-12-13</td>\n",
                            "      <td>0.93</td>\n",
                            "      <td>118220.22</td>\n",
                            "      <td>794.70</td>\n",
                            "      <td>109149.67</td>\n",
                            "      <td>130.50</td>\n",
                            "      <td>8145.35</td>\n",
                            "      <td>8042.21</td>\n",
                            "      <td>103.14</td>\n",
                            "      <td>0.0</td>\n",
                            "      <td>conventional</td>\n",
                            "      <td>2015</td>\n",
                            "      <td>Albany</td>\n",
                            "    </tr>\n",
                            "    <tr>\n",
                            "      <th>3</th>\n",
                            "      <td>2015-12-06</td>\n",
                            "      <td>1.08</td>\n",
                            "      <td>78992.15</td>\n",
                            "      <td>1132.00</td>\n",
                            "      <td>71976.41</td>\n",
                            "      <td>72.58</td>\n",
                            "      <td>5811.16</td>\n",
                            "      <td>5677.40</td>\n",
                            "      <td>133.76</td>\n",
                            "      <td>0.0</td>\n",
                            "      <td>conventional</td>\n",
                            "      <td>2015</td>\n",
                            "      <td>Albany</td>\n",
                            "    </tr>\n",
                            "    <tr>\n",
                            "      <th>4</th>\n",
                            "      <td>2015-11-29</td>\n",
                            "      <td>1.28</td>\n",
                            "      <td>51039.60</td>\n",
                            "      <td>941.48</td>\n",
                            "      <td>43838.39</td>\n",
                            "      <td>75.78</td>\n",
                            "      <td>6183.95</td>\n",
                            "      <td>5986.26</td>\n",
                            "      <td>197.69</td>\n",
                            "      <td>0.0</td>\n",
                            "      <td>conventional</td>\n",
                            "      <td>2015</td>\n",
                            "      <td>Albany</td>\n",
                            "    </tr>\n",
                            "    <tr>\n",
                            "      <th>...</th>\n",
                            "      <td>...</td>\n",
                            "      <td>...</td>\n",
                            "      <td>...</td>\n",
                            "      <td>...</td>\n",
                            "      <td>...</td>\n",
                            "      <td>...</td>\n",
                            "      <td>...</td>\n",
                            "      <td>...</td>\n",
                            "      <td>...</td>\n",
                            "      <td>...</td>\n",
                            "      <td>...</td>\n",
                            "      <td>...</td>\n",
                            "      <td>...</td>\n",
                            "    </tr>\n",
                            "    <tr>\n",
                            "      <th>7</th>\n",
                            "      <td>2018-02-04</td>\n",
                            "      <td>1.63</td>\n",
                            "      <td>17074.83</td>\n",
                            "      <td>2046.96</td>\n",
                            "      <td>1529.20</td>\n",
                            "      <td>0.00</td>\n",
                            "      <td>13498.67</td>\n",
                            "      <td>13066.82</td>\n",
                            "      <td>431.85</td>\n",
                            "      <td>0.0</td>\n",
                            "      <td>organic</td>\n",
                            "      <td>2018</td>\n",
                            "      <td>WestTexNewMexico</td>\n",
                            "    </tr>\n",
                            "    <tr>\n",
                            "      <th>8</th>\n",
                            "      <td>2018-01-28</td>\n",
                            "      <td>1.71</td>\n",
                            "      <td>13888.04</td>\n",
                            "      <td>1191.70</td>\n",
                            "      <td>3431.50</td>\n",
                            "      <td>0.00</td>\n",
                            "      <td>9264.84</td>\n",
                            "      <td>8940.04</td>\n",
                            "      <td>324.80</td>\n",
                            "      <td>0.0</td>\n",
                            "      <td>organic</td>\n",
                            "      <td>2018</td>\n",
                            "      <td>WestTexNewMexico</td>\n",
                            "    </tr>\n",
                            "    <tr>\n",
                            "      <th>9</th>\n",
                            "      <td>2018-01-21</td>\n",
                            "      <td>1.87</td>\n",
                            "      <td>13766.76</td>\n",
                            "      <td>1191.92</td>\n",
                            "      <td>2452.79</td>\n",
                            "      <td>727.94</td>\n",
                            "      <td>9394.11</td>\n",
                            "      <td>9351.80</td>\n",
                            "      <td>42.31</td>\n",
                            "      <td>0.0</td>\n",
                            "      <td>organic</td>\n",
                            "      <td>2018</td>\n",
                            "      <td>WestTexNewMexico</td>\n",
                            "    </tr>\n",
                            "    <tr>\n",
                            "      <th>10</th>\n",
                            "      <td>2018-01-14</td>\n",
                            "      <td>1.93</td>\n",
                            "      <td>16205.22</td>\n",
                            "      <td>1527.63</td>\n",
                            "      <td>2981.04</td>\n",
                            "      <td>727.01</td>\n",
                            "      <td>10969.54</td>\n",
                            "      <td>10919.54</td>\n",
                            "      <td>50.00</td>\n",
                            "      <td>0.0</td>\n",
                            "      <td>organic</td>\n",
                            "      <td>2018</td>\n",
                            "      <td>WestTexNewMexico</td>\n",
                            "    </tr>\n",
                            "    <tr>\n",
                            "      <th>11</th>\n",
                            "      <td>2018-01-07</td>\n",
                            "      <td>1.62</td>\n",
                            "      <td>17489.58</td>\n",
                            "      <td>2894.77</td>\n",
                            "      <td>2356.13</td>\n",
                            "      <td>224.53</td>\n",
                            "      <td>12014.15</td>\n",
                            "      <td>11988.14</td>\n",
                            "      <td>26.01</td>\n",
                            "      <td>0.0</td>\n",
                            "      <td>organic</td>\n",
                            "      <td>2018</td>\n",
                            "      <td>WestTexNewMexico</td>\n",
                            "    </tr>\n",
                            "  </tbody>\n",
                            "</table>\n",
                            "<p>18249 rows × 13 columns</p>\n",
                            "</div>"
                        ],
                        "text/plain": [
                            "         Date  price     volume     4046       4225    4770  Total Bags  \\\n",
                            "0  2015-12-27   1.33   64236.62  1036.74   54454.85   48.16     8696.87   \n",
                            "1  2015-12-20   1.35   54876.98   674.28   44638.81   58.33     9505.56   \n",
                            "2  2015-12-13   0.93  118220.22   794.70  109149.67  130.50     8145.35   \n",
                            "3  2015-12-06   1.08   78992.15  1132.00   71976.41   72.58     5811.16   \n",
                            "4  2015-11-29   1.28   51039.60   941.48   43838.39   75.78     6183.95   \n",
                            "..        ...    ...        ...      ...        ...     ...         ...   \n",
                            "7  2018-02-04   1.63   17074.83  2046.96    1529.20    0.00    13498.67   \n",
                            "8  2018-01-28   1.71   13888.04  1191.70    3431.50    0.00     9264.84   \n",
                            "9  2018-01-21   1.87   13766.76  1191.92    2452.79  727.94     9394.11   \n",
                            "10 2018-01-14   1.93   16205.22  1527.63    2981.04  727.01    10969.54   \n",
                            "11 2018-01-07   1.62   17489.58  2894.77    2356.13  224.53    12014.15   \n",
                            "\n",
                            "    Small Bags  Large Bags  XLarge Bags          type  year            region  \n",
                            "0      8603.62       93.25          0.0  conventional  2015            Albany  \n",
                            "1      9408.07       97.49          0.0  conventional  2015            Albany  \n",
                            "2      8042.21      103.14          0.0  conventional  2015            Albany  \n",
                            "3      5677.40      133.76          0.0  conventional  2015            Albany  \n",
                            "4      5986.26      197.69          0.0  conventional  2015            Albany  \n",
                            "..         ...         ...          ...           ...   ...               ...  \n",
                            "7     13066.82      431.85          0.0       organic  2018  WestTexNewMexico  \n",
                            "8      8940.04      324.80          0.0       organic  2018  WestTexNewMexico  \n",
                            "9      9351.80       42.31          0.0       organic  2018  WestTexNewMexico  \n",
                            "10    10919.54       50.00          0.0       organic  2018  WestTexNewMexico  \n",
                            "11    11988.14       26.01          0.0       organic  2018  WestTexNewMexico  \n",
                            "\n",
                            "[18249 rows x 13 columns]"
                        ]
                    },
                    "execution_count": 50,
                    "metadata": {},
                    "output_type": "execute_result"
                }
            ],
            "source": [
                "df.rename(columns={'AveragePrice': 'price', 'Total Volume': 'volume'}, inplace=True)\n",
                "df"
            ]
        },
        {
            "attachments": {},
            "cell_type": "markdown",
            "metadata": {},
            "source": [
                "# Counting\n",
                "\n",
                "**Counting number of values without NaNs**  \n",
                "We already saw different ways to access to the number of rows. But what if you want to count the number of rows with not NaN values? The `count()` method counts non-NA cells for each column or row"
            ]
        },
        {
            "cell_type": "code",
            "execution_count": 51,
            "metadata": {},
            "outputs": [
                {
                    "data": {
                        "text/plain": [
                            "Date           18249\n",
                            "price          18249\n",
                            "volume         18249\n",
                            "4046           18249\n",
                            "4225           18249\n",
                            "4770           18249\n",
                            "Total Bags     18249\n",
                            "Small Bags     18249\n",
                            "Large Bags     18249\n",
                            "XLarge Bags    18249\n",
                            "type           18249\n",
                            "year           18249\n",
                            "region         18249\n",
                            "dtype: int64"
                        ]
                    },
                    "execution_count": 51,
                    "metadata": {},
                    "output_type": "execute_result"
                }
            ],
            "source": [
                "df.count()"
            ]
        },
        {
            "attachments": {},
            "cell_type": "markdown",
            "metadata": {},
            "source": [
                "**Counting number of unique values per column (Series) in the DataFrame**  \n",
                "Number of unique for one Series"
            ]
        },
        {
            "cell_type": "code",
            "execution_count": 53,
            "metadata": {},
            "outputs": [
                {
                    "data": {
                        "text/plain": [
                            "4"
                        ]
                    },
                    "execution_count": 53,
                    "metadata": {},
                    "output_type": "execute_result"
                }
            ],
            "source": [
                "df.year.nunique()"
            ]
        },
        {
            "attachments": {},
            "cell_type": "markdown",
            "metadata": {},
            "source": [
                "Number of unique values for every Series in the DataFrame"
            ]
        },
        {
            "cell_type": "code",
            "execution_count": 65,
            "metadata": {},
            "outputs": [
                {
                    "data": {
                        "text/plain": [
                            "Date             169\n",
                            "price            259\n",
                            "volume         18237\n",
                            "4046           17702\n",
                            "4225           18103\n",
                            "4770           12071\n",
                            "Total Bags     18097\n",
                            "Small Bags     17321\n",
                            "Large Bags     15082\n",
                            "XLarge Bags     5588\n",
                            "type               2\n",
                            "year               4\n",
                            "region            54\n",
                            "dtype: int64"
                        ]
                    },
                    "execution_count": 65,
                    "metadata": {},
                    "output_type": "execute_result"
                }
            ],
            "source": [
                "df.nunique()"
            ]
        },
        {
            "attachments": {},
            "cell_type": "markdown",
            "metadata": {},
            "source": [
                "**Unique values**"
            ]
        },
        {
            "cell_type": "code",
            "execution_count": 57,
            "metadata": {},
            "outputs": [
                {
                    "data": {
                        "text/plain": [
                            "array(['conventional', 'organic'], dtype=object)"
                        ]
                    },
                    "execution_count": 57,
                    "metadata": {},
                    "output_type": "execute_result"
                }
            ],
            "source": [
                "df['type'].unique()"
            ]
        },
        {
            "attachments": {},
            "cell_type": "markdown",
            "metadata": {},
            "source": [
                "Remember that we can easily change a DataFrame or Series output into a python list"
            ]
        },
        {
            "cell_type": "code",
            "execution_count": 58,
            "metadata": {},
            "outputs": [
                {
                    "data": {
                        "text/plain": [
                            "['conventional', 'organic']"
                        ]
                    },
                    "execution_count": 58,
                    "metadata": {},
                    "output_type": "execute_result"
                }
            ],
            "source": [
                "df['type'].unique().tolist()"
            ]
        },
        {
            "attachments": {},
            "cell_type": "markdown",
            "metadata": {},
            "source": [
                "**Counting rows based on unique values**\n",
                "\n",
                "`value_counts()` return a Series containing counts of unique rows in the DataFrame\n",
                "```python\n",
                "DataFrame.value_counts(subset=None, normalize=False, sort=True, ascending=False, dropna=True)\n",
                "```\n",
                "This method is simple but powerful for simple exploration. Let's look some examples"
            ]
        },
        {
            "cell_type": "code",
            "execution_count": 59,
            "metadata": {},
            "outputs": [
                {
                    "data": {
                        "text/plain": [
                            "type\n",
                            "conventional    9126\n",
                            "organic         9123\n",
                            "Name: count, dtype: int64"
                        ]
                    },
                    "execution_count": 59,
                    "metadata": {},
                    "output_type": "execute_result"
                }
            ],
            "source": [
                "df.value_counts(subset='type')"
            ]
        },
        {
            "cell_type": "code",
            "execution_count": 68,
            "metadata": {},
            "outputs": [
                {
                    "data": {
                        "text/plain": [
                            "year\n",
                            "2015    5615\n",
                            "2016    5616\n",
                            "2017    5722\n",
                            "2018    1296\n",
                            "Name: count, dtype: int64"
                        ]
                    },
                    "execution_count": 68,
                    "metadata": {},
                    "output_type": "execute_result"
                }
            ],
            "source": [
                "df.value_counts(subset='year', sort=False)"
            ]
        },
        {
            "attachments": {},
            "cell_type": "markdown",
            "metadata": {},
            "source": [
                "We can use a bigger subset for a more detailed view"
            ]
        },
        {
            "cell_type": "code",
            "execution_count": 69,
            "metadata": {},
            "outputs": [
                {
                    "data": {
                        "text/plain": [
                            "year  type        \n",
                            "2015  conventional    2808\n",
                            "      organic         2807\n",
                            "2016  conventional    2808\n",
                            "      organic         2808\n",
                            "2017  conventional    2862\n",
                            "      organic         2860\n",
                            "2018  conventional     648\n",
                            "      organic          648\n",
                            "Name: count, dtype: int64"
                        ]
                    },
                    "execution_count": 69,
                    "metadata": {},
                    "output_type": "execute_result"
                }
            ],
            "source": [
                "df.value_counts(subset=['year', 'type'], sort=False)"
            ]
        },
        {
            "attachments": {},
            "cell_type": "markdown",
            "metadata": {},
            "source": [
                "And we just need add one more flag to access to the same but normalized values"
            ]
        },
        {
            "cell_type": "code",
            "execution_count": 67,
            "metadata": {},
            "outputs": [
                {
                    "data": {
                        "text/plain": [
                            "year  type        \n",
                            "2015  conventional    15.387145\n",
                            "      organic         15.381665\n",
                            "2016  conventional    15.387145\n",
                            "      organic         15.387145\n",
                            "2017  conventional    15.683051\n",
                            "      organic         15.672092\n",
                            "2018  conventional     3.550880\n",
                            "      organic          3.550880\n",
                            "dtype: float64"
                        ]
                    },
                    "execution_count": 67,
                    "metadata": {},
                    "output_type": "execute_result"
                }
            ],
            "source": [
                "df.value_counts(subset=['year', 'type'], sort=False, normalize=True)*100"
            ]
        },
        {
            "attachments": {},
            "cell_type": "markdown",
            "metadata": {},
            "source": [
                "# Grouping\n",
                "\n",
                "Have you been looking for power: meet `groupby()`\n",
                "\n",
                "A groupby operation involves some combination of splitting the object, applying a function, and combining the results. This can be used to group large amounts of data and compute operations on these groups.\n",
                "\n",
                "```python\n",
                "DataFrame.groupby(by=None, axis=0, level=None, as_index=True, sort=True,\n",
                "                  group_keys=True, squeeze=<no_default>, observed=False, dropna=True)\n",
                "```"
            ]
        },
        {
            "attachments": {},
            "cell_type": "markdown",
            "metadata": {},
            "source": [
                "Next cell mimics in some way the value_counts() behaviour.\n",
                "- Split dataset into subdaframes where each subdataframe.year is unique \n",
                "- Count the number of rows without NaNs for every column"
            ]
        },
        {
            "cell_type": "code",
            "execution_count": 73,
            "metadata": {},
            "outputs": [
                {
                    "data": {
                        "text/plain": [
                            "year\n",
                            "2017    5722\n",
                            "2016    5616\n",
                            "2015    5615\n",
                            "2018    1296\n",
                            "Name: count, dtype: int64"
                        ]
                    },
                    "execution_count": 73,
                    "metadata": {},
                    "output_type": "execute_result"
                }
            ],
            "source": [
                "df['year'].value_counts()"
            ]
        },
        {
            "cell_type": "code",
            "execution_count": 72,
            "metadata": {},
            "outputs": [
                {
                    "data": {
                        "text/html": [
                            "<div>\n",
                            "<style scoped>\n",
                            "    .dataframe tbody tr th:only-of-type {\n",
                            "        vertical-align: middle;\n",
                            "    }\n",
                            "\n",
                            "    .dataframe tbody tr th {\n",
                            "        vertical-align: top;\n",
                            "    }\n",
                            "\n",
                            "    .dataframe thead th {\n",
                            "        text-align: right;\n",
                            "    }\n",
                            "</style>\n",
                            "<table border=\"1\" class=\"dataframe\">\n",
                            "  <thead>\n",
                            "    <tr style=\"text-align: right;\">\n",
                            "      <th></th>\n",
                            "      <th>Date</th>\n",
                            "      <th>price</th>\n",
                            "      <th>volume</th>\n",
                            "      <th>4046</th>\n",
                            "      <th>4225</th>\n",
                            "      <th>4770</th>\n",
                            "      <th>Total Bags</th>\n",
                            "      <th>Small Bags</th>\n",
                            "      <th>Large Bags</th>\n",
                            "      <th>XLarge Bags</th>\n",
                            "      <th>type</th>\n",
                            "      <th>region</th>\n",
                            "    </tr>\n",
                            "    <tr>\n",
                            "      <th>year</th>\n",
                            "      <th></th>\n",
                            "      <th></th>\n",
                            "      <th></th>\n",
                            "      <th></th>\n",
                            "      <th></th>\n",
                            "      <th></th>\n",
                            "      <th></th>\n",
                            "      <th></th>\n",
                            "      <th></th>\n",
                            "      <th></th>\n",
                            "      <th></th>\n",
                            "      <th></th>\n",
                            "    </tr>\n",
                            "  </thead>\n",
                            "  <tbody>\n",
                            "    <tr>\n",
                            "      <th>2015</th>\n",
                            "      <td>5615</td>\n",
                            "      <td>5615</td>\n",
                            "      <td>5615</td>\n",
                            "      <td>5615</td>\n",
                            "      <td>5615</td>\n",
                            "      <td>5615</td>\n",
                            "      <td>5615</td>\n",
                            "      <td>5615</td>\n",
                            "      <td>5615</td>\n",
                            "      <td>5615</td>\n",
                            "      <td>5615</td>\n",
                            "      <td>5615</td>\n",
                            "    </tr>\n",
                            "    <tr>\n",
                            "      <th>2016</th>\n",
                            "      <td>5616</td>\n",
                            "      <td>5616</td>\n",
                            "      <td>5616</td>\n",
                            "      <td>5616</td>\n",
                            "      <td>5616</td>\n",
                            "      <td>5616</td>\n",
                            "      <td>5616</td>\n",
                            "      <td>5616</td>\n",
                            "      <td>5616</td>\n",
                            "      <td>5616</td>\n",
                            "      <td>5616</td>\n",
                            "      <td>5616</td>\n",
                            "    </tr>\n",
                            "    <tr>\n",
                            "      <th>2017</th>\n",
                            "      <td>5722</td>\n",
                            "      <td>5722</td>\n",
                            "      <td>5722</td>\n",
                            "      <td>5722</td>\n",
                            "      <td>5722</td>\n",
                            "      <td>5722</td>\n",
                            "      <td>5722</td>\n",
                            "      <td>5722</td>\n",
                            "      <td>5722</td>\n",
                            "      <td>5722</td>\n",
                            "      <td>5722</td>\n",
                            "      <td>5722</td>\n",
                            "    </tr>\n",
                            "    <tr>\n",
                            "      <th>2018</th>\n",
                            "      <td>1296</td>\n",
                            "      <td>1296</td>\n",
                            "      <td>1296</td>\n",
                            "      <td>1296</td>\n",
                            "      <td>1296</td>\n",
                            "      <td>1296</td>\n",
                            "      <td>1296</td>\n",
                            "      <td>1296</td>\n",
                            "      <td>1296</td>\n",
                            "      <td>1296</td>\n",
                            "      <td>1296</td>\n",
                            "      <td>1296</td>\n",
                            "    </tr>\n",
                            "  </tbody>\n",
                            "</table>\n",
                            "</div>"
                        ],
                        "text/plain": [
                            "      Date  price  volume  4046  4225  4770  Total Bags  Small Bags  \\\n",
                            "year                                                                  \n",
                            "2015  5615   5615    5615  5615  5615  5615        5615        5615   \n",
                            "2016  5616   5616    5616  5616  5616  5616        5616        5616   \n",
                            "2017  5722   5722    5722  5722  5722  5722        5722        5722   \n",
                            "2018  1296   1296    1296  1296  1296  1296        1296        1296   \n",
                            "\n",
                            "      Large Bags  XLarge Bags  type  region  \n",
                            "year                                         \n",
                            "2015        5615         5615  5615    5615  \n",
                            "2016        5616         5616  5616    5616  \n",
                            "2017        5722         5722  5722    5722  \n",
                            "2018        1296         1296  1296    1296  "
                        ]
                    },
                    "execution_count": 72,
                    "metadata": {},
                    "output_type": "execute_result"
                }
            ],
            "source": [
                "df.groupby('year').count()"
            ]
        },
        {
            "attachments": {},
            "cell_type": "markdown",
            "metadata": {},
            "source": [
                "The above rows present the same values because the original dataset is free of NaN values. It's a great dataset: No NaNs and Avocados everywhere.\n",
                "\n",
                "## Functions\n",
                "\n",
                "What about max()?"
            ]
        },
        {
            "cell_type": "code",
            "execution_count": 69,
            "metadata": {},
            "outputs": [
                {
                    "data": {
                        "text/html": [
                            "<div>\n",
                            "<style scoped>\n",
                            "    .dataframe tbody tr th:only-of-type {\n",
                            "        vertical-align: middle;\n",
                            "    }\n",
                            "\n",
                            "    .dataframe tbody tr th {\n",
                            "        vertical-align: top;\n",
                            "    }\n",
                            "\n",
                            "    .dataframe thead th {\n",
                            "        text-align: right;\n",
                            "    }\n",
                            "</style>\n",
                            "<table border=\"1\" class=\"dataframe\">\n",
                            "  <thead>\n",
                            "    <tr style=\"text-align: right;\">\n",
                            "      <th></th>\n",
                            "      <th>Date</th>\n",
                            "      <th>price</th>\n",
                            "      <th>volume</th>\n",
                            "      <th>type</th>\n",
                            "      <th>region</th>\n",
                            "    </tr>\n",
                            "    <tr>\n",
                            "      <th>year</th>\n",
                            "      <th></th>\n",
                            "      <th></th>\n",
                            "      <th></th>\n",
                            "      <th></th>\n",
                            "      <th></th>\n",
                            "    </tr>\n",
                            "  </thead>\n",
                            "  <tbody>\n",
                            "    <tr>\n",
                            "      <th>2015</th>\n",
                            "      <td>2015-12-27</td>\n",
                            "      <td>2.79</td>\n",
                            "      <td>44655461.51</td>\n",
                            "      <td>organic</td>\n",
                            "      <td>WestTexNewMexico</td>\n",
                            "    </tr>\n",
                            "    <tr>\n",
                            "      <th>2016</th>\n",
                            "      <td>2016-12-25</td>\n",
                            "      <td>3.25</td>\n",
                            "      <td>52288697.89</td>\n",
                            "      <td>organic</td>\n",
                            "      <td>WestTexNewMexico</td>\n",
                            "    </tr>\n",
                            "    <tr>\n",
                            "      <th>2017</th>\n",
                            "      <td>2017-12-31</td>\n",
                            "      <td>3.17</td>\n",
                            "      <td>61034457.10</td>\n",
                            "      <td>organic</td>\n",
                            "      <td>WestTexNewMexico</td>\n",
                            "    </tr>\n",
                            "    <tr>\n",
                            "      <th>2018</th>\n",
                            "      <td>2018-03-25</td>\n",
                            "      <td>2.30</td>\n",
                            "      <td>62505646.52</td>\n",
                            "      <td>organic</td>\n",
                            "      <td>WestTexNewMexico</td>\n",
                            "    </tr>\n",
                            "  </tbody>\n",
                            "</table>\n",
                            "</div>"
                        ],
                        "text/plain": [
                            "           Date  price       volume     type            region\n",
                            "year                                                          \n",
                            "2015 2015-12-27   2.79  44655461.51  organic  WestTexNewMexico\n",
                            "2016 2016-12-25   3.25  52288697.89  organic  WestTexNewMexico\n",
                            "2017 2017-12-31   3.17  61034457.10  organic  WestTexNewMexico\n",
                            "2018 2018-03-25   2.30  62505646.52  organic  WestTexNewMexico"
                        ]
                    },
                    "execution_count": 69,
                    "metadata": {},
                    "output_type": "execute_result"
                }
            ],
            "source": [
                "df.groupby('year').max()"
            ]
        },
        {
            "attachments": {},
            "cell_type": "markdown",
            "metadata": {},
            "source": [
                "And mean()?"
            ]
        },
        {
            "cell_type": "code",
            "execution_count": 70,
            "metadata": {},
            "outputs": [
                {
                    "data": {
                        "text/html": [
                            "<div>\n",
                            "<style scoped>\n",
                            "    .dataframe tbody tr th:only-of-type {\n",
                            "        vertical-align: middle;\n",
                            "    }\n",
                            "\n",
                            "    .dataframe tbody tr th {\n",
                            "        vertical-align: top;\n",
                            "    }\n",
                            "\n",
                            "    .dataframe thead th {\n",
                            "        text-align: right;\n",
                            "    }\n",
                            "</style>\n",
                            "<table border=\"1\" class=\"dataframe\">\n",
                            "  <thead>\n",
                            "    <tr style=\"text-align: right;\">\n",
                            "      <th></th>\n",
                            "      <th>price</th>\n",
                            "      <th>volume</th>\n",
                            "    </tr>\n",
                            "    <tr>\n",
                            "      <th>year</th>\n",
                            "      <th></th>\n",
                            "      <th></th>\n",
                            "    </tr>\n",
                            "  </thead>\n",
                            "  <tbody>\n",
                            "    <tr>\n",
                            "      <th>2015</th>\n",
                            "      <td>1.375590</td>\n",
                            "      <td>7.810274e+05</td>\n",
                            "    </tr>\n",
                            "    <tr>\n",
                            "      <th>2016</th>\n",
                            "      <td>1.338640</td>\n",
                            "      <td>8.584206e+05</td>\n",
                            "    </tr>\n",
                            "    <tr>\n",
                            "      <th>2017</th>\n",
                            "      <td>1.515128</td>\n",
                            "      <td>8.623393e+05</td>\n",
                            "    </tr>\n",
                            "    <tr>\n",
                            "      <th>2018</th>\n",
                            "      <td>1.347531</td>\n",
                            "      <td>1.066928e+06</td>\n",
                            "    </tr>\n",
                            "  </tbody>\n",
                            "</table>\n",
                            "</div>"
                        ],
                        "text/plain": [
                            "         price        volume\n",
                            "year                        \n",
                            "2015  1.375590  7.810274e+05\n",
                            "2016  1.338640  8.584206e+05\n",
                            "2017  1.515128  8.623393e+05\n",
                            "2018  1.347531  1.066928e+06"
                        ]
                    },
                    "execution_count": 70,
                    "metadata": {},
                    "output_type": "execute_result"
                }
            ],
            "source": [
                "df.groupby('year').mean()"
            ]
        },
        {
            "attachments": {},
            "cell_type": "markdown",
            "metadata": {},
            "source": [
                "Do you find something different between using max and mean? What are your thoughts?"
            ]
        },
        {
            "cell_type": "code",
            "execution_count": 74,
            "metadata": {},
            "outputs": [
                {
                    "data": {
                        "text/html": [
                            "<div>\n",
                            "<style scoped>\n",
                            "    .dataframe tbody tr th:only-of-type {\n",
                            "        vertical-align: middle;\n",
                            "    }\n",
                            "\n",
                            "    .dataframe tbody tr th {\n",
                            "        vertical-align: top;\n",
                            "    }\n",
                            "\n",
                            "    .dataframe thead tr th {\n",
                            "        text-align: left;\n",
                            "    }\n",
                            "\n",
                            "    .dataframe thead tr:last-of-type th {\n",
                            "        text-align: right;\n",
                            "    }\n",
                            "</style>\n",
                            "<table border=\"1\" class=\"dataframe\">\n",
                            "  <thead>\n",
                            "    <tr>\n",
                            "      <th></th>\n",
                            "      <th colspan=\"8\" halign=\"left\">price</th>\n",
                            "      <th colspan=\"8\" halign=\"left\">volume</th>\n",
                            "    </tr>\n",
                            "    <tr>\n",
                            "      <th></th>\n",
                            "      <th>count</th>\n",
                            "      <th>mean</th>\n",
                            "      <th>std</th>\n",
                            "      <th>min</th>\n",
                            "      <th>25%</th>\n",
                            "      <th>50%</th>\n",
                            "      <th>75%</th>\n",
                            "      <th>max</th>\n",
                            "      <th>count</th>\n",
                            "      <th>mean</th>\n",
                            "      <th>std</th>\n",
                            "      <th>min</th>\n",
                            "      <th>25%</th>\n",
                            "      <th>50%</th>\n",
                            "      <th>75%</th>\n",
                            "      <th>max</th>\n",
                            "    </tr>\n",
                            "    <tr>\n",
                            "      <th>year</th>\n",
                            "      <th></th>\n",
                            "      <th></th>\n",
                            "      <th></th>\n",
                            "      <th></th>\n",
                            "      <th></th>\n",
                            "      <th></th>\n",
                            "      <th></th>\n",
                            "      <th></th>\n",
                            "      <th></th>\n",
                            "      <th></th>\n",
                            "      <th></th>\n",
                            "      <th></th>\n",
                            "      <th></th>\n",
                            "      <th></th>\n",
                            "      <th></th>\n",
                            "      <th></th>\n",
                            "    </tr>\n",
                            "  </thead>\n",
                            "  <tbody>\n",
                            "    <tr>\n",
                            "      <th>2015</th>\n",
                            "      <td>5615.0</td>\n",
                            "      <td>1.375590</td>\n",
                            "      <td>0.375595</td>\n",
                            "      <td>0.49</td>\n",
                            "      <td>1.07</td>\n",
                            "      <td>1.300</td>\n",
                            "      <td>1.67</td>\n",
                            "      <td>2.79</td>\n",
                            "      <td>5615.0</td>\n",
                            "      <td>7.810274e+05</td>\n",
                            "      <td>3.171256e+06</td>\n",
                            "      <td>84.56</td>\n",
                            "      <td>6931.6300</td>\n",
                            "      <td>76146.82</td>\n",
                            "      <td>400176.6800</td>\n",
                            "      <td>44655461.51</td>\n",
                            "    </tr>\n",
                            "    <tr>\n",
                            "      <th>2016</th>\n",
                            "      <td>5616.0</td>\n",
                            "      <td>1.338640</td>\n",
                            "      <td>0.393708</td>\n",
                            "      <td>0.51</td>\n",
                            "      <td>1.04</td>\n",
                            "      <td>1.300</td>\n",
                            "      <td>1.56</td>\n",
                            "      <td>3.25</td>\n",
                            "      <td>5616.0</td>\n",
                            "      <td>8.584206e+05</td>\n",
                            "      <td>3.478732e+06</td>\n",
                            "      <td>385.55</td>\n",
                            "      <td>10643.6850</td>\n",
                            "      <td>109597.29</td>\n",
                            "      <td>451107.2925</td>\n",
                            "      <td>52288697.89</td>\n",
                            "    </tr>\n",
                            "    <tr>\n",
                            "      <th>2017</th>\n",
                            "      <td>5722.0</td>\n",
                            "      <td>1.515128</td>\n",
                            "      <td>0.432906</td>\n",
                            "      <td>0.44</td>\n",
                            "      <td>1.22</td>\n",
                            "      <td>1.490</td>\n",
                            "      <td>1.77</td>\n",
                            "      <td>3.17</td>\n",
                            "      <td>5722.0</td>\n",
                            "      <td>8.623393e+05</td>\n",
                            "      <td>3.481957e+06</td>\n",
                            "      <td>515.01</td>\n",
                            "      <td>13790.6975</td>\n",
                            "      <td>122915.75</td>\n",
                            "      <td>426454.5125</td>\n",
                            "      <td>61034457.10</td>\n",
                            "    </tr>\n",
                            "    <tr>\n",
                            "      <th>2018</th>\n",
                            "      <td>1296.0</td>\n",
                            "      <td>1.347531</td>\n",
                            "      <td>0.305858</td>\n",
                            "      <td>0.56</td>\n",
                            "      <td>1.13</td>\n",
                            "      <td>1.345</td>\n",
                            "      <td>1.56</td>\n",
                            "      <td>2.30</td>\n",
                            "      <td>1296.0</td>\n",
                            "      <td>1.066928e+06</td>\n",
                            "      <td>4.285501e+06</td>\n",
                            "      <td>2064.90</td>\n",
                            "      <td>17690.9825</td>\n",
                            "      <td>157175.09</td>\n",
                            "      <td>529462.2450</td>\n",
                            "      <td>62505646.52</td>\n",
                            "    </tr>\n",
                            "  </tbody>\n",
                            "</table>\n",
                            "</div>"
                        ],
                        "text/plain": [
                            "       price                                                     volume  \\\n",
                            "       count      mean       std   min   25%    50%   75%   max   count   \n",
                            "year                                                                      \n",
                            "2015  5615.0  1.375590  0.375595  0.49  1.07  1.300  1.67  2.79  5615.0   \n",
                            "2016  5616.0  1.338640  0.393708  0.51  1.04  1.300  1.56  3.25  5616.0   \n",
                            "2017  5722.0  1.515128  0.432906  0.44  1.22  1.490  1.77  3.17  5722.0   \n",
                            "2018  1296.0  1.347531  0.305858  0.56  1.13  1.345  1.56  2.30  1296.0   \n",
                            "\n",
                            "                                                                               \\\n",
                            "              mean           std      min         25%        50%          75%   \n",
                            "year                                                                            \n",
                            "2015  7.810274e+05  3.171256e+06    84.56   6931.6300   76146.82  400176.6800   \n",
                            "2016  8.584206e+05  3.478732e+06   385.55  10643.6850  109597.29  451107.2925   \n",
                            "2017  8.623393e+05  3.481957e+06   515.01  13790.6975  122915.75  426454.5125   \n",
                            "2018  1.066928e+06  4.285501e+06  2064.90  17690.9825  157175.09  529462.2450   \n",
                            "\n",
                            "                   \n",
                            "              max  \n",
                            "year               \n",
                            "2015  44655461.51  \n",
                            "2016  52288697.89  \n",
                            "2017  61034457.10  \n",
                            "2018  62505646.52  "
                        ]
                    },
                    "execution_count": 74,
                    "metadata": {},
                    "output_type": "execute_result"
                }
            ],
            "source": [
                "df.groupby('year').describe()"
            ]
        },
        {
            "attachments": {},
            "cell_type": "markdown",
            "metadata": {},
            "source": [
                "There exist other methods that can be chain to gropuby(). In example first and last will return the first and the last row of each group respectivily."
            ]
        },
        {
            "cell_type": "code",
            "execution_count": 78,
            "metadata": {},
            "outputs": [
                {
                    "data": {
                        "text/html": [
                            "<div>\n",
                            "<style scoped>\n",
                            "    .dataframe tbody tr th:only-of-type {\n",
                            "        vertical-align: middle;\n",
                            "    }\n",
                            "\n",
                            "    .dataframe tbody tr th {\n",
                            "        vertical-align: top;\n",
                            "    }\n",
                            "\n",
                            "    .dataframe thead th {\n",
                            "        text-align: right;\n",
                            "    }\n",
                            "</style>\n",
                            "<table border=\"1\" class=\"dataframe\">\n",
                            "  <thead>\n",
                            "    <tr style=\"text-align: right;\">\n",
                            "      <th></th>\n",
                            "      <th>Date</th>\n",
                            "      <th>price</th>\n",
                            "      <th>volume</th>\n",
                            "      <th>type</th>\n",
                            "      <th>region</th>\n",
                            "    </tr>\n",
                            "    <tr>\n",
                            "      <th>year</th>\n",
                            "      <th></th>\n",
                            "      <th></th>\n",
                            "      <th></th>\n",
                            "      <th></th>\n",
                            "      <th></th>\n",
                            "    </tr>\n",
                            "  </thead>\n",
                            "  <tbody>\n",
                            "    <tr>\n",
                            "      <th>2015</th>\n",
                            "      <td>2015-12-27</td>\n",
                            "      <td>1.33</td>\n",
                            "      <td>64236.62</td>\n",
                            "      <td>conventional</td>\n",
                            "      <td>Albany</td>\n",
                            "    </tr>\n",
                            "    <tr>\n",
                            "      <th>2016</th>\n",
                            "      <td>2016-12-25</td>\n",
                            "      <td>1.52</td>\n",
                            "      <td>73341.73</td>\n",
                            "      <td>conventional</td>\n",
                            "      <td>Albany</td>\n",
                            "    </tr>\n",
                            "    <tr>\n",
                            "      <th>2017</th>\n",
                            "      <td>2017-12-31</td>\n",
                            "      <td>1.47</td>\n",
                            "      <td>113514.42</td>\n",
                            "      <td>conventional</td>\n",
                            "      <td>Albany</td>\n",
                            "    </tr>\n",
                            "    <tr>\n",
                            "      <th>2018</th>\n",
                            "      <td>2018-03-25</td>\n",
                            "      <td>1.57</td>\n",
                            "      <td>149396.50</td>\n",
                            "      <td>conventional</td>\n",
                            "      <td>Albany</td>\n",
                            "    </tr>\n",
                            "  </tbody>\n",
                            "</table>\n",
                            "</div>"
                        ],
                        "text/plain": [
                            "           Date  price     volume          type  region\n",
                            "year                                                   \n",
                            "2015 2015-12-27   1.33   64236.62  conventional  Albany\n",
                            "2016 2016-12-25   1.52   73341.73  conventional  Albany\n",
                            "2017 2017-12-31   1.47  113514.42  conventional  Albany\n",
                            "2018 2018-03-25   1.57  149396.50  conventional  Albany"
                        ]
                    },
                    "execution_count": 78,
                    "metadata": {},
                    "output_type": "execute_result"
                }
            ],
            "source": [
                "df.groupby('year').first()"
            ]
        },
        {
            "attachments": {},
            "cell_type": "markdown",
            "metadata": {},
            "source": [
                "Previous call is similar to using head, but head() keeps the group index where first set a new index: the year"
            ]
        },
        {
            "cell_type": "code",
            "execution_count": 85,
            "metadata": {},
            "outputs": [
                {
                    "data": {
                        "text/html": [
                            "<div>\n",
                            "<style scoped>\n",
                            "    .dataframe tbody tr th:only-of-type {\n",
                            "        vertical-align: middle;\n",
                            "    }\n",
                            "\n",
                            "    .dataframe tbody tr th {\n",
                            "        vertical-align: top;\n",
                            "    }\n",
                            "\n",
                            "    .dataframe thead th {\n",
                            "        text-align: right;\n",
                            "    }\n",
                            "</style>\n",
                            "<table border=\"1\" class=\"dataframe\">\n",
                            "  <thead>\n",
                            "    <tr style=\"text-align: right;\">\n",
                            "      <th></th>\n",
                            "      <th>Date</th>\n",
                            "      <th>price</th>\n",
                            "      <th>volume</th>\n",
                            "      <th>type</th>\n",
                            "      <th>year</th>\n",
                            "      <th>region</th>\n",
                            "    </tr>\n",
                            "  </thead>\n",
                            "  <tbody>\n",
                            "    <tr>\n",
                            "      <th>0</th>\n",
                            "      <td>2015-12-27</td>\n",
                            "      <td>1.33</td>\n",
                            "      <td>64236.62</td>\n",
                            "      <td>conventional</td>\n",
                            "      <td>2015</td>\n",
                            "      <td>Albany</td>\n",
                            "    </tr>\n",
                            "    <tr>\n",
                            "      <th>0</th>\n",
                            "      <td>2016-12-25</td>\n",
                            "      <td>1.52</td>\n",
                            "      <td>73341.73</td>\n",
                            "      <td>conventional</td>\n",
                            "      <td>2016</td>\n",
                            "      <td>Albany</td>\n",
                            "    </tr>\n",
                            "    <tr>\n",
                            "      <th>0</th>\n",
                            "      <td>2017-12-31</td>\n",
                            "      <td>1.47</td>\n",
                            "      <td>113514.42</td>\n",
                            "      <td>conventional</td>\n",
                            "      <td>2017</td>\n",
                            "      <td>Albany</td>\n",
                            "    </tr>\n",
                            "    <tr>\n",
                            "      <th>0</th>\n",
                            "      <td>2018-03-25</td>\n",
                            "      <td>1.57</td>\n",
                            "      <td>149396.50</td>\n",
                            "      <td>conventional</td>\n",
                            "      <td>2018</td>\n",
                            "      <td>Albany</td>\n",
                            "    </tr>\n",
                            "  </tbody>\n",
                            "</table>\n",
                            "</div>"
                        ],
                        "text/plain": [
                            "        Date  price     volume          type  year  region\n",
                            "0 2015-12-27   1.33   64236.62  conventional  2015  Albany\n",
                            "0 2016-12-25   1.52   73341.73  conventional  2016  Albany\n",
                            "0 2017-12-31   1.47  113514.42  conventional  2017  Albany\n",
                            "0 2018-03-25   1.57  149396.50  conventional  2018  Albany"
                        ]
                    },
                    "execution_count": 85,
                    "metadata": {},
                    "output_type": "execute_result"
                }
            ],
            "source": [
                "df.groupby('year').head(1)"
            ]
        },
        {
            "attachments": {},
            "cell_type": "markdown",
            "metadata": {},
            "source": [
                "### Aggregate\n",
                "\n",
                "`aggregate`: Aggregate using one or more operations over the specified axis (`agg` is an alias).\n",
                "\n",
                "Next cell shows the aggregated avocado price and volume values from year 2018"
            ]
        },
        {
            "cell_type": "code",
            "execution_count": 81,
            "metadata": {},
            "outputs": [
                {
                    "data": {
                        "text/html": [
                            "<div>\n",
                            "<style scoped>\n",
                            "    .dataframe tbody tr th:only-of-type {\n",
                            "        vertical-align: middle;\n",
                            "    }\n",
                            "\n",
                            "    .dataframe tbody tr th {\n",
                            "        vertical-align: top;\n",
                            "    }\n",
                            "\n",
                            "    .dataframe thead th {\n",
                            "        text-align: right;\n",
                            "    }\n",
                            "</style>\n",
                            "<table border=\"1\" class=\"dataframe\">\n",
                            "  <thead>\n",
                            "    <tr style=\"text-align: right;\">\n",
                            "      <th></th>\n",
                            "      <th>price</th>\n",
                            "      <th>volume</th>\n",
                            "    </tr>\n",
                            "  </thead>\n",
                            "  <tbody>\n",
                            "    <tr>\n",
                            "      <th>min</th>\n",
                            "      <td>0.560000</td>\n",
                            "      <td>2.064900e+03</td>\n",
                            "    </tr>\n",
                            "    <tr>\n",
                            "      <th>mean</th>\n",
                            "      <td>1.347531</td>\n",
                            "      <td>1.066928e+06</td>\n",
                            "    </tr>\n",
                            "    <tr>\n",
                            "      <th>std</th>\n",
                            "      <td>0.305858</td>\n",
                            "      <td>4.285501e+06</td>\n",
                            "    </tr>\n",
                            "    <tr>\n",
                            "      <th>max</th>\n",
                            "      <td>2.300000</td>\n",
                            "      <td>6.250565e+07</td>\n",
                            "    </tr>\n",
                            "  </tbody>\n",
                            "</table>\n",
                            "</div>"
                        ],
                        "text/plain": [
                            "         price        volume\n",
                            "min   0.560000  2.064900e+03\n",
                            "mean  1.347531  1.066928e+06\n",
                            "std   0.305858  4.285501e+06\n",
                            "max   2.300000  6.250565e+07"
                        ]
                    },
                    "execution_count": 81,
                    "metadata": {},
                    "output_type": "execute_result"
                }
            ],
            "source": [
                "condition = (df['year'] == 2018)\n",
                "df[condition][['price','volume']].agg(['min', 'mean', 'std', 'max'])"
            ]
        },
        {
            "attachments": {},
            "cell_type": "markdown",
            "metadata": {},
            "source": [
                "`aggregate` can be applied to dataframes though it can be chained with groupby()"
            ]
        },
        {
            "cell_type": "code",
            "execution_count": 86,
            "metadata": {},
            "outputs": [
                {
                    "data": {
                        "text/html": [
                            "<div>\n",
                            "<style scoped>\n",
                            "    .dataframe tbody tr th:only-of-type {\n",
                            "        vertical-align: middle;\n",
                            "    }\n",
                            "\n",
                            "    .dataframe tbody tr th {\n",
                            "        vertical-align: top;\n",
                            "    }\n",
                            "\n",
                            "    .dataframe thead tr th {\n",
                            "        text-align: left;\n",
                            "    }\n",
                            "\n",
                            "    .dataframe thead tr:last-of-type th {\n",
                            "        text-align: right;\n",
                            "    }\n",
                            "</style>\n",
                            "<table border=\"1\" class=\"dataframe\">\n",
                            "  <thead>\n",
                            "    <tr>\n",
                            "      <th></th>\n",
                            "      <th colspan=\"4\" halign=\"left\">price</th>\n",
                            "      <th colspan=\"4\" halign=\"left\">volume</th>\n",
                            "    </tr>\n",
                            "    <tr>\n",
                            "      <th></th>\n",
                            "      <th>min</th>\n",
                            "      <th>mean</th>\n",
                            "      <th>std</th>\n",
                            "      <th>max</th>\n",
                            "      <th>min</th>\n",
                            "      <th>mean</th>\n",
                            "      <th>std</th>\n",
                            "      <th>max</th>\n",
                            "    </tr>\n",
                            "    <tr>\n",
                            "      <th>year</th>\n",
                            "      <th></th>\n",
                            "      <th></th>\n",
                            "      <th></th>\n",
                            "      <th></th>\n",
                            "      <th></th>\n",
                            "      <th></th>\n",
                            "      <th></th>\n",
                            "      <th></th>\n",
                            "    </tr>\n",
                            "  </thead>\n",
                            "  <tbody>\n",
                            "    <tr>\n",
                            "      <th>2015</th>\n",
                            "      <td>0.49</td>\n",
                            "      <td>1.375590</td>\n",
                            "      <td>0.375595</td>\n",
                            "      <td>2.79</td>\n",
                            "      <td>84.56</td>\n",
                            "      <td>7.810274e+05</td>\n",
                            "      <td>3.171256e+06</td>\n",
                            "      <td>44655461.51</td>\n",
                            "    </tr>\n",
                            "    <tr>\n",
                            "      <th>2016</th>\n",
                            "      <td>0.51</td>\n",
                            "      <td>1.338640</td>\n",
                            "      <td>0.393708</td>\n",
                            "      <td>3.25</td>\n",
                            "      <td>385.55</td>\n",
                            "      <td>8.584206e+05</td>\n",
                            "      <td>3.478732e+06</td>\n",
                            "      <td>52288697.89</td>\n",
                            "    </tr>\n",
                            "    <tr>\n",
                            "      <th>2017</th>\n",
                            "      <td>0.44</td>\n",
                            "      <td>1.515128</td>\n",
                            "      <td>0.432906</td>\n",
                            "      <td>3.17</td>\n",
                            "      <td>515.01</td>\n",
                            "      <td>8.623393e+05</td>\n",
                            "      <td>3.481957e+06</td>\n",
                            "      <td>61034457.10</td>\n",
                            "    </tr>\n",
                            "    <tr>\n",
                            "      <th>2018</th>\n",
                            "      <td>0.56</td>\n",
                            "      <td>1.347531</td>\n",
                            "      <td>0.305858</td>\n",
                            "      <td>2.30</td>\n",
                            "      <td>2064.90</td>\n",
                            "      <td>1.066928e+06</td>\n",
                            "      <td>4.285501e+06</td>\n",
                            "      <td>62505646.52</td>\n",
                            "    </tr>\n",
                            "  </tbody>\n",
                            "</table>\n",
                            "</div>"
                        ],
                        "text/plain": [
                            "     price                             volume                              \\\n",
                            "       min      mean       std   max      min          mean           std   \n",
                            "year                                                                        \n",
                            "2015  0.49  1.375590  0.375595  2.79    84.56  7.810274e+05  3.171256e+06   \n",
                            "2016  0.51  1.338640  0.393708  3.25   385.55  8.584206e+05  3.478732e+06   \n",
                            "2017  0.44  1.515128  0.432906  3.17   515.01  8.623393e+05  3.481957e+06   \n",
                            "2018  0.56  1.347531  0.305858  2.30  2064.90  1.066928e+06  4.285501e+06   \n",
                            "\n",
                            "                   \n",
                            "              max  \n",
                            "year               \n",
                            "2015  44655461.51  \n",
                            "2016  52288697.89  \n",
                            "2017  61034457.10  \n",
                            "2018  62505646.52  "
                        ]
                    },
                    "execution_count": 86,
                    "metadata": {},
                    "output_type": "execute_result"
                }
            ],
            "source": [
                "df.groupby('year')[['price','volume']].agg(['min', 'mean', 'std', 'max'])"
            ]
        },
        {
            "attachments": {},
            "cell_type": "markdown",
            "metadata": {},
            "source": [
                "Suppose you need a way to extract percentiles. The `quantile()` method can be applied directly on a dataframe to extract the thing you want."
            ]
        },
        {
            "cell_type": "code",
            "execution_count": 87,
            "metadata": {},
            "outputs": [
                {
                    "data": {
                        "text/plain": [
                            "price        0.970\n",
                            "volume    8174.655\n",
                            "Name: 0.1, dtype: float64"
                        ]
                    },
                    "execution_count": 87,
                    "metadata": {},
                    "output_type": "execute_result"
                }
            ],
            "source": [
                "df[condition][['price', 'volume']].quantile(.10)"
            ]
        },
        {
            "attachments": {},
            "cell_type": "markdown",
            "metadata": {},
            "source": [
                "But there are cases where you need to extract more than that. For those cases it can be convenient to create custom methods to be used with aggregation."
            ]
        },
        {
            "cell_type": "code",
            "execution_count": 88,
            "metadata": {},
            "outputs": [
                {
                    "data": {
                        "text/html": [
                            "<div>\n",
                            "<style scoped>\n",
                            "    .dataframe tbody tr th:only-of-type {\n",
                            "        vertical-align: middle;\n",
                            "    }\n",
                            "\n",
                            "    .dataframe tbody tr th {\n",
                            "        vertical-align: top;\n",
                            "    }\n",
                            "\n",
                            "    .dataframe thead th {\n",
                            "        text-align: right;\n",
                            "    }\n",
                            "</style>\n",
                            "<table border=\"1\" class=\"dataframe\">\n",
                            "  <thead>\n",
                            "    <tr style=\"text-align: right;\">\n",
                            "      <th></th>\n",
                            "      <th>price</th>\n",
                            "      <th>volume</th>\n",
                            "    </tr>\n",
                            "  </thead>\n",
                            "  <tbody>\n",
                            "    <tr>\n",
                            "      <th>percentil_10</th>\n",
                            "      <td>0.970</td>\n",
                            "      <td>8174.655</td>\n",
                            "    </tr>\n",
                            "    <tr>\n",
                            "      <th>median</th>\n",
                            "      <td>1.345</td>\n",
                            "      <td>157175.090</td>\n",
                            "    </tr>\n",
                            "    <tr>\n",
                            "      <th>percentil_90</th>\n",
                            "      <td>1.750</td>\n",
                            "      <td>1810981.615</td>\n",
                            "    </tr>\n",
                            "  </tbody>\n",
                            "</table>\n",
                            "</div>"
                        ],
                        "text/plain": [
                            "              price       volume\n",
                            "percentil_10  0.970     8174.655\n",
                            "median        1.345   157175.090\n",
                            "percentil_90  1.750  1810981.615"
                        ]
                    },
                    "execution_count": 88,
                    "metadata": {},
                    "output_type": "execute_result"
                }
            ],
            "source": [
                "def percentil_10(x): return x.quantile(.10)\n",
                "def percentil_90(x): return x.quantile(.90)\n",
                "\n",
                "df[condition][['price','volume']].agg([percentil_10, 'median', percentil_90])"
            ]
        },
        {
            "cell_type": "code",
            "execution_count": 89,
            "metadata": {},
            "outputs": [
                {
                    "data": {
                        "text/html": [
                            "<div>\n",
                            "<style scoped>\n",
                            "    .dataframe tbody tr th:only-of-type {\n",
                            "        vertical-align: middle;\n",
                            "    }\n",
                            "\n",
                            "    .dataframe tbody tr th {\n",
                            "        vertical-align: top;\n",
                            "    }\n",
                            "\n",
                            "    .dataframe thead tr th {\n",
                            "        text-align: left;\n",
                            "    }\n",
                            "\n",
                            "    .dataframe thead tr:last-of-type th {\n",
                            "        text-align: right;\n",
                            "    }\n",
                            "</style>\n",
                            "<table border=\"1\" class=\"dataframe\">\n",
                            "  <thead>\n",
                            "    <tr>\n",
                            "      <th></th>\n",
                            "      <th colspan=\"3\" halign=\"left\">price</th>\n",
                            "      <th colspan=\"3\" halign=\"left\">volume</th>\n",
                            "    </tr>\n",
                            "    <tr>\n",
                            "      <th></th>\n",
                            "      <th>percentil_10</th>\n",
                            "      <th>median</th>\n",
                            "      <th>percentil_90</th>\n",
                            "      <th>percentil_10</th>\n",
                            "      <th>median</th>\n",
                            "      <th>percentil_90</th>\n",
                            "    </tr>\n",
                            "    <tr>\n",
                            "      <th>year</th>\n",
                            "      <th></th>\n",
                            "      <th></th>\n",
                            "      <th></th>\n",
                            "      <th></th>\n",
                            "      <th></th>\n",
                            "      <th></th>\n",
                            "    </tr>\n",
                            "  </thead>\n",
                            "  <tbody>\n",
                            "    <tr>\n",
                            "      <th>2015</th>\n",
                            "      <td>0.96</td>\n",
                            "      <td>1.300</td>\n",
                            "      <td>1.90</td>\n",
                            "      <td>2431.434</td>\n",
                            "      <td>76146.82</td>\n",
                            "      <td>1285267.958</td>\n",
                            "    </tr>\n",
                            "    <tr>\n",
                            "      <th>2016</th>\n",
                            "      <td>0.88</td>\n",
                            "      <td>1.300</td>\n",
                            "      <td>1.86</td>\n",
                            "      <td>4146.935</td>\n",
                            "      <td>109597.29</td>\n",
                            "      <td>1351865.735</td>\n",
                            "    </tr>\n",
                            "    <tr>\n",
                            "      <th>2017</th>\n",
                            "      <td>0.98</td>\n",
                            "      <td>1.490</td>\n",
                            "      <td>2.07</td>\n",
                            "      <td>5889.687</td>\n",
                            "      <td>122915.75</td>\n",
                            "      <td>1398304.817</td>\n",
                            "    </tr>\n",
                            "    <tr>\n",
                            "      <th>2018</th>\n",
                            "      <td>0.97</td>\n",
                            "      <td>1.345</td>\n",
                            "      <td>1.75</td>\n",
                            "      <td>8174.655</td>\n",
                            "      <td>157175.09</td>\n",
                            "      <td>1810981.615</td>\n",
                            "    </tr>\n",
                            "  </tbody>\n",
                            "</table>\n",
                            "</div>"
                        ],
                        "text/plain": [
                            "            price                           volume                        \n",
                            "     percentil_10 median percentil_90 percentil_10     median percentil_90\n",
                            "year                                                                      \n",
                            "2015         0.96  1.300         1.90     2431.434   76146.82  1285267.958\n",
                            "2016         0.88  1.300         1.86     4146.935  109597.29  1351865.735\n",
                            "2017         0.98  1.490         2.07     5889.687  122915.75  1398304.817\n",
                            "2018         0.97  1.345         1.75     8174.655  157175.09  1810981.615"
                        ]
                    },
                    "execution_count": 89,
                    "metadata": {},
                    "output_type": "execute_result"
                }
            ],
            "source": [
                "df.groupby('year')[['price','volume']].agg([percentil_10, 'median', percentil_90])"
            ]
        },
        {
            "attachments": {},
            "cell_type": "markdown",
            "metadata": {},
            "source": [
                "# Summary\n",
                "\n",
                "In this lecture you've learnt:\n",
                "- How to install pandas\n",
                "- About pandas\n",
                "- What are Series and DataFrame data structures\n",
                "- How to create a simple DataFrame\n",
                "- How to load a DataFrame with an external data source\n",
                "- How to access column Series\n",
                "- How to access row Series (index)\n",
                "- The differences between `loc[]` and `iloc[]`\n",
                "- Different ways to start exploring the data general structure\n",
                "- Different ways to access to description statistics\n",
                "- How to look for missing data\n",
                "- How to do data filtering using conditions\n",
                "- How to do sorting\n",
                "- How to do counting\n",
                "- How to group information\n",
                "- How to do aggregation"
            ]
        },
        {
            "attachments": {},
            "cell_type": "markdown",
            "metadata": {},
            "source": [
                "### Facts:\n",
                "- We've only imported pandas!\n",
                "- Almost everything was about accessing and processing the data, and not creating it.\n",
                "\n",
                "\n",
                "### Topics left out maybe for other lectures:\n",
                "- DataFrame operations:\n",
                "  - How to add a column to a DataFrame\n",
                "  - DataFrame inter columns operations\n",
                "  - apply()\n",
                "  - applymap()\n",
                "  - pipe()\n",
                "- Merging DataFrames (merge)\n",
                "- Concatenating DataFrames (concat)\n",
                "- Appending DataFrames, Series or a simple row (append)\n",
                "- Using loops with:\n",
                "  - iterrows()\n",
                "  - itertuples()\n",
                "  - groupby()\n",
                "  \n",
                "### Next lecture\n",
                "- Plotting with PANDAS (showing the importance of plots)\n",
                "- EDA with PANDAS (using Seaborn if possible)"
            ]
        },
        {
            "cell_type": "code",
            "execution_count": null,
            "metadata": {},
            "outputs": [],
            "source": []
        }
    ],
    "metadata": {
        "kernelspec": {
            "display_name": "Python 3 (ipykernel)",
            "language": "python",
            "name": "python3"
        },
        "language_info": {
            "codemirror_mode": {
                "name": "ipython",
                "version": 3
            },
            "file_extension": ".py",
            "mimetype": "text/x-python",
            "name": "python",
            "nbconvert_exporter": "python",
            "pygments_lexer": "ipython3",
            "version": "3.11.4"
        }
    },
    "nbformat": 4,
    "nbformat_minor": 4
}
